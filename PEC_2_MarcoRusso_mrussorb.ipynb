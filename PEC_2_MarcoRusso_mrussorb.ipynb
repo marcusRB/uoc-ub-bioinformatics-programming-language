{
  "nbformat": 4,
  "nbformat_minor": 0,
  "metadata": {
    "kernelspec": {
      "display_name": "Python 3",
      "language": "python",
      "name": "python3"
    },
    "language_info": {
      "codemirror_mode": {
        "name": "ipython",
        "version": 3
      },
      "file_extension": ".py",
      "mimetype": "text/x-python",
      "name": "python",
      "nbconvert_exporter": "python",
      "pygments_lexer": "ipython3",
      "version": "3.8.5"
    },
    "colab": {
      "provenance": [],
      "include_colab_link": true
    }
  },
  "cells": [
    {
      "cell_type": "markdown",
      "metadata": {
        "id": "view-in-github",
        "colab_type": "text"
      },
      "source": [
        "<a href=\"https://colab.research.google.com/github/marcusRB/uoc-ub-bioinformatics-programming-language/blob/master/PEC_2_MarcoRusso_mrussorb.ipynb\" target=\"_parent\"><img src=\"https://colab.research.google.com/assets/colab-badge.svg\" alt=\"Open In Colab\"/></a>"
      ]
    },
    {
      "cell_type": "markdown",
      "metadata": {
        "id": "ECo42kapNL1p"
      },
      "source": [
        "# Programación para la Bioinformática"
      ]
    },
    {
      "cell_type": "markdown",
      "metadata": {
        "id": "hJE3K4I1NL1u"
      },
      "source": [
        "## Unidad 2: Conceptos avanzados de Python"
      ]
    },
    {
      "cell_type": "markdown",
      "source": [
        "## Etiquetas\n",
        "\n",
        "Bienvenidos a la PEC de la unidad 2. Bajo estas lineas encontrareis ejercicios y preguntas cada uno de ellos tendrá una etiqueta que indica los recursos necesarios para resolverlos. Hay tres posibles etiquetas:\n",
        "\n",
        "\n",
        "\n",
        "* **<font color=\"green\" size=\"+2\">MU</font>** **Materiales unidad**: las herramientas necesarias para realizar la actividad se pueden encontrar en los materiales de la asignatura.\n",
        "\n",
        "* **<font color=\"blue\" size=\"+2\">EG</font>** **Consulta externa guiada**: la actividad puede requerir utilizar herramientas que no se encuentran en los materiales de la asignatura, pero el enunciado contiene indicaciones de como encontrar la información adicional necesaria.\n",
        "\n",
        "* **<font color=\"gold\" size=\"+2\">CI</font>** **Consulta externa independiente**: la actividad puede requerir utilizar herramientas que no se encuentran en los materiales de la asignatura, y el enunciado no incluye las indicaciones de como encontrar la información adicional. El estudiante deberá buscar esta información independientemente.\n",
        "\n",
        "## Tests\n",
        "\n",
        "Antes de nada, decir que en el ámbito de la programación es muy común utilizar tests (llamados tests unitarios) durante la codificación de los programas. Los tests sirven para saber si un programa se comporta como se espera. Es decir, sirven para validar la funcionalidad del programa, no para determinar la calidad del código.\n",
        "\n",
        "Así pues, los tests son un gran aliado del programador. Es por eso que la mayoría de los ejercicios e incluso alguna de las preguntas tendran una celda bajo ellas con un comentario en la primera línea con el título: `# Test Ejercicio X` o `Test Pregunta X`\n",
        "\n",
        "**IMPORTANTE**: **no debéis modificar las celdas de test**.\n",
        "\n",
        "Si las ejecutáis, lo que Colab hará será ejecutar el test correspondiente sobre vuestro código. Dependiendo del resultado, sabréis que:\n",
        "\n",
        "* Si el test falla, entonces vuestro código no funciona como se espera. Así pues, tendréis que corregirlo.\n",
        "\n",
        "* Si el test no falla, entonces vuestro código se comporta como se espera. Sin embargo, esto no significa que el el ejercicio sea correcto, ya que hay situaciones en las que se pide usar una determinada función o estructura. Por ejemplo, imaginad que se pide resolver un ejercicio usando un ``for`` y, en su lugar, usáis un ``while``. Pues seguramente vuestro programa pasaría el test (porque funciona como se espera), pero no respeta un requisito del enunciado.\n",
        "\n",
        "**Para poder ejecutar los tests primero debéis ejecutar la siguiente celda de código**: (Tan solo una vez por sesión)"
      ],
      "metadata": {
        "id": "m8Im3-xWg0b-"
      }
    },
    {
      "cell_type": "code",
      "source": [
        "!pip install ipytest\n",
        "import ipytest\n",
        "ipytest.autoconfig()"
      ],
      "metadata": {
        "id": "RDIG09knqPB4",
        "colab": {
          "base_uri": "https://localhost:8080/"
        },
        "outputId": "ea69cd29-d6f6-40b1-c2da-ee6efa25a1d2"
      },
      "execution_count": 1,
      "outputs": [
        {
          "output_type": "stream",
          "name": "stdout",
          "text": [
            "Collecting ipytest\n",
            "  Downloading ipytest-0.14.2-py3-none-any.whl.metadata (17 kB)\n",
            "Requirement already satisfied: ipython in /usr/local/lib/python3.12/dist-packages (from ipytest) (7.34.0)\n",
            "Requirement already satisfied: packaging in /usr/local/lib/python3.12/dist-packages (from ipytest) (25.0)\n",
            "Requirement already satisfied: pytest>=5.4 in /usr/local/lib/python3.12/dist-packages (from ipytest) (8.4.2)\n",
            "Requirement already satisfied: iniconfig>=1 in /usr/local/lib/python3.12/dist-packages (from pytest>=5.4->ipytest) (2.1.0)\n",
            "Requirement already satisfied: pluggy<2,>=1.5 in /usr/local/lib/python3.12/dist-packages (from pytest>=5.4->ipytest) (1.6.0)\n",
            "Requirement already satisfied: pygments>=2.7.2 in /usr/local/lib/python3.12/dist-packages (from pytest>=5.4->ipytest) (2.19.2)\n",
            "Requirement already satisfied: setuptools>=18.5 in /usr/local/lib/python3.12/dist-packages (from ipython->ipytest) (75.2.0)\n",
            "Collecting jedi>=0.16 (from ipython->ipytest)\n",
            "  Downloading jedi-0.19.2-py2.py3-none-any.whl.metadata (22 kB)\n",
            "Requirement already satisfied: decorator in /usr/local/lib/python3.12/dist-packages (from ipython->ipytest) (4.4.2)\n",
            "Requirement already satisfied: pickleshare in /usr/local/lib/python3.12/dist-packages (from ipython->ipytest) (0.7.5)\n",
            "Requirement already satisfied: traitlets>=4.2 in /usr/local/lib/python3.12/dist-packages (from ipython->ipytest) (5.7.1)\n",
            "Requirement already satisfied: prompt-toolkit!=3.0.0,!=3.0.1,<3.1.0,>=2.0.0 in /usr/local/lib/python3.12/dist-packages (from ipython->ipytest) (3.0.52)\n",
            "Requirement already satisfied: backcall in /usr/local/lib/python3.12/dist-packages (from ipython->ipytest) (0.2.0)\n",
            "Requirement already satisfied: matplotlib-inline in /usr/local/lib/python3.12/dist-packages (from ipython->ipytest) (0.1.7)\n",
            "Requirement already satisfied: pexpect>4.3 in /usr/local/lib/python3.12/dist-packages (from ipython->ipytest) (4.9.0)\n",
            "Requirement already satisfied: parso<0.9.0,>=0.8.4 in /usr/local/lib/python3.12/dist-packages (from jedi>=0.16->ipython->ipytest) (0.8.5)\n",
            "Requirement already satisfied: ptyprocess>=0.5 in /usr/local/lib/python3.12/dist-packages (from pexpect>4.3->ipython->ipytest) (0.7.0)\n",
            "Requirement already satisfied: wcwidth in /usr/local/lib/python3.12/dist-packages (from prompt-toolkit!=3.0.0,!=3.0.1,<3.1.0,>=2.0.0->ipython->ipytest) (0.2.14)\n",
            "Downloading ipytest-0.14.2-py3-none-any.whl (18 kB)\n",
            "Downloading jedi-0.19.2-py2.py3-none-any.whl (1.6 MB)\n",
            "\u001b[2K   \u001b[90m━━━━━━━━━━━━━━━━━━━━━━━━━━━━━━━━━━━━━━━━\u001b[0m \u001b[32m1.6/1.6 MB\u001b[0m \u001b[31m29.3 MB/s\u001b[0m eta \u001b[36m0:00:00\u001b[0m\n",
            "\u001b[?25hInstalling collected packages: jedi, ipytest\n",
            "Successfully installed ipytest-0.14.2 jedi-0.19.2\n"
          ]
        }
      ]
    },
    {
      "cell_type": "markdown",
      "metadata": {
        "id": "AUa7KKKCbCgg"
      },
      "source": [
        "Ejercicios y preguntas teóricas\n",
        "-------------------------------\n",
        "\n",
        "A continuación, encontraréis la parte que tenéis que completar en este módulo y las preguntas teóricas a contestar dentro de la sección **ejercicios evaluables**.\n",
        "\n",
        "Además de estos ejercicios, teneís otros dentro de la sección **ejercicios de entrenamiento**. Estos ejercicios no cuentan para la nota de la PEC pero su realización es obligatoria. Si entregáis los evaluables completados pero estos en blanco, tendréis un 0. La finalidad de estos ejercicios es que practiquéis. A diferencia de los evaluables, los ejercicios ejemplo podéis discutirlos en el foro entre vosotros pegando código, etc. Sin limitaciones. Sobre los evaluables también podéis preguntar pero sin compartir código ni dar \"pistas\" sobre como resolverlos a los compañeros.\n"
      ]
    },
    {
      "cell_type": "markdown",
      "source": [
        "###**Ejercicios de entrenamiento**"
      ],
      "metadata": {
        "id": "p3B42yccYOu1"
      }
    },
    {
      "cell_type": "markdown",
      "source": [
        "###Ejercicio entrenamiento 1\n",
        "\n",
        "Añade una linea de código bajo cada comentario para implementar el algoritmo que calculará la distáncia del enlace peptidico (δ(C-N) ≈ 1.32Å) entre dos átomos:\n",
        "\n",
        "(*Actualizado con tuplas, bucles y funciones*)\n",
        "\n",
        "\n",
        "![image.png](data:image/png;base64,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)"
      ],
      "metadata": {
        "id": "Zb9CfDiuoMy2"
      }
    },
    {
      "cell_type": "code",
      "source": [
        "import math\n",
        "\n",
        "# Definimos las coordenadas de los atomos como puntos 3D mediante tuplas\n",
        "carbono = (26.100, 29.253, 5.202)\n",
        "nitrogeno = (26.849, 29.656, 6.217)\n",
        "\n",
        "# Definimos una función que calcule la distáncia entre dos puntos\n",
        "\n",
        "# A completar\n",
        "def distancia(carbono: float,\n",
        "              nitrogeno: float) -> tuple:\n",
        "    \"\"\"\n",
        "    Docstring\n",
        "        We define distance function based on\n",
        "        Args:\n",
        "            carbono float:\n",
        "            nitrogeno float:\n",
        "        Return:\n",
        "            tuple\n",
        "    \"\"\"\n",
        "    dist = math.sqrt(())\n",
        "\n",
        "# Aplicamos la función distancia a los dos atomos\n",
        "print(distancia(carbono, nitrogeno))"
      ],
      "metadata": {
        "id": "2L3p-Lbw-9iz"
      },
      "execution_count": null,
      "outputs": []
    },
    {
      "cell_type": "markdown",
      "source": [
        "### Ejercicio entrenamiento 2\n",
        "\n",
        "¿Por qué el siguiente código no imprime todos los elementos de la lista? Realiza los cambios necesarios para que lo haga"
      ],
      "metadata": {
        "id": "BD8qErt5qeV_"
      }
    },
    {
      "cell_type": "code",
      "source": [
        "lista_planetas = [\"Mercurio\", \"Venus\", \"Tierra\", \"Marte\", \"Júpiter\", \"Saturno\", \"Urano\", \"Neptuno\", \"Plutón\"]\n",
        "\n",
        "i = 1\n",
        "while i <= len(lista_planetas):\n",
        "  print(lista_planetas[i])\n",
        "  i += 1"
      ],
      "metadata": {
        "id": "9sUnYGx4FDPi",
        "outputId": "28fc3082-9059-43a6-f61a-0a4cf5873dfa",
        "colab": {
          "base_uri": "https://localhost:8080/",
          "height": 349
        }
      },
      "execution_count": 2,
      "outputs": [
        {
          "output_type": "stream",
          "name": "stdout",
          "text": [
            "Venus\n",
            "Tierra\n",
            "Marte\n",
            "Júpiter\n",
            "Saturno\n",
            "Urano\n",
            "Neptuno\n",
            "Plutón\n"
          ]
        },
        {
          "output_type": "error",
          "ename": "IndexError",
          "evalue": "list index out of range",
          "traceback": [
            "\u001b[0;31m---------------------------------------------------------------------------\u001b[0m",
            "\u001b[0;31mIndexError\u001b[0m                                Traceback (most recent call last)",
            "\u001b[0;32m/tmp/ipython-input-1155566160.py\u001b[0m in \u001b[0;36m<cell line: 0>\u001b[0;34m()\u001b[0m\n\u001b[1;32m      3\u001b[0m \u001b[0mi\u001b[0m \u001b[0;34m=\u001b[0m \u001b[0;36m1\u001b[0m\u001b[0;34m\u001b[0m\u001b[0;34m\u001b[0m\u001b[0m\n\u001b[1;32m      4\u001b[0m \u001b[0;32mwhile\u001b[0m \u001b[0mi\u001b[0m \u001b[0;34m<=\u001b[0m \u001b[0mlen\u001b[0m\u001b[0;34m(\u001b[0m\u001b[0mlista_planetas\u001b[0m\u001b[0;34m)\u001b[0m\u001b[0;34m:\u001b[0m\u001b[0;34m\u001b[0m\u001b[0;34m\u001b[0m\u001b[0m\n\u001b[0;32m----> 5\u001b[0;31m   \u001b[0mprint\u001b[0m\u001b[0;34m(\u001b[0m\u001b[0mlista_planetas\u001b[0m\u001b[0;34m[\u001b[0m\u001b[0mi\u001b[0m\u001b[0;34m]\u001b[0m\u001b[0;34m)\u001b[0m\u001b[0;34m\u001b[0m\u001b[0;34m\u001b[0m\u001b[0m\n\u001b[0m\u001b[1;32m      6\u001b[0m   \u001b[0mi\u001b[0m \u001b[0;34m+=\u001b[0m \u001b[0;36m1\u001b[0m\u001b[0;34m\u001b[0m\u001b[0;34m\u001b[0m\u001b[0m\n",
            "\u001b[0;31mIndexError\u001b[0m: list index out of range"
          ]
        }
      ]
    },
    {
      "cell_type": "code",
      "source": [
        "# Respuesta\n",
        "print(len(lista_planetas))"
      ],
      "metadata": {
        "id": "KcdT6EK75Skd",
        "outputId": "47187f29-6f21-4009-8513-7094450ed978",
        "colab": {
          "base_uri": "https://localhost:8080/"
        }
      },
      "execution_count": 4,
      "outputs": [
        {
          "output_type": "stream",
          "name": "stdout",
          "text": [
            "9\n"
          ]
        }
      ]
    },
    {
      "cell_type": "markdown",
      "source": [
        "The iteration `while` get the elements from the object `list` named **lista_planetas**. We saw the function return an error, showing the whole list except the first one.\n",
        "\n",
        "Based on the official documentation available here: https://docs.python.org/3/tutorial/datastructures.html , it's important keep in mind that each element of the list, is stored on the Python memory and assigned the position of elements by `index`. The first element indexed start with `0`, the second with `1` and so on. So, after that the explanation, we check the excercise above.\n",
        "\n",
        "**PSEUDOCODE**\n",
        "\n",
        "* create `lista_planet` list object.\n",
        "* We assign the `i= 1`\n",
        "* `while i <= len(lista_planetas):` -> Iterate the list object by `while`, which means while `i` is lower or equals compared with the length of `lista_planetas`, iterate.\n",
        "\n",
        "Checking the length of lista_planetas the results might be 9. But, start with the first `i` or `index` equals 1, is like to skip the first element, remember it's `index = 0`, so start with `Venus`, skipping the Mercurio planet.\n",
        "\n",
        "Showing the planets with line `print(lista_planetas[i])` and increase by 1 in the final line, show the whole lista_planetas except the first one.\n",
        "\n",
        "The return of `IndexError` is justified because the list increase by 1, when the total length is 8, not 9."
      ],
      "metadata": {
        "id": "Wtx39nJkDVfR"
      }
    },
    {
      "cell_type": "code",
      "source": [],
      "metadata": {
        "id": "RvypLLPwDVCJ"
      },
      "execution_count": 3,
      "outputs": []
    },
    {
      "cell_type": "markdown",
      "source": [
        "### Ejercicio entrenamiento 3\n",
        "\n",
        "Implementa de la manera más pythonica que se te ocurra un bucle que tan solo imprima los elementos con índice impar de la lista de planetas"
      ],
      "metadata": {
        "id": "VcQyXS1grGYy"
      }
    },
    {
      "cell_type": "code",
      "source": [
        "lista_planetas = [\"Mercurio\", \"Venus\", \"Tierra\", \"Marte\", \"Júpiter\", \"Saturno\", \"Urano\", \"Neptuno\", \"Plutón\"]\n",
        "\n",
        "# Respuesta"
      ],
      "metadata": {
        "id": "CYZzPC_-KsGz"
      },
      "execution_count": null,
      "outputs": []
    },
    {
      "cell_type": "markdown",
      "source": [
        "###Ejercicio entrenamiento 4\n",
        "\n",
        "Escribe un programa que dado un texto, cambie todas las `e` o `E` por 3 y `o` u `O` por 0:"
      ],
      "metadata": {
        "id": "5EDklYoAICyU"
      }
    },
    {
      "cell_type": "code",
      "source": [
        "texto = \"Pero esto importa poco a nuestro cuento: basta que en la narración de él no se salga un punto de la verdad.\"\n",
        "\n",
        "def codifica(t):\n",
        "    # A completar\n",
        "\n",
        "print(codifica(texto))"
      ],
      "metadata": {
        "id": "4V2ItFqhIVk3"
      },
      "execution_count": null,
      "outputs": []
    },
    {
      "cell_type": "markdown",
      "source": [
        "###Ejercicio entrenamiento 5\n",
        "\n",
        "Escribe un programa que dados dos diccionarios con posibles claves repetidas y valores por cada clave de tipo numérico, devuelva un nuevo diccionario con el contenido de los dos diccionarios originales y, si existe una clave repetida, el valor de esa clave sea la media de los valores originales:"
      ],
      "metadata": {
        "id": "yGQqC4O4PM7u"
      }
    },
    {
      "cell_type": "code",
      "source": [
        "diccionario_1 = {'melón': 1.5, 'sandía': 3.5, 'uva': 1.0, 'mandarina': 3.1}\n",
        "diccionario_2 = {'melón': 2.5, 'sandía': 1.5, 'platano': 3.0, 'naranja': 4.3}\n",
        "\n",
        "def media_diccionarios(d1, d2):\n",
        "    # A completar\n",
        "\n",
        "print(media_diccionarios(diccionario_1, diccionario_2))"
      ],
      "metadata": {
        "id": "vQqErhrMSNAI"
      },
      "execution_count": null,
      "outputs": []
    },
    {
      "cell_type": "markdown",
      "source": [
        "###**Ejercicios evaluables**"
      ],
      "metadata": {
        "id": "jw8Tvo9fkCsE"
      }
    },
    {
      "cell_type": "markdown",
      "metadata": {
        "id": "pHhkfRr3NL1v"
      },
      "source": [
        "### Ejercicio 1 **<font color=\"blue\" size=\"+2\">EG</font>**\n",
        "\n",
        "Completa el código necesario para llevar a cabo las siguientes operaciones:\n",
        "\n",
        "\n",
        "* Calcular la cantidad total de palabras en los textos proporcionados (emplea las variables: `num_palabras_texto1`, `num_palabras_texto2`, `num_palabras_texto3`)\n",
        "* Determinar el número de espacios presentes en un texto (utiliza las variables: `num_espacios_texto1`, `num_espacios_texto2`, `num_espacios_texto3`)\n",
        "* Contar cuántas veces aparece la letra 'a' o 'A' en el texto (usa las variables: `num_letras_texto1`, `num_letras_texto2`, `num_letras_texto3`)\n",
        "\n",
        "Consideraciones:\n",
        "\n",
        "* **La cantidad de espacios en el texto no tiene que estar directamente relacionada con el número de palabras.**\n",
        "* **Justo después del carácter `\\` hay una gran cantidad de espacios entre líneas.**\n",
        "* **Se deben contar todas las apariciones de la letra 'b', sin importar si está en mayúscula o minúscula**"
      ]
    },
    {
      "cell_type": "code",
      "metadata": {
        "id": "8fr4xAUcNL1v"
      },
      "source": [
        "text1 = \"Modern genomics has transformed biological research by providing \\\n",
        "   unprecedented access to DNA sequences. Advances in sequencing technology \\\n",
        "   allow scientists to explore genetic variations and their roles in health \\\n",
        "   and disease. Genomic data analysis is a critical component of precision \\\n",
        "   medicine, enabling doctors to identify potential risk factors and \\\n",
        "   personalize treatments. Despite great progress, challenges remain in \\\n",
        "   managing and interpreting the enormous volume of data generated, \\\n",
        "   requiring new algorithms and scalable computational approaches.\"\n",
        "\n",
        "\n",
        "text2 = \"Proteins are essential biomolecules that perform a wide variety of  \\\n",
        "   functions in living organisms. Structural biology aims to describe the  \\\n",
        "   three-dimensional shape of proteins, which is key to understanding how   \\\n",
        "   they work. Experimental methods such as X-ray crystallography and cryo-EM\\\n",
        "   have been complemented by computational modeling, making it possible to \\\n",
        "   predict structures with increasing accuracy.\"\n",
        "\n",
        "\n",
        "text3 = \"The history of vaccines shows how science can change society. From  \\\n",
        "   the first smallpox vaccine to modern mRNA platforms, vaccination has been \\\n",
        "   a cornerstone of public health. However, scientific advances must be \\\n",
        "   accompanied by trust, accessibility, and effective communication to ensure \\\n",
        "   widespread adoption and impact.\"\n",
        "\n",
        "def count_words(text):\n",
        "    # Cuenta las palabras contenidas en el string texto\n",
        "\n",
        "    # Utilizaremos la función split() para ello, que por defecto separa\n",
        "    # por espacios nuestra cadena de texto. split() nos devuelve una lista\n",
        "    # que podemos contar sus elementos:\n",
        "    num_words = len(text.split())\n",
        "\n",
        "    return num_words\n",
        "\n",
        "\n",
        "def count_spaces(text):\n",
        "    # Cuenta los espacios contenidos en el string texto\n",
        "\n",
        "    # Utilizamos la función count():\n",
        "    num_spaces = text.count(' ')\n",
        "\n",
        "    return num_spaces\n",
        "\n",
        "\n",
        "def count_letters(text, letter='a'):\n",
        "    # Cuenta de letras 'letra' contenidos en texto\n",
        "\n",
        "    # Utilizaremos la función count(), pero en este caso\n",
        "    # pasaremos antes todo a minúsculas:\n",
        "    num_letters = text.lower().count(letter.lower())\n",
        "\n",
        "    return num_letters\n",
        "\n",
        "\n",
        "# Utilizamos las funciones para el text1:\n",
        "num_words_text1 = count_words(text1)\n",
        "num_spaces_text1 = count_spaces(text1)\n",
        "num_letters_text1 = count_letters(text1)\n",
        "\n",
        "# Y también para el text2:\n",
        "num_words_text2 = count_words(text2)\n",
        "num_spaces_text2 = count_spaces(text2)\n",
        "num_letters_text2 = count_letters(text2)\n",
        "\n",
        "# y para el text3:\n",
        "num_words_text3 = count_words(text3)\n",
        "num_spaces_text3 = count_spaces(text3)\n",
        "num_letters_text3 = count_letters(text3)\n"
      ],
      "execution_count": null,
      "outputs": []
    },
    {
      "cell_type": "markdown",
      "metadata": {
        "id": "WATdGIO0NL1z"
      },
      "source": [
        "#### Pista\n",
        "\n",
        "Revisad la documentación de Python correspondiente a la función *count()*: https://docs.python.org/es/3/library/stdtypes.html?highlight=count#str.count"
      ]
    },
    {
      "cell_type": "code",
      "source": [
        "%%ipytest\n",
        "# Test Ejercicio 1\n",
        "def test_texto1():\n",
        "  assert num_words_text1 == 72\n",
        "  assert num_spaces_text1 == 92\n",
        "  assert num_letters_text1 == 44\n",
        "\n",
        "def test_texto2():\n",
        "  assert num_words_text2 == 55\n",
        "  assert num_spaces_text2 == 72\n",
        "  assert num_letters_text2 == 24\n",
        "\n",
        "def test_texto3():\n",
        "  assert num_words_text3 == 45\n",
        "  assert num_spaces_text3 == 57\n",
        "  assert num_letters_text3 == 23"
      ],
      "metadata": {
        "id": "O8_XaofKtAxO",
        "colab": {
          "base_uri": "https://localhost:8080/"
        },
        "outputId": "662772d2-9a66-4550-8e73-ba673743725d"
      },
      "execution_count": null,
      "outputs": [
        {
          "output_type": "stream",
          "name": "stdout",
          "text": [
            "\u001b[32m.\u001b[0m\u001b[32m.\u001b[0m\u001b[32m.\u001b[0m\u001b[32m                                                                                          [100%]\u001b[0m\n",
            "\u001b[32m\u001b[32m\u001b[1m3 passed\u001b[0m\u001b[32m in 0.03s\u001b[0m\u001b[0m\n"
          ]
        }
      ]
    },
    {
      "cell_type": "markdown",
      "metadata": {
        "id": "Hu_2TDozNL1z"
      },
      "source": [
        "### Ejercicio 2 <font color=\"green\" size=\"+2\">MU</font>\n",
        "\n",
        "Implementa las siguientes funciones matemáticas y añade en cada una un comentario explicativo que describa claramente lo que realiza."
      ]
    },
    {
      "cell_type": "code",
      "metadata": {
        "id": "FFu_uq1MNL1z"
      },
      "source": [
        "# Completa las siguientes funciones matemáticas.\n",
        "# ¡Atención al uso de números decimales!\n",
        "# Fijaos que importamos la libreria math\n",
        "import math\n",
        "\n",
        "# Un ejemplo:\n",
        "# Calcula el área de un triángulo equilátero a partir del valor de su lado.\n",
        "def area_equilateral_triangle(side):\n",
        "    return 0.\n",
        "# Calcula el área de un círculo dado su radio.\n",
        "def area_circle(radius):\n",
        "   return 0.\n",
        "# Calcula la longitud de la circunferencia de un círculo dado su radio.\n",
        "def circumference_length(radius):\n",
        "   return 0.\n",
        "# Calcula la hipotenusa de un triángulo rectángulo dados sus dos catetos.\n",
        "def hypotenuse(leg1, leg2):\n",
        "  return 0.\n",
        "\n",
        "# Calcula el área de un rectángulo dada su base y su altura.\n",
        "def area_rectangle(base, height):\n",
        "   return 0.\n",
        "# Calcula el volumen de un cubo dado su lado.\n",
        "def cube_volume(side):\n",
        "   return 0.\n",
        "# Calcula el volumen de una esfera dado su radio.\n",
        "def sphere_volume(radius):\n",
        "   return 0.\n",
        "# Calcula el volumen de un cono dado su radio y altura.\n",
        "def cone_volume(radius, height):\n",
        "   return 0."
      ],
      "execution_count": null,
      "outputs": []
    },
    {
      "cell_type": "code",
      "source": [
        "%%ipytest\n",
        "import pytest\n",
        "\n",
        "# Test Ejercicio 2\n",
        "\n",
        "def test_area_equilateral_triangle():\n",
        "    assert area_equilateral_triangle(4.0) == pytest.approx(6.928203)\n",
        "\n",
        "def test_area_circle():\n",
        "    assert area_circle(2.0) == pytest.approx(12.566371)\n",
        "\n",
        "def test_circumference_length():\n",
        "    assert circumference_length(2.0) == pytest.approx(12.566371)\n",
        "\n",
        "def test_hypotenuse():\n",
        "    assert hypotenuse(6., 8.) == pytest.approx(10.000000)\n",
        "\n",
        "def test_area_rectangle():\n",
        "    assert area_rectangle(7.0, 3.0) == pytest.approx(21.000000)\n",
        "\n",
        "def test_cube_volume():\n",
        "    assert cube_volume(2.) == pytest.approx(8.000000)\n",
        "\n",
        "def test_sphere_volume():\n",
        "    assert sphere_volume(2.) == pytest.approx(33.510321)\n",
        "\n",
        "def test_cone_volume():\n",
        "    assert cone_volume(3., 9.) == pytest.approx(84.823001)\n"
      ],
      "metadata": {
        "id": "sgNHggLOu5wk",
        "colab": {
          "base_uri": "https://localhost:8080/"
        },
        "outputId": "dc2b2b16-2caf-44d1-968a-8fd1d92dfd0f"
      },
      "execution_count": null,
      "outputs": [
        {
          "output_type": "stream",
          "name": "stdout",
          "text": [
            "\u001b[32m.\u001b[0m\u001b[32m.\u001b[0m\u001b[32m.\u001b[0m\u001b[32m.\u001b[0m\u001b[32m.\u001b[0m\u001b[32m.\u001b[0m\u001b[32m.\u001b[0m\u001b[32m.\u001b[0m\u001b[32m                                                                                     [100%]\u001b[0m\n",
            "\u001b[32m\u001b[32m\u001b[1m8 passed\u001b[0m\u001b[32m in 0.04s\u001b[0m\u001b[0m\n"
          ]
        }
      ]
    },
    {
      "cell_type": "markdown",
      "metadata": {
        "id": "Rh_Vx4ybNL10"
      },
      "source": [
        "### Ejercicio 3 <font color=\"green\" size=\"+2\">MU</font>\n",
        "\n",
        "Dada la secuencia de un péptido corto, implementa una función que devuelva en pantalla el aminoácido que se encuentra en la posición 5 de la secuencia activa.\n",
        "\n",
        "Consideraciones:\n",
        "\n",
        "* Ignora los primeros 6 caracteres de la secuencia, ya que corresponden a un identificador interno.\n",
        "* Recuerda que en Python la indexación comienza en 0.\n",
        "* **Incluye un comentario** que documente tu función.\n",
        "\n",
        "Por ejemplo, si tenemos la siguiente secuencia:\n",
        "\n",
        "`Q2345|ABCDEFH`\n",
        "\n",
        "El código debería que devolver:\n",
        "\n",
        "`E`"
      ]
    },
    {
      "cell_type": "code",
      "metadata": {
        "id": "AClQ9zitNL10"
      },
      "source": [
        "# Respuesta"
      ],
      "execution_count": null,
      "outputs": []
    },
    {
      "cell_type": "code",
      "source": [
        "%%ipytest\n",
        "import pytest\n",
        "# Test Ejercicio 3\n",
        "def test_aminoacido_pos5():\n",
        "    assert aminoacid_pos5(\"Q2345|ABCDEFH\") == \"E\"\n",
        "    assert aminoacid_pos5(\"R9876|LMNOPQR\") == \"P\"\n",
        "    assert aminoacid_pos5(\"S4521|GHIJKLT\") == \"K\"\n",
        "    assert aminoacid_pos5(\"T7834|XYZABCD\") == \"B\""
      ],
      "metadata": {
        "id": "SbL7MCYAU1YJ",
        "colab": {
          "base_uri": "https://localhost:8080/"
        },
        "outputId": "3ea5b2e0-59db-429e-cd4c-cc5980e741d4"
      },
      "execution_count": null,
      "outputs": [
        {
          "output_type": "stream",
          "name": "stdout",
          "text": [
            "\u001b[32m.\u001b[0m\u001b[32m                                                                                            [100%]\u001b[0m\n",
            "\u001b[32m\u001b[32m\u001b[1m1 passed\u001b[0m\u001b[32m in 0.01s\u001b[0m\u001b[0m\n"
          ]
        }
      ]
    },
    {
      "cell_type": "markdown",
      "metadata": {
        "id": "-LMIn0eLNL11"
      },
      "source": [
        "### Ejercicio 4 **<font color=\"green\" size=\"+2\">MU</font>**\n",
        "\n",
        "Dada una molécula representada por un string como \"C9-H8-O4\", calcula su masa atómica.\n",
        "Por ejemplo, para la molécula \"C4-H3\", la masa atómica se calcularía de la siguiente forma: `4*12.01 + 3*1.007825.`\n",
        "\n",
        "Desarrolla una solución general accediendo a un diccionario mediante la clave, que en este caso será el tipo de átomo. Por ejemplo, para la molécula C5-H3, deberíamos seguir los siguientes pasos:\n",
        "* Se debe separar la molécula utilizando los guiones como delimitadores (por ejemplo, usando la función `split`, por ejemplo).\n",
        "* Para cada parte de la molécula, como \"C5\" y \"H3\", identifica el tipo de átomo (en este caso, \"C\" y \"H\"). Necesitaremos un bucle de algún tipo aquí.\n",
        "* Accede a un diccionario de masas atómicas, donde la clave es el tipo de átomo (por ejemplo, \"C\" o \"H\") y obtén su masa atómica.\n",
        "* Multiplica la masa atómica de cada átomo por el número de átomos de ese tipo en la molécula.\n",
        "\n",
        "**La función debe llamarse: `calcula_masa_atomica`**\n",
        "\n",
        "Pista: Para un string como  `a = 'C15'`, `a[0]` nos dará el tipo de átomo (\"C\"), y `a[1:]` nos dará el número de átomos (en este caso, \"15\"). **Asegúrate de convertir el número a tipo decimal para poder realizar la multiplicación**."
      ]
    },
    {
      "cell_type": "markdown",
      "metadata": {
        "id": "IXm3hrwqNL11"
      },
      "source": [
        "#### Nota importante\n",
        "\n",
        "Como se especifica en el enunciado, el diccionario ha de crearse sobre la marcha. **Los siguientes ejemplos son incorrectos**:"
      ]
    },
    {
      "cell_type": "code",
      "metadata": {
        "id": "H17Ltu0INL12"
      },
      "source": [
        "# EJEMPLO 1\n",
        "\n",
        "masas = {'H': 1.007825, 'C': 12.01, 'O': 15.9994,\n",
        "         'N': 14.0067, 'S': 31.972071, 'P': 30.973762}\n",
        "\n",
        "# Este primer ejemplo tiene varios problemas:\n",
        "# 1: no tiene en cuenta el parámetro molecula\n",
        "# 2: no utiliza ningún bucle, la solución está \"harcoded\"\n",
        "# 3: la función no tiene return\n",
        "def calcula_masa_atomica(molecula):\n",
        "    masa = masas['C']*13 + masas['H']*18 + masas['O']*2"
      ],
      "execution_count": null,
      "outputs": []
    },
    {
      "cell_type": "code",
      "metadata": {
        "id": "HPjmPJhcNL12"
      },
      "source": [
        "# EJEMPLO 2\n",
        "\n",
        "masas = {'H': 1.007825, 'C': 12.01, 'O': 15.9994,\n",
        "         'N': 14.0067, 'S': 31.972071, 'P': 30.973762}\n",
        "\n",
        "# Este segundo ejemplo sí que utiliza un bucle,\n",
        "# pero no hace uso del diccionario de masas\n",
        "def calcula_masa_atomica(molecula):\n",
        "    masa = 0.0\n",
        "    grupos = molecula.split('-')\n",
        "    for grupo in grupos:\n",
        "        if grupo[0] == 'C':\n",
        "            masa += float(grupo[1:]) * 12.01\n",
        "    return masa\n"
      ],
      "execution_count": null,
      "outputs": []
    },
    {
      "cell_type": "code",
      "metadata": {
        "id": "dc1-O9QqNL11"
      },
      "source": [
        "# Masas atómicas\n",
        "masas = {'H': 1.007825, 'C': 12.01, 'O': 15.9994,\n",
        "         'N': 14.0067, 'S': 31.972071, 'P': 30.973762}\n",
        "\n",
        "\n",
        "def calcula_masa_atomica(molecula):\n",
        "    \"\"\"Calcula la masa atomica de una molecula\"\"\"\n",
        "    # Necesitamos una variable donde acumular todas las masas parciales\n",
        "    # que vayamos calculando en el siguiente bucle:\n",
        "    masa = 0.0\n",
        "\n",
        "    #Codigo a completar\n",
        "\n",
        "    return round(masa, 4)\n"
      ],
      "execution_count": null,
      "outputs": []
    },
    {
      "cell_type": "code",
      "source": [
        "%%ipytest\n",
        "import pytest\n",
        "# Test Ejercicio 4\n",
        "def test_masa_atomica():\n",
        "  assert calcula_masa_atomica('C-H2-O2') == 46.0245\n",
        "  assert calcula_masa_atomica('H-N-O2') == 47.0133\n",
        "  assert calcula_masa_atomica('C4-H11-N5') == 129.1596\n",
        "  assert calcula_masa_atomica('C8-H10-N4-O2') == 194.1838\n",
        "  assert calcula_masa_atomica('C13-H18-O2') == 206.2696\n",
        "  assert calcula_masa_atomica('C20-H15-N') == 269.3241\n",
        "  assert calcula_masa_atomica('C20-H15-N5-O') == 341.3503"
      ],
      "metadata": {
        "id": "BHBMLv1bXd9W",
        "colab": {
          "base_uri": "https://localhost:8080/"
        },
        "outputId": "9c84bbb2-69ad-4283-a9d7-a7a64d0c1f93"
      },
      "execution_count": null,
      "outputs": [
        {
          "output_type": "stream",
          "name": "stdout",
          "text": [
            "\u001b[32m.\u001b[0m\u001b[32m                                                                                            [100%]\u001b[0m\n",
            "\u001b[32m\u001b[32m\u001b[1m1 passed\u001b[0m\u001b[32m in 0.01s\u001b[0m\u001b[0m\n"
          ]
        }
      ]
    },
    {
      "cell_type": "markdown",
      "metadata": {
        "id": "rk2K6IjYNL12"
      },
      "source": [
        "### Ejercicio 5 **<font color=\"blue\" size=\"+2\">EG</font>**\n",
        "\n",
        "El cifrado César es uno de los métodos más antiguos en criptografía (https://es.wikipedia.org/wiki/Cifrado_C%C3%A9sar), usado históricamente por Julio César para enviar mensajes secretos a sus generales. Este cifrado consiste en, para cada letra de un mensaje, aplicar un desplazamiento determinado para obtener una nueva letra.\n",
        "\n",
        "Ejemplo:\n",
        "Si asignamos el número 1 a la primera letra del abecedario, \"A\", 2 a la siguiente, \"B\", y así sucesivamente, considera el siguiente mensaje:\n",
        "```\n",
        "ABC\n",
        "123\n",
        "```\n",
        "\n",
        "Si aplicamos un desplazamiento de 3, el resultado sería:\n",
        "```\n",
        "DEF\n",
        "456\n",
        "```\n",
        "\n",
        "Esto sucede porque, al sumar un desplazamiento de 3 a \"ABC\", obtenemos \"DEF\". También se pueden aplicar desplazamientos negativos. Por ejemplo, con un desplazamiento de -1 en el mensaje \"ABC\", el mensaje cifrado resultante sería \"ZAB\".\n",
        "\n",
        "Desarrolla una función que, **dado un mensaje original y un desplazamiento, calcule y devuelva el mensaje cifrado**:"
      ]
    },
    {
      "cell_type": "code",
      "metadata": {
        "id": "XX9eSGS-NL13"
      },
      "source": [
        "\"\"\"\n",
        "Simplificamos a mayúsculas y solo el abecedario inglés.\n",
        "La letra 'A' corresponde a 65 en ASCII y 'Z' a 90.\n",
        "El abecedario tiene 26 letras.\n",
        "\"\"\"\n",
        "\n",
        "def caesar_cipher(message, shift=1):\n",
        "    \"\"\"\n",
        "    Cifra el mensaje usando el método de César con un desplazamiento dado\n",
        "    \"\"\"\n",
        "    mensaje_cifrado = \"\"\n",
        "\n",
        "    # Codigo a completar\n",
        "\n",
        "    return mensaje_cifrado"
      ],
      "execution_count": null,
      "outputs": []
    },
    {
      "cell_type": "code",
      "source": [
        "%%ipytest\n",
        "# Test Ejercicio 5\n",
        "\n",
        "def test_caesar_cipher():\n",
        "    assert caesar_cipher('ABCD', 2) == \"CDEF\"\n",
        "    assert caesar_cipher('XYZ', 3) == \"ABC\"\n",
        "    assert caesar_cipher('HELLO', 5) == \"MJQQT\"\n",
        "    assert caesar_cipher(\"BIOINFORMATICA\", 0) == \"BIOINFORMATICA\"\n",
        "    assert caesar_cipher(\"BIOINFORMATICA\", 7) == 'IPVPUMVYTHAPJH'\n",
        "    assert caesar_cipher(\"PROGRAMACION PARA LA BIOINFORMATICA\", 26) == \"PROGRAMACION PARA LA BIOINFORMATICA\"\n",
        "    assert caesar_cipher(\"PROGRAMACION PARA LA BIOINFORMATICA\", 6) == \"VXUMXGSGIOUT VGXG RG HOUOTLUXSGZOIG\"\n"
      ],
      "metadata": {
        "id": "s5uAVoBoYsFk"
      },
      "execution_count": null,
      "outputs": []
    },
    {
      "cell_type": "markdown",
      "metadata": {
        "id": "zZ8UpaySNL13"
      },
      "source": [
        "### Ejercicio 6 **<font color=\"blue\" size=\"+2\">EG</font>**\n",
        "\n",
        "El formato PDB se utiliza en el ámbito de la química computacional para almacenar información sobre moléculas en formato de texto.\n",
        "\n",
        "Cada línea que empieza con \"ATOM\" corresponde a un átomo de la molécula:\n",
        "```\n",
        "ATOM      1  N   ARG A   1       0.609  18.920  11.647  1.00 18.79           N\n",
        "ATOM      2  CA  ARG A   1       0.149  17.722  10.984  1.00 13.68           C\n",
        "```\n",
        "\n",
        "Los valores 0.609, 18.920 y 11.647 son las coordenadas x, y, z del primer átomo (un nitrógeno, 'N', última letra de la línea). El segundo átomo es de tipo C (Carbono) y su nombre es CA (Carbono Alfa).\n",
        "\n",
        "Completa el siguiente código para contar la cantidad de átomos encontrados para cada tipo de elemento.\n",
        "\n",
        "Por ejemplo, para las siguientes líneas:\n",
        "```\n",
        "ATOM    211  N   TYR A  27       4.697   8.290  -3.031  1.00 13.35           N\n",
        "ATOM    212  CA  TYR A  27       5.025   8.033  -1.616  0.51 11.29           C\n",
        "ATOM    214  C   TYR A  27       4.189   8.932  -0.730  1.00 10.87           C\n",
        "ATOM    215  O   TYR A  27       3.774  10.030  -1.101  1.00 12.90           O\n",
        "```\n",
        "\n",
        "En este caso, habría dos átomos de tipo C, uno de tipo O y uno de tipo N.\n",
        "\n",
        "\n",
        "\n",
        "**IMPORTANTE: No sabéis de antemano qué tipos de átomos podréis encontrar hasta que no se lea cada línea del archivo. Por lo tanto, no podéis definir una lista o diccionario de átomos encontrados previamente, sino que debe ir actualizándose según vayáis descubriendo nuevos tipos de átomos**.\n",
        "\n",
        "El archivo que utilizaremos está en un [directorio externo](https://gitlab.uoclabs.uoc.es/prog_bioinf/data/-/tree/master/Unidad2) y se llama [1l2y.pdb](https://gitlab.uoclabs.uoc.es/prog_bioinf/data/-/raw/master/Unidad2/1l2y.pdb). El resultado deberá mostrarse en pantalla y guardarse también en un archivo."
      ]
    },
    {
      "cell_type": "markdown",
      "metadata": {
        "id": "vMVKZfqrNL15"
      },
      "source": [
        "#### Pista\n",
        "\n",
        "El siguiente código puede ayudar a entender cómo crear un diccionario de manera dinámica para resolver este ejercicio:"
      ]
    },
    {
      "cell_type": "code",
      "metadata": {
        "id": "B2veBKyQNL15",
        "colab": {
          "base_uri": "https://localhost:8080/"
        },
        "outputId": "1c525ccc-e259-4e9b-f756-e31f94a6c0dd"
      },
      "source": [
        "import os\n",
        "\n",
        "molecula = \"\"\"\n",
        "ATOM    211  N   TYR A  27       4.697   8.290  -3.031  1.00 13.35           N\n",
        "ATOM    212  CA  TYR A  27       5.025   8.033  -1.616  0.51 11.29           C\n",
        "ATOM    214  C   TYR A  27       4.189   8.932  -0.730  1.00 10.87           C\n",
        "ATOM    215  O   TYR A  27       3.774  10.030  -1.101  1.00 12.90           O\n",
        "ATOM    216  CB  TYR A  27       6.509   8.214  -1.310  0.51 12.65           C\n",
        "ATOM    218  CG  TYR A  27       7.406   7.086  -1.795  0.51 14.00           C\n",
        "ATOM    220  CD1 TYR A  27       7.951   6.144  -0.978  0.51 14.16           C\n",
        "ATOM    222  CD2 TYR A  27       7.674   6.963  -3.164  0.51 17.10           C\n",
        "ATOM    224  CE1 TYR A  27       8.752   5.109  -1.405  0.51 14.93           C\n",
        "ATOM    226  CE2 TYR A  27       8.455   5.964  -3.656  0.51 17.43           C\n",
        "ATOM    228  CZ  TYR A  27       8.990   5.041  -2.763  0.51 16.44           C\n",
        "ATOM    230  OH  TYR A  27       9.803   4.026  -3.237  0.51 17.79           O\n",
        "ATOM    232  N   CYS A  28       3.977   8.402   0.487  1.00 10.53           N\n",
        "ATOM    233  CA  CYS A  28       3.295   9.146   1.517  1.00 10.04           C\n",
        "ATOM    234  C   CYS A  28       4.174  10.264   2.053  1.00 10.31           C\n",
        "ATOM    235  O   CYS A  28       5.378  10.108   2.202  1.00 12.91           O\n",
        "ATOM    236  CB  CYS A  28       2.912   8.210   2.680  1.00  9.81           C\n",
        "ATOM    237  SG  CYS A  28       1.804   6.853   2.197  1.00  9.93           S\n",
        "ATOM    238  N   GLY A  29       3.546  11.391   2.430  1.00 10.76           N\n",
        "ATOM    239  CA  GLY A  29       4.295  12.472   3.049  1.00 11.93           C\n",
        "ATOM    240  C   GLY A  29       3.416  13.524   3.596  1.00 12.60           C\n",
        "ATOM    241  O   GLY A  29       3.985  14.574   4.052  1.00 15.82           O\n",
        "ATOM    242  OXT GLY A  29       2.168  13.386   3.672  1.00 11.37           O\n",
        "\"\"\"\n",
        "\n",
        "# Vamos a leer línea por línea cada átomo y guardaremos sus\n",
        "# coordenadas en un diccionario:\n",
        "coordenadas = {}\n",
        "\n",
        "# Separamos el string molecula por los saltos de línea\n",
        "lines = molecula.split(os.linesep)\n",
        "# Ahora iteramos por cada una de las línas\n",
        "for line in lines:\n",
        "    # Si la línea empieza por ATOM:\n",
        "    if line.startswith('ATOM'):\n",
        "        # Vamos a quedarnos con el número de átomo (211, 212, 214, etc.):\n",
        "        campos = line.split()\n",
        "        # El número de átomo se corresponde con el segundo campo\n",
        "        # cuando separamos por espacios la línea. Como los índices\n",
        "        # empiezan en 0, el segundo se corresponde con el índice 1:\n",
        "        num_atom = campos[1]\n",
        "        print(num_atom)\n",
        "\n",
        "        # Ahora obtenemos las coordenadas x, y, z del átomo de\n",
        "        # la misma forma:\n",
        "        x = float(campos[6])\n",
        "        y = float(campos[7])\n",
        "        z = float(campos[8])\n",
        "\n",
        "        # Por último, guardamos en el diccionario para la clave\n",
        "        # del número de átomo las coordenadas:\n",
        "        coordenadas[num_atom] = [x, y, z]\n",
        "\n",
        "# Muestra el diccionario:\n",
        "print(coordenadas)"
      ],
      "execution_count": null,
      "outputs": [
        {
          "output_type": "stream",
          "name": "stdout",
          "text": [
            "211\n",
            "212\n",
            "214\n",
            "215\n",
            "216\n",
            "218\n",
            "220\n",
            "222\n",
            "224\n",
            "226\n",
            "228\n",
            "230\n",
            "232\n",
            "233\n",
            "234\n",
            "235\n",
            "236\n",
            "237\n",
            "238\n",
            "239\n",
            "240\n",
            "241\n",
            "242\n",
            "{'211': [4.697, 8.29, -3.031], '212': [5.025, 8.033, -1.616], '214': [4.189, 8.932, -0.73], '215': [3.774, 10.03, -1.101], '216': [6.509, 8.214, -1.31], '218': [7.406, 7.086, -1.795], '220': [7.951, 6.144, -0.978], '222': [7.674, 6.963, -3.164], '224': [8.752, 5.109, -1.405], '226': [8.455, 5.964, -3.656], '228': [8.99, 5.041, -2.763], '230': [9.803, 4.026, -3.237], '232': [3.977, 8.402, 0.487], '233': [3.295, 9.146, 1.517], '234': [4.174, 10.264, 2.053], '235': [5.378, 10.108, 2.202], '236': [2.912, 8.21, 2.68], '237': [1.804, 6.853, 2.197], '238': [3.546, 11.391, 2.43], '239': [4.295, 12.472, 3.049], '240': [3.416, 13.524, 3.596], '241': [3.985, 14.574, 4.052], '242': [2.168, 13.386, 3.672]}\n"
          ]
        }
      ]
    },
    {
      "cell_type": "code",
      "metadata": {
        "id": "OuEBaB_XNL14"
      },
      "source": [
        "import os\n",
        "\n",
        "\"\"\"\n",
        "El siguiente código es una pista de cómo leer línea por\n",
        "línea los átomos y acceder a su tipo (el último carácter):\n",
        "\n",
        "lines = molecula.split(os.linesep)\n",
        "for line in lines:\n",
        "    if line.startswith('ATOM'):\n",
        "        atomo = line[77].strip()\n",
        "        print atomo\n",
        "\"\"\"\n",
        "\n",
        "def cuenta_atomos(pdb_file_name):\n",
        "\n",
        "    # Guardaremos en esta variable los átomos encontrados:\n",
        "    numero_atomos = dict()\n",
        "\n",
        "    # Abrimos el fichero:\n",
        "    with open(pdb_file_name) as file_content:\n",
        "      #codigo a completar\n",
        "\n",
        "    return numero_atomos\n",
        "\n",
        "\n",
        "!wget -nc https://gitlab.uoclabs.uoc.es/prog_bioinf/data/-/raw/master/Unidad2/1l2y.pdb --no-check-certificate # Descargamos el fichero a nuestro drive\n",
        "resultado = cuenta_atomos('1l2y.pdb')\n",
        "\n",
        "# El resultado debería ser un diccionario con los\n",
        "# siguientes valores:\n",
        "# resultado = {'N':27, 'C':98, 'O':29, 'H':150}\n",
        "\n",
        "#Comose indica en el enunciado el resultado se devolverá por pantalla\n",
        "print(resultado)\n",
        "#y escrito en un fichero\n",
        "with open ('Resultado_Ejercicio6.txt', 'w') as fw:\n",
        "    # codigo a completar"
      ],
      "execution_count": null,
      "outputs": []
    },
    {
      "cell_type": "code",
      "source": [
        "%%ipytest\n",
        "# Test Ejercicio 6\n",
        "def test_cuenta_atomos():\n",
        "  assert cuenta_atomos('1l2y.pdb') == {'N': 27, 'C': 98, 'O': 29, 'H': 150}"
      ],
      "metadata": {
        "id": "ZRmmAGOiZwkd"
      },
      "execution_count": null,
      "outputs": []
    },
    {
      "cell_type": "markdown",
      "metadata": {
        "id": "aaPqnOph3XeU"
      },
      "source": [
        "### Exercici 7 **<font color=\"green\" size=\"+2\">MU</font>**\n",
        "\n",
        "Crea una función llamada **`first_last_same`** que devuelva **`True`** si el primer y el último elemento de una lista de números son idénticos. Si son diferentes, la función debe devolver **`False`**."
      ]
    },
    {
      "cell_type": "code",
      "metadata": {
        "id": "4PgPbPJx3XeV"
      },
      "source": [
        "def first_last_same(numberList):\n",
        "    # Codigo a completar\n"
      ],
      "execution_count": null,
      "outputs": []
    },
    {
      "cell_type": "code",
      "source": [
        "%%ipytest\n",
        "# Test Ejercicio 7\n",
        "def test_first_last_same():\n",
        "    assert first_last_same([5, 12, 7, 5])\n",
        "    assert not first_last_same([3, 8, 9, 4])\n",
        "    assert first_last_same([11, 22, 33, 11])\n",
        "    assert not first_last_same([10, 20, 30, 40])"
      ],
      "metadata": {
        "id": "vzkhxpFM3XeV"
      },
      "execution_count": null,
      "outputs": []
    },
    {
      "cell_type": "markdown",
      "metadata": {
        "id": "8xAb8aEBNL15"
      },
      "source": [
        "### Ejercicio 8 <font color=\"green\" size=\"+2\">MU</font>\n",
        "\n",
        "Para la lista de números proporcionada, genera una lista llamada `even_numbers` que contenga únicamente los números pares. Además, crea otra lista llamada `multiples_of_five` con aquellos que sean múltiplos de 5. Al final, muestra la cantidad de elementos que contiene cada lista.\n",
        "\n",
        "```python\n",
        "numbers = [1204, 3315, 4520, 7790, 8640, 4906, 905, 3121, 8995, 5100,\n",
        "           1600, 3301, 4710, 1080, 150, 6500, 1840, 7000, 5400, 2520,\n",
        "           7350, 505, 6505, 3100, 3000, 9400, 3105, 5150, 9500, 8200,\n",
        "           8100, 8205, 6050, 5980, 8850, 1920, 9000, 2750, 4700, 1490,\n",
        "           5920, 1925, 2010, 7200, 9240, 425, 1780, 6640, 7350, 7430]\n",
        "```"
      ]
    },
    {
      "cell_type": "code",
      "metadata": {
        "id": "1s3eDszWNL15"
      },
      "source": [
        "numbers = [1204, 3315, 4520, 7790, 8640, 4906, 905, 3121, 8995, 5100,\n",
        "           1600, 3301, 4710, 1080, 150, 6500, 1840, 7000, 5400, 2520,\n",
        "           7350, 505, 6505, 3100, 3000, 9400, 3105, 5150, 9500, 8200,\n",
        "           8100, 8205, 6050, 5980, 8850, 1920, 9000, 2750, 4700, 1490,\n",
        "           5920, 1925, 2010, 7200, 9240, 425, 1780, 6640, 7350, 7430]\n",
        "\n",
        "\n",
        "# Respuesta"
      ],
      "execution_count": null,
      "outputs": []
    },
    {
      "cell_type": "code",
      "source": [
        "%%ipytest\n",
        "# Test Ejercicio 8\n",
        "def test_even_numbers():\n",
        "    assert even_numbers == [1204, 4520, 7790, 8640, 4906, 5100, 1600, 4710, 1080, 150, 6500, 1840, 7000, 5400, 2520, 7350, 3100, 3000, 9400, 5150, 9500, 8200, 8100, 6050, 5980, 8850, 1920, 9000, 2750, 4700, 1490, 5920, 2010, 7200, 9240, 1780, 6640, 7350, 7430]\n",
        "def test_num_even():\n",
        "    assert num_even == 39\n",
        "def test_multiples_of_five():\n",
        "    assert multiples_of_five == [3315, 4520, 7790, 8640, 905, 8995, 5100, 1600, 4710, 1080, 150, 6500, 1840, 7000, 5400, 2520, 7350, 505, 6505, 3100, 3000, 9400, 3105, 5150, 9500, 8200, 8100, 8205, 6050, 5980, 8850, 1920, 9000, 2750, 4700, 1490, 5920, 1925, 2010, 7200, 9240, 425, 1780, 6640, 7350, 7430]\n",
        "def test_num_multiples_of_five():\n",
        "    assert num_multiples_of_five == 46\n"
      ],
      "metadata": {
        "id": "aSQIVMyjz2Ba"
      },
      "execution_count": null,
      "outputs": []
    },
    {
      "cell_type": "markdown",
      "metadata": {
        "id": "g7QHlAV4m1I5"
      },
      "source": [
        "### Ejercicio 9 <font color=\"green\" size=\"+2\">MU</font>\n",
        "\n",
        "A partir de dos listas de números, genera una nueva lista llamada `merged_odds` que contenga únicamente los números **impares** presentes en ambas listas."
      ]
    },
    {
      "cell_type": "code",
      "metadata": {
        "id": "YGXGU__zm1VQ"
      },
      "source": [
        "def merge_odd_numbers(list_a, list_b):\n",
        "    merged_odds = []\n",
        "\n",
        "    # Codigo a completar\n",
        "\n",
        "    return merged_odds"
      ],
      "execution_count": null,
      "outputs": []
    },
    {
      "cell_type": "code",
      "source": [
        "%%ipytest\n",
        "# Test Ejercicio 9\n",
        "list_a = [12, 25, 30, 37, 48, 49, 51, 60, 73, 80]\n",
        "list_b = [11, 24, 37, 45, 50, 49, 101, 120]\n",
        "expected_result = [25, 37, 49, 51, 73, 11, 37, 45, 49, 101]\n",
        "\n",
        "def test_merge_odd_numbers():\n",
        "    assert merge_odd_numbers(list_a, list_b) == expected_result"
      ],
      "metadata": {
        "id": "gchbeWK_2G7m",
        "colab": {
          "base_uri": "https://localhost:8080/"
        },
        "outputId": "de4a5717-6c79-4ff5-f501-9a387e9ee7fe"
      },
      "execution_count": null,
      "outputs": [
        {
          "output_type": "stream",
          "name": "stdout",
          "text": [
            "\u001b[32m.\u001b[0m\u001b[32m                                                                                            [100%]\u001b[0m\n",
            "\u001b[32m\u001b[32m\u001b[1m1 passed\u001b[0m\u001b[32m in 0.01s\u001b[0m\u001b[0m\n"
          ]
        }
      ]
    },
    {
      "cell_type": "markdown",
      "metadata": {
        "id": "1gJx_p6FcV_0"
      },
      "source": [
        "### Ejercicio 10 **<font color=\"green\" size=\"+2\">MU</font>**\n",
        "\n",
        "Desarrolla una función llamada `compute_distance` que calcule la distancia euclidiana entre dos puntos en un espacio tridimensional. Los puntos a considerar son: (x_a, y_a, z_a) y (x_b, y_b, z_b)."
      ]
    },
    {
      "cell_type": "code",
      "metadata": {
        "id": "Ufw7yst_cV_2"
      },
      "source": [
        "import math\n",
        "\n",
        "def compute_distance(x_a, y_a, z_a, x_b, y_b, z_b):\n",
        "  dist = 0\n",
        "    #codiog a completar\n",
        "    return dist"
      ],
      "execution_count": null,
      "outputs": []
    },
    {
      "cell_type": "code",
      "source": [
        "%%ipytest\n",
        "import pytest\n",
        "\n",
        "# Test Ejercicio 10\n",
        "def test_compute_distance():\n",
        "    assert compute_distance(2.0, 5.0, 1.0, 3.0, 9.0, 6.0) == pytest.approx(6.48074069840786)\n",
        "    assert compute_distance(-3.0, 2.0, 0.0, 4.0, -3.0, 1.0) == pytest.approx(8.660254037844387)\n",
        "    assert compute_distance(5.0, 1.0, 6.0, -2.0, 14.0, 9.0) == pytest.approx(15.066519173319364)\n"
      ],
      "metadata": {
        "id": "PSPWKBY6cV_3"
      },
      "execution_count": null,
      "outputs": []
    },
    {
      "cell_type": "markdown",
      "metadata": {
        "id": "kRVq9wMzNL16"
      },
      "source": [
        "### Pregunta 1 **<font color=\"blue\" size=\"+2\">EG</font>**\n",
        "\n",
        "El paradigma de programación orientada a objetos se utiliza ampliamente en muchas de las bibliotecas desarrolladas en Python. Es una forma útil de encapsular información de la que se ocupará el propio objeto donde se ha definido esa información.\n",
        "\n",
        "**Explicad qué son los siguientes conceptos:**\n",
        "\n",
        "* Una clase\n",
        "* Un objeto\n",
        "* Un atributo\n",
        "* Un método\n",
        "* Un constructor\n",
        "* Una superclase y una subclase\n",
        "\n",
        "**Poned un ejemplo de definición de una clase en código Python y un ejemplo de uso de esa misma clase**.\n",
        "\n",
        "**Respuesta:**"
      ]
    },
    {
      "cell_type": "markdown",
      "source": [
        "Tu respuesta"
      ],
      "metadata": {
        "id": "iMGblX77mB5T"
      }
    },
    {
      "cell_type": "markdown",
      "metadata": {
        "id": "duneafFaNL17"
      },
      "source": [
        "### Pregunta 2 **<font color=\"gold\" size=\"+2\">CI</font>**\n",
        "\n",
        "Las excepciones son errores que se detectan durante la ejecución de un programa. Pueden y deben ser gestionadas por el programador para reducir el riesgo de que un programa específico falle de manera no controlada.\n",
        "\n",
        "\n",
        "**Poned ejemplos de tipos de excepción en el lenguaje Python y de cómo se capturan.**\n",
        "\n",
        "**Respuesta:**"
      ]
    },
    {
      "cell_type": "markdown",
      "source": [
        "Tu respuesta"
      ],
      "metadata": {
        "id": "wRaFPK9Sr7H2"
      }
    },
    {
      "cell_type": "markdown",
      "metadata": {
        "id": "2Mtzhz-3pxm-"
      },
      "source": [
        "**Autoria**\n",
        "\n",
        "Autores/as que han participado colectivamente en esta obra:\n",
        "\n",
        "\n",
        "*   Pau Andrio Balado\n",
        "*   Brian Jiménez García\n",
        "*   Melchor Sanchez Martinez\n",
        "*   Alba Nin Hill\n",
        "*   Alfonso Saera Vila\n",
        "\n",
        "**Fecha de creación**\n",
        "\n",
        "\n",
        "*   Ultima modificación: Octubre 2024"
      ]
    }
  ]
}