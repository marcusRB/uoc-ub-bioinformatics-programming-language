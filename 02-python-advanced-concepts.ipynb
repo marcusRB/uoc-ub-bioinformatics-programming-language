{
  "cells": [
    {
      "cell_type": "markdown",
      "metadata": {
        "id": "view-in-github",
        "colab_type": "text"
      },
      "source": [
        "<a href=\"https://colab.research.google.com/github/marcusRB/uoc-ub-bioinformatics-programming-language/blob/master/02-python-advanced-concepts.ipynb\" target=\"_parent\"><img src=\"https://colab.research.google.com/assets/colab-badge.svg\" alt=\"Open In Colab\"/></a>"
      ]
    },
    {
      "cell_type": "markdown",
      "metadata": {
        "id": "ECo42kapNL1p"
      },
      "source": [
        "# Programación para la Bioinformática"
      ]
    },
    {
      "cell_type": "markdown",
      "metadata": {
        "id": "hJE3K4I1NL1u"
      },
      "source": [
        "## Unidad 2: Conceptos avanzados de Python"
      ]
    },
    {
      "cell_type": "markdown",
      "metadata": {
        "id": "m8Im3-xWg0b-"
      },
      "source": [
        "## Etiquetas\n",
        "\n",
        "Bienvenidos a la PEC de la unidad 2. Bajo estas lineas encontrareis Ejercicios y preguntas cada uno de ellos tendrá una etiqueta que indica los recursos necesarios para resolverlos. Hay tres posibles etiquetas:\n",
        "\n",
        "\n",
        "\n",
        "* **<font color=\"green\" size=\"+2\">MU</font>** **Materiales unidad**: las herramientas necesarias para realizar la actividad se pueden encontrar en los materiales de la asignatura.\n",
        "\n",
        "* **<font color=\"blue\" size=\"+2\">EG</font>** **Consulta externa guiada**: la actividad puede requerir utilizar herramientas que no se encuentran en los materiales de la asignatura, pero el enunciado contiene indicaciones de como encontrar la información adicional necesaria.\n",
        "\n",
        "* **<font color=\"gold\" size=\"+2\">CI</font>** **Consulta externa independiente**: la actividad puede requerir utilizar herramientas que no se encuentran en los materiales de la asignatura, y el enunciado no incluye las indicaciones de como encontrar la información adicional. El estudiante deberá buscar esta información independientemente.)\n",
        "\n",
        "## Tests\n",
        "\n",
        "Antes de nada, decir que en el ámbito de la programación es muy común utilizar tests (llamados tests unitarios) durante la codificación de los programas. Los tests sirven para saber si un programa se comporta como se espera. Es decir, sirven para validar la funcionalidad del programa, no para determinar la calidad del código.\n",
        "\n",
        "Así pues, los tests son un gran aliado del programador. Es por eso que la mayoría de los ejercicios e incluso alguna de las preguntas tendran una celda bajo ellas con un comentario en la primera línea con el título: `# Test Ejercicio X` o `Test Pregunta X`\n",
        "\n",
        "**IMPORTANTE**: **no debéis modificar las celdas de test**.\n",
        "\n",
        "Si las ejecutáis, lo que CoLab hará será ejecutar el test correspondiente sobre vuestro código. Dependiendo del resultado, sabréis que:\n",
        "\n",
        "* Si el test falla, entonces vuestro código no funciona como se espera. Así pues, tendréis que corregirlo.\n",
        "\n",
        "* Si el test no falla, entonces vuestro código se comporta como se espera. Sin embargo, esto no significa que el el ejercicio sea correcto, ya que hay situaciones en las que se pide usar una determinada función o estructura. Por ejemplo, imaginad que se pide resolver un ejercicio usando un ``for`` y, en su lugar, usáis un ``while``. Pues seguramente vuestro programa pasaría el test (porque funciona como se espera), pero no respeta un requisito del enunciado.\n",
        "\n",
        "**Para poder ejecutar los tests primero debéis ejecutar la siguiente celda de código**: (Tan solo una vez por sesión)"
      ]
    },
    {
      "cell_type": "code",
      "execution_count": null,
      "metadata": {
        "id": "RDIG09knqPB4",
        "outputId": "52fd0b2e-288f-4eb2-d856-32887ff31dbb",
        "colab": {
          "base_uri": "https://localhost:8080/"
        }
      },
      "outputs": [
        {
          "output_type": "stream",
          "name": "stdout",
          "text": [
            "Collecting ipytest\n",
            "  Downloading ipytest-0.14.2-py3-none-any.whl.metadata (17 kB)\n",
            "Requirement already satisfied: ipython in /usr/local/lib/python3.12/dist-packages (from ipytest) (7.34.0)\n",
            "Requirement already satisfied: packaging in /usr/local/lib/python3.12/dist-packages (from ipytest) (25.0)\n",
            "Requirement already satisfied: pytest>=5.4 in /usr/local/lib/python3.12/dist-packages (from ipytest) (8.4.2)\n",
            "Requirement already satisfied: iniconfig>=1 in /usr/local/lib/python3.12/dist-packages (from pytest>=5.4->ipytest) (2.3.0)\n",
            "Requirement already satisfied: pluggy<2,>=1.5 in /usr/local/lib/python3.12/dist-packages (from pytest>=5.4->ipytest) (1.6.0)\n",
            "Requirement already satisfied: pygments>=2.7.2 in /usr/local/lib/python3.12/dist-packages (from pytest>=5.4->ipytest) (2.19.2)\n",
            "Requirement already satisfied: setuptools>=18.5 in /usr/local/lib/python3.12/dist-packages (from ipython->ipytest) (75.2.0)\n",
            "Collecting jedi>=0.16 (from ipython->ipytest)\n",
            "  Downloading jedi-0.19.2-py2.py3-none-any.whl.metadata (22 kB)\n",
            "Requirement already satisfied: decorator in /usr/local/lib/python3.12/dist-packages (from ipython->ipytest) (4.4.2)\n",
            "Requirement already satisfied: pickleshare in /usr/local/lib/python3.12/dist-packages (from ipython->ipytest) (0.7.5)\n",
            "Requirement already satisfied: traitlets>=4.2 in /usr/local/lib/python3.12/dist-packages (from ipython->ipytest) (5.7.1)\n",
            "Requirement already satisfied: prompt-toolkit!=3.0.0,!=3.0.1,<3.1.0,>=2.0.0 in /usr/local/lib/python3.12/dist-packages (from ipython->ipytest) (3.0.52)\n",
            "Requirement already satisfied: backcall in /usr/local/lib/python3.12/dist-packages (from ipython->ipytest) (0.2.0)\n",
            "Requirement already satisfied: matplotlib-inline in /usr/local/lib/python3.12/dist-packages (from ipython->ipytest) (0.1.7)\n",
            "Requirement already satisfied: pexpect>4.3 in /usr/local/lib/python3.12/dist-packages (from ipython->ipytest) (4.9.0)\n",
            "Requirement already satisfied: parso<0.9.0,>=0.8.4 in /usr/local/lib/python3.12/dist-packages (from jedi>=0.16->ipython->ipytest) (0.8.5)\n",
            "Requirement already satisfied: ptyprocess>=0.5 in /usr/local/lib/python3.12/dist-packages (from pexpect>4.3->ipython->ipytest) (0.7.0)\n",
            "Requirement already satisfied: wcwidth in /usr/local/lib/python3.12/dist-packages (from prompt-toolkit!=3.0.0,!=3.0.1,<3.1.0,>=2.0.0->ipython->ipytest) (0.2.14)\n",
            "Downloading ipytest-0.14.2-py3-none-any.whl (18 kB)\n",
            "Downloading jedi-0.19.2-py2.py3-none-any.whl (1.6 MB)\n",
            "\u001b[2K   \u001b[90m━━━━━━━━━━━━━━━━━━━━━━━━━━━━━━━━━━━━━━━━\u001b[0m \u001b[32m1.6/1.6 MB\u001b[0m \u001b[31m20.7 MB/s\u001b[0m eta \u001b[36m0:00:00\u001b[0m\n",
            "\u001b[?25hInstalling collected packages: jedi, ipytest\n",
            "Successfully installed ipytest-0.14.2 jedi-0.19.2\n"
          ]
        }
      ],
      "source": [
        "!pip install ipytest\n",
        "import ipytest\n",
        "ipytest.autoconfig()"
      ]
    },
    {
      "cell_type": "markdown",
      "metadata": {
        "id": "DA7XH8v4ngo1"
      },
      "source": [
        "### **Ejercicios de entrenamiento**"
      ]
    },
    {
      "cell_type": "markdown",
      "metadata": {
        "id": "hMJwDHh-ngo1"
      },
      "source": [
        "###Ejercicio entrenamiento 1\n",
        "\n",
        "Añade una linea de código bajo cada comentario para implementar el algoritmo que calculará la distáncia del enlace peptidico (δ(C-N) ≈ 1.32Å) entre dos átomos:\n",
        "\n",
        "(*Actualizado con tuplas, bucles y funciones*)\n",
        "\n",
        "\n",
        "![image.png](data:image/png;base64,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)"
      ]
    },
    {
      "cell_type": "code",
      "execution_count": null,
      "metadata": {
        "id": "-zSyjvNcngo1",
        "colab": {
          "base_uri": "https://localhost:8080/"
        },
        "outputId": "dfc8a9ff-10b4-4e06-8e30-4a370705495d"
      },
      "outputs": [
        {
          "output_type": "stream",
          "name": "stdout",
          "text": [
            "1.3242488436845987\n"
          ]
        }
      ],
      "source": [
        "import math\n",
        "\n",
        "# Definimos las coordenadas de los atomos como puntos 3D mediante tuplas\n",
        "carbono = (26.100, 29.253, 5.202)\n",
        "nitrogeno = (26.849, 29.656, 6.217)\n",
        "\n",
        "# Definimos una función que calcule la distáncia entre dos puntos\n",
        "\n",
        "# A completar\n",
        "def distancia(carbono: tuple,\n",
        "              nitrogeno: tuple) -> float:\n",
        "    \"\"\"\n",
        "    Docstring:\n",
        "        We define the Euclidean distance between two points p and q,\n",
        "        each given as a sequence (or iterable) of coordinates.\n",
        "        The two points must have the same dimension. The function based on\n",
        "        is available from the official documentation\n",
        "        at the link: https://docs.python.org/3/library/math.html#math.dist\n",
        "        sqrt(sum((px - qx) ** 2.0 for px, qx in zip(p, q)))\n",
        "        Args:\n",
        "            carbono tuple:\n",
        "            nitrogeno tuple:\n",
        "        Return:\n",
        "            float\n",
        "    \"\"\"\n",
        "    # We replicate the distance function using the function zip to iterate\n",
        "    # between two given arguments.\n",
        "    # math.sqrt(sum((px - qx) ** 2.0 for px, qx in zip(p, q)))\n",
        "    dist = math.sqrt(sum((px - qx) ** 2.0 for px, qx in zip(carbono, nitrogeno)))\n",
        "    return dist\n",
        "\n",
        "# Aplicamos la función distancia a los dos atomos\n",
        "print(distancia(carbono, nitrogeno))"
      ]
    },
    {
      "cell_type": "markdown",
      "metadata": {
        "id": "KyyBZwmBngo2"
      },
      "source": [
        "### Ejercicio entrenamiento 2\n",
        "\n",
        "¿Por qué el siguiente código no imprime todos los elementos de la lista? Realiza los cambios necesarios para que lo haga"
      ]
    },
    {
      "cell_type": "code",
      "execution_count": null,
      "metadata": {
        "id": "MesT-lEHngo2",
        "colab": {
          "base_uri": "https://localhost:8080/",
          "height": 349
        },
        "outputId": "5531903b-096c-4cc6-c422-b8945f364660"
      },
      "outputs": [
        {
          "output_type": "stream",
          "name": "stdout",
          "text": [
            "Venus\n",
            "Tierra\n",
            "Marte\n",
            "Júpiter\n",
            "Saturno\n",
            "Urano\n",
            "Neptuno\n",
            "Plutón\n"
          ]
        },
        {
          "output_type": "error",
          "ename": "IndexError",
          "evalue": "list index out of range",
          "traceback": [
            "\u001b[0;31m---------------------------------------------------------------------------\u001b[0m",
            "\u001b[0;31mIndexError\u001b[0m                                Traceback (most recent call last)",
            "\u001b[0;32m/tmp/ipython-input-1155566160.py\u001b[0m in \u001b[0;36m<cell line: 0>\u001b[0;34m()\u001b[0m\n\u001b[1;32m      3\u001b[0m \u001b[0mi\u001b[0m \u001b[0;34m=\u001b[0m \u001b[0;36m1\u001b[0m\u001b[0;34m\u001b[0m\u001b[0;34m\u001b[0m\u001b[0m\n\u001b[1;32m      4\u001b[0m \u001b[0;32mwhile\u001b[0m \u001b[0mi\u001b[0m \u001b[0;34m<=\u001b[0m \u001b[0mlen\u001b[0m\u001b[0;34m(\u001b[0m\u001b[0mlista_planetas\u001b[0m\u001b[0;34m)\u001b[0m\u001b[0;34m:\u001b[0m\u001b[0;34m\u001b[0m\u001b[0;34m\u001b[0m\u001b[0m\n\u001b[0;32m----> 5\u001b[0;31m   \u001b[0mprint\u001b[0m\u001b[0;34m(\u001b[0m\u001b[0mlista_planetas\u001b[0m\u001b[0;34m[\u001b[0m\u001b[0mi\u001b[0m\u001b[0;34m]\u001b[0m\u001b[0;34m)\u001b[0m\u001b[0;34m\u001b[0m\u001b[0;34m\u001b[0m\u001b[0m\n\u001b[0m\u001b[1;32m      6\u001b[0m   \u001b[0mi\u001b[0m \u001b[0;34m+=\u001b[0m \u001b[0;36m1\u001b[0m\u001b[0;34m\u001b[0m\u001b[0;34m\u001b[0m\u001b[0m\n",
            "\u001b[0;31mIndexError\u001b[0m: list index out of range"
          ]
        }
      ],
      "source": [
        "lista_planetas = [\"Mercurio\", \"Venus\", \"Tierra\", \"Marte\", \"Júpiter\", \"Saturno\", \"Urano\", \"Neptuno\", \"Plutón\"]\n",
        "\n",
        "i = 1\n",
        "while i <= len(lista_planetas):\n",
        "  print(lista_planetas[i])\n",
        "  i += 1"
      ]
    },
    {
      "cell_type": "code",
      "execution_count": null,
      "metadata": {
        "id": "z7o3GFKhngo2"
      },
      "outputs": [],
      "source": [
        "# Respuesta"
      ]
    },
    {
      "cell_type": "markdown",
      "source": [
        "The iteration `while` get the elements from the object `list` named **lista_planetas**. We saw the function return an error, showing the whole list except the first one.\n",
        "\n",
        "Based on the official documentation available here: https://docs.python.org/3/tutorial/datastructures.html , it's important keep in mind that each element of the list, is stored on the Python memory and assigned the position of elements by `index`. The first element indexed start with `0`, the second with `1` and so on. So, after that the explanation, we check the excercise above.\n",
        "\n",
        "**PSEUDOCODE**\n",
        "\n",
        "* create `lista_planet` list object.\n",
        "* We assign the `i= 1`\n",
        "* `while i <= len(lista_planetas):` -> Iterate the list object by `while`, which means while `i` is lower or equals compared with the length of `lista_planetas`, iterate.\n",
        "\n",
        "Checking the length of lista_planetas the results might be 9. But, start with the first `i` or `index` equals 1, is like to skip the first element, remember it's `index = 0`, so start with `Venus`, skipping the Mercurio planet.\n",
        "\n",
        "Showing the planets with line `print(lista_planetas[i])` and increase by 1 in the final line, show the whole lista_planetas except the first one.\n",
        "\n",
        "The return of `IndexError` is justified because the list increase by 1, when the total length is 8, not 9."
      ],
      "metadata": {
        "id": "H1lki63FMsTe"
      }
    },
    {
      "cell_type": "markdown",
      "metadata": {
        "id": "B8HK9ulDngo2"
      },
      "source": [
        "### Ejercicio entrenamiento 3\n",
        "\n",
        "Implementa de la manera más pythonica que se te ocurra un bucle que tan solo imprima los elementos con índice impar de la lista de planetas"
      ]
    },
    {
      "cell_type": "code",
      "execution_count": null,
      "metadata": {
        "id": "xirKr-AXngo2",
        "outputId": "1088d0cf-ca53-42da-adf6-03b4c62296c3",
        "colab": {
          "base_uri": "https://localhost:8080/"
        }
      },
      "outputs": [
        {
          "output_type": "stream",
          "name": "stdout",
          "text": [
            "1 Venus\n",
            "3 Marte\n",
            "5 Saturno\n",
            "7 Neptuno\n"
          ]
        }
      ],
      "source": [
        "lista_planetas = [\"Mercurio\", \"Venus\", \"Tierra\", \"Marte\", \"Júpiter\", \"Saturno\", \"Urano\", \"Neptuno\", \"Plutón\"]\n",
        "\n",
        "# Respuesta\n",
        "# Iterate each planet within the list and show the odds index.\n",
        "for idx, planet in enumerate(lista_planetas):\n",
        "    # check if the index is odds and show\n",
        "    if idx % 2 != 0:\n",
        "        print(idx, planet)"
      ]
    },
    {
      "cell_type": "markdown",
      "metadata": {
        "id": "uq7q1Jkingo2"
      },
      "source": [
        "### Ejercicio entrenamiento 4\n",
        "\n",
        "Escribe un programa que dado un texto, cambie todas las `e` o `E` por 3 y `o` u `O` por 0:"
      ]
    },
    {
      "cell_type": "code",
      "execution_count": null,
      "metadata": {
        "id": "oapd8WAjngo2",
        "outputId": "b067e363-7ee1-447b-bcf9-08a0d7f646bc",
        "colab": {
          "base_uri": "https://localhost:8080/"
        }
      },
      "outputs": [
        {
          "output_type": "stream",
          "name": "stdout",
          "text": [
            "P3r0 3st0 imp0rta p0c0 a nu3str0 cu3nt0: basta qu3 3n la narración d3 él n0 s3 salga un punt0 d3 la v3rdad.\n"
          ]
        }
      ],
      "source": [
        "texto = \"Pero esto importa poco a nuestro cuento: basta que en la narración de él no se salga un punto de la verdad.\"\n",
        "\n",
        "def codifica(t):\n",
        "    # A completar\n",
        "    new_text = \"\"\n",
        "    # Itereate each letter in the given text t\n",
        "    for character in t:\n",
        "        # check if the letter is e or E and replace with 3\n",
        "        if character in (\"e\", \"E\"):\n",
        "            new_text += \"3\"\n",
        "        # check if the letter is o or O and replace with 0\n",
        "        elif character in (\"o\", \"O\"):\n",
        "            new_text += \"0\"\n",
        "        else:\n",
        "        # otherwise add the letter in the new string new_text and return results\n",
        "            new_text += character\n",
        "    return new_text\n",
        "\n",
        "print(codifica(texto))"
      ]
    },
    {
      "cell_type": "markdown",
      "metadata": {
        "id": "1qzDvY1fngo2"
      },
      "source": [
        "### Ejercicio entrenamiento 5\n",
        "\n",
        "Escribe un programa que dados dos diccionarios con posibles claves repetidas y valores por cada clave de tipo numérico, devuelva un nuevo diccionario con el contenido de los dos diccionarios originales y, si existe una clave repetida, el valor de esa clave sea la media de los valores originales:"
      ]
    },
    {
      "cell_type": "code",
      "source": [
        "diccionario_1 = {'melón': 1.5, 'sandía': 3.5, 'uva': 1.0, 'mandarina': 3.1}\n",
        "diccionario_2 = {'melón': 2.5, 'sandía': 1.5, 'platano': 3.0, 'naranja': 4.3}\n",
        "\n",
        "new_dict = {}\n",
        "for k,v in zip(diccionario_1.items(), diccionario_2.items()):\n",
        "    print(k,v)\n",
        "    if k in diccionario_1.keys() and k in diccionario_2.keys():\n",
        "       new_dict[k1] = v1\n",
        "    elif k2 not in diccionario_1.keys():\n",
        "        new_dict[k2] = v2\n",
        "    else:\n",
        "        avg_value = round(v1+diccionario_2[k1] % 2, 1)\n",
        "        new_dict[k1] = avg_value\n",
        "print(new_dict)"
      ],
      "metadata": {
        "colab": {
          "base_uri": "https://localhost:8080/",
          "height": 239
        },
        "id": "_7gbqVhQfBX1",
        "outputId": "94f95e4f-c629-4de5-b038-e23c275a2778"
      },
      "execution_count": null,
      "outputs": [
        {
          "output_type": "stream",
          "name": "stdout",
          "text": [
            "('melón', 1.5) ('melón', 2.5)\n"
          ]
        },
        {
          "output_type": "error",
          "ename": "NameError",
          "evalue": "name 'k2' is not defined",
          "traceback": [
            "\u001b[0;31m---------------------------------------------------------------------------\u001b[0m",
            "\u001b[0;31mNameError\u001b[0m                                 Traceback (most recent call last)",
            "\u001b[0;32m/tmp/ipython-input-4159216804.py\u001b[0m in \u001b[0;36m<cell line: 0>\u001b[0;34m()\u001b[0m\n\u001b[1;32m      7\u001b[0m     \u001b[0;32mif\u001b[0m \u001b[0mk\u001b[0m \u001b[0;32min\u001b[0m \u001b[0mdiccionario_1\u001b[0m\u001b[0;34m.\u001b[0m\u001b[0mkeys\u001b[0m\u001b[0;34m(\u001b[0m\u001b[0;34m)\u001b[0m \u001b[0;32mand\u001b[0m \u001b[0mk\u001b[0m \u001b[0;32min\u001b[0m \u001b[0mdiccionario_2\u001b[0m\u001b[0;34m.\u001b[0m\u001b[0mkeys\u001b[0m\u001b[0;34m(\u001b[0m\u001b[0;34m)\u001b[0m\u001b[0;34m:\u001b[0m\u001b[0;34m\u001b[0m\u001b[0;34m\u001b[0m\u001b[0m\n\u001b[1;32m      8\u001b[0m        \u001b[0mnew_dict\u001b[0m\u001b[0;34m[\u001b[0m\u001b[0mk1\u001b[0m\u001b[0;34m]\u001b[0m \u001b[0;34m=\u001b[0m \u001b[0mv1\u001b[0m\u001b[0;34m\u001b[0m\u001b[0;34m\u001b[0m\u001b[0m\n\u001b[0;32m----> 9\u001b[0;31m     \u001b[0;32melif\u001b[0m \u001b[0mk2\u001b[0m \u001b[0;32mnot\u001b[0m \u001b[0;32min\u001b[0m \u001b[0mdiccionario_1\u001b[0m\u001b[0;34m.\u001b[0m\u001b[0mkeys\u001b[0m\u001b[0;34m(\u001b[0m\u001b[0;34m)\u001b[0m\u001b[0;34m:\u001b[0m\u001b[0;34m\u001b[0m\u001b[0;34m\u001b[0m\u001b[0m\n\u001b[0m\u001b[1;32m     10\u001b[0m         \u001b[0mnew_dict\u001b[0m\u001b[0;34m[\u001b[0m\u001b[0mk2\u001b[0m\u001b[0;34m]\u001b[0m \u001b[0;34m=\u001b[0m \u001b[0mv2\u001b[0m\u001b[0;34m\u001b[0m\u001b[0;34m\u001b[0m\u001b[0m\n\u001b[1;32m     11\u001b[0m     \u001b[0;32melse\u001b[0m\u001b[0;34m:\u001b[0m\u001b[0;34m\u001b[0m\u001b[0;34m\u001b[0m\u001b[0m\n",
            "\u001b[0;31mNameError\u001b[0m: name 'k2' is not defined"
          ]
        }
      ]
    },
    {
      "cell_type": "code",
      "execution_count": null,
      "metadata": {
        "id": "9dbVTNEUngo3",
        "colab": {
          "base_uri": "https://localhost:8080/",
          "height": 313
        },
        "outputId": "617b9c3c-c208-41c6-cd8c-fbbc3347b6b5"
      },
      "outputs": [
        {
          "output_type": "error",
          "ename": "TypeError",
          "evalue": "unhashable type: 'dict_keys'",
          "traceback": [
            "\u001b[0;31m---------------------------------------------------------------------------\u001b[0m",
            "\u001b[0;31mTypeError\u001b[0m                                 Traceback (most recent call last)",
            "\u001b[0;32m/tmp/ipython-input-2359955026.py\u001b[0m in \u001b[0;36m<cell line: 0>\u001b[0;34m()\u001b[0m\n\u001b[1;32m     15\u001b[0m     \u001b[0;32mreturn\u001b[0m \u001b[0mnew_dict\u001b[0m\u001b[0;34m\u001b[0m\u001b[0;34m\u001b[0m\u001b[0m\n\u001b[1;32m     16\u001b[0m \u001b[0;34m\u001b[0m\u001b[0m\n\u001b[0;32m---> 17\u001b[0;31m \u001b[0mprint\u001b[0m\u001b[0;34m(\u001b[0m\u001b[0mmedia_diccionarios\u001b[0m\u001b[0;34m(\u001b[0m\u001b[0mdiccionario_1\u001b[0m\u001b[0;34m,\u001b[0m \u001b[0mdiccionario_2\u001b[0m\u001b[0;34m)\u001b[0m\u001b[0;34m)\u001b[0m\u001b[0;34m\u001b[0m\u001b[0;34m\u001b[0m\u001b[0m\n\u001b[0m",
            "\u001b[0;32m/tmp/ipython-input-2359955026.py\u001b[0m in \u001b[0;36mmedia_diccionarios\u001b[0;34m(d1, d2)\u001b[0m\n\u001b[1;32m      5\u001b[0m     \u001b[0;31m# A completar\u001b[0m\u001b[0;34m\u001b[0m\u001b[0;34m\u001b[0m\u001b[0m\n\u001b[1;32m      6\u001b[0m     \u001b[0mnew_dict\u001b[0m \u001b[0;34m=\u001b[0m \u001b[0;34m{\u001b[0m\u001b[0;34m}\u001b[0m\u001b[0;34m\u001b[0m\u001b[0;34m\u001b[0m\u001b[0m\n\u001b[0;32m----> 7\u001b[0;31m     \u001b[0;32mif\u001b[0m \u001b[0md1\u001b[0m\u001b[0;34m.\u001b[0m\u001b[0mkeys\u001b[0m\u001b[0;34m(\u001b[0m\u001b[0;34m)\u001b[0m \u001b[0;32min\u001b[0m \u001b[0md2\u001b[0m\u001b[0;34m.\u001b[0m\u001b[0mkeys\u001b[0m\u001b[0;34m(\u001b[0m\u001b[0;34m)\u001b[0m\u001b[0;34m:\u001b[0m\u001b[0;34m\u001b[0m\u001b[0;34m\u001b[0m\u001b[0m\n\u001b[0m\u001b[1;32m      8\u001b[0m             \u001b[0mkey1\u001b[0m\u001b[0;34m,\u001b[0m \u001b[0mvalue1\u001b[0m \u001b[0;34m=\u001b[0m \u001b[0md1\u001b[0m\u001b[0;34m.\u001b[0m\u001b[0mitems\u001b[0m\u001b[0;34m(\u001b[0m\u001b[0;34m)\u001b[0m\u001b[0;34m\u001b[0m\u001b[0;34m\u001b[0m\u001b[0m\n\u001b[1;32m      9\u001b[0m     \u001b[0;32melif\u001b[0m \u001b[0md2\u001b[0m\u001b[0;34m.\u001b[0m\u001b[0mkeys\u001b[0m\u001b[0;34m(\u001b[0m\u001b[0;34m)\u001b[0m \u001b[0;32min\u001b[0m \u001b[0md1\u001b[0m\u001b[0;34m.\u001b[0m\u001b[0mkeys\u001b[0m\u001b[0;34m(\u001b[0m\u001b[0;34m)\u001b[0m\u001b[0;34m:\u001b[0m\u001b[0;34m\u001b[0m\u001b[0;34m\u001b[0m\u001b[0m\n",
            "\u001b[0;31mTypeError\u001b[0m: unhashable type: 'dict_keys'"
          ]
        }
      ],
      "source": [
        "diccionario_1 = {'melón': 1.5, 'sandía': 3.5, 'uva': 1.0, 'mandarina': 3.1}\n",
        "diccionario_2 = {'melón': 2.5, 'sandía': 1.5, 'platano': 3.0, 'naranja': 4.3}\n",
        "\n",
        "def media_diccionarios(d1, d2):\n",
        "    # A completar\n",
        "    new_dict = {}\n",
        "    if d1.keys() in d2.keys():\n",
        "            key1, value1 = d1.items()\n",
        "    elif d2.keys() in d1.keys():\n",
        "            key2, value2 = d2.items()\n",
        "\n",
        "            avg_value = round(value1+value2 % 2, 1)\n",
        "            new_dict[key1] = avg_value\n",
        "\n",
        "    return new_dict\n",
        "\n",
        "print(media_diccionarios(diccionario_1, diccionario_2))"
      ]
    },
    {
      "cell_type": "markdown",
      "metadata": {
        "id": "z1MBjXtMNL1u"
      },
      "source": [
        "Ejercicios y preguntas teóricas\n",
        "-------------------------------\n",
        "\n",
        "A continuación, encontraréis la parte que tenéis que completar en este modulo y las preguntas teóricas a contestar."
      ]
    },
    {
      "cell_type": "markdown",
      "metadata": {
        "id": "pHhkfRr3NL1v"
      },
      "source": [
        "### Ejercicio 1 **<font color=\"blue\" size=\"+2\">EG</font>**\n",
        "\n",
        "Completa el código necesario para:\n",
        "\n",
        "* Calcular el número de palabras (variables: `num_palabras_texto1`, `num_palabras_texto2`, `num_palabras_texto3`)\n",
        "* Calcular el número de espacios de un texto (variables: `num_espacios_texto1`, `num_espacios_texto2`, `num_espacios_texto3`)\n",
        "* Calcula el número de letras 'd' o 'D' que aparecen (variables: `num_letras_texto1`, `num_letras_texto2`, `num_letras_texto3`)\n",
        "\n",
        "Ten en cuenta lo siguiente:\n",
        "\n",
        "* **El número de espacios no tiene que ser necesariamente función del número de palabras**\n",
        "* **Entre una línea y la siguiente de texto, justo después del carácter '\\' hay un gran número de espacios**\n",
        "* **Hay que contar el número de letras 'd', indistintamente de si son mayúsculas o minúsculas**\n"
      ]
    },
    {
      "cell_type": "code",
      "execution_count": null,
      "metadata": {
        "id": "8fr4xAUcNL1v"
      },
      "outputs": [],
      "source": [
        "texto1 = \"There was no reason to believe that a young black boy at this time, \\\n",
        "    in this place, could in any way alter history. After all, South Africa was \\\n",
        "    then less than a decade removed from full British control. Already, laws \\\n",
        "    were being codified to implement racial segregation and subjugation, \\\n",
        "    the network of laws that would be known as apartheid\"\n",
        "\n",
        "texto2 = \"Bioinformatics can be considered as the application of computer  \\\n",
        "    technology to the understanding and effective use of biological and  \\\n",
        "    clinical data. It is the discipline that acquire, stores, analyses and   \\\n",
        "    interprets the ‘big data’ generated by life science experiments, or clinical\\\n",
        "     data, using computer science. Bioinformatics uses computer programs for a \\\n",
        "     variety of applications, including determining gene and protein functions,\\\n",
        "      establishing evolutionary relationships, and predicting the      \\\n",
        "    three-dimensional shapes of proteins.\"\n",
        "\n",
        "texto3= \"Drug discovery and development pipelines are long, complex and depend \\\n",
        "    on numerous factors. Machine learning (ML) approaches provide a set of \\\n",
        "    tools that can improve discovery and decision making for well-specified \\\n",
        "    questions with abundant, high-quality data. Opportunities to apply ML occur\\\n",
        "    in all stages of drug discovery. Examples include target validation, \\\n",
        "    identification of prognostic biomarkers and analysis of digital pathology  \\\n",
        "    data in clinical trials. Applications have ranged in context and           \\\n",
        "    methodology, with some approaches yielding accurate predictions and   \\\n",
        "    insights. The challenges of applying ML lie primarily with the lack of \\\n",
        "    interpretability and repeatability of ML-generated results, which may limit\\\n",
        "    their application. In all areas, systematic and comprehensive \\\n",
        "    high-dimensional data still need to be generated. With ongoing efforts to  \\\n",
        "    tackle these issues, as well as increasing awareness of the factors needed \\\n",
        "    to validate ML approaches, the application of ML can promote data-driven \\\n",
        "    decision making and has the potential to speed up the process and reduce \\\n",
        "    failure rates in drug discovery and development.\"\n",
        "\n",
        "def contar_palabras(texto):\n",
        "    # Cuenta las palabras contenidas en el string texto\n",
        "\n",
        "    # Utilizaremos la función split() para ello, que por defecto separa\n",
        "    # por espacios nuestra cadena de texto. split() nos devuelve una lista\n",
        "    # que podemos contar sus elementos:\n",
        "    num_palabras = 0\n",
        "\n",
        "    #Codigo a completar\n",
        "    # Save each word in the list after text splitting\n",
        "    num_palabras = len([t for t in texto.split()])\n",
        "    return num_palabras\n",
        "\n",
        "\n",
        "def contar_espacios(texto):\n",
        "    # Cuenta los espacios contenidos en el string texto\n",
        "\n",
        "    # Utilizamos la función count():\n",
        "    num_espacios = 0\n",
        "\n",
        "    #Codigo a completar\n",
        "    # Instead store the words, use lstrip to get spaces at the beginning of\n",
        "    # the text, store in the array and check it.\n",
        "    num_espacios = len([t for t in texto.lstrip() if t in ' '])\n",
        "    return num_espacios\n",
        "\n",
        "\n",
        "def contar_letras(texto, letra='d'):\n",
        "    # Cuenta de letras 'letra' contenidos en texto\n",
        "\n",
        "    # Utilizaremos la función count(), pero en este caso\n",
        "    # pasaremos antes todo a minúsculas:\n",
        "    num_letras = 0\n",
        "\n",
        "    #Codigo a completar\n",
        "    # For each letter of the lower text, find the letter given\n",
        "    num_letras = len([c for c in texto.lower() if c in letra])\n",
        "    return num_letras\n",
        "\n",
        "\n",
        "# Utilizamos la funciones para el texto1:\n",
        "num_palabras_texto1 = contar_palabras(texto1)\n",
        "num_espacios_texto1 = contar_espacios(texto1)\n",
        "num_letras_texto1 = contar_letras(texto1)\n",
        "\n",
        "\n",
        "# Y también para el texto2:\n",
        "num_palabras_texto2 = contar_palabras(texto2)\n",
        "num_espacios_texto2 = contar_espacios(texto2)\n",
        "num_letras_texto2 = contar_letras(texto2)\n",
        "\n",
        "\n",
        "# y para el texto3:\n",
        "num_palabras_texto3 = contar_palabras(texto3)\n",
        "num_espacios_texto3 = contar_espacios(texto3)\n",
        "num_letras_texto3 = contar_letras(texto3)\n"
      ]
    },
    {
      "cell_type": "markdown",
      "metadata": {
        "id": "WATdGIO0NL1z"
      },
      "source": [
        "#### Pista\n",
        "\n",
        "Echad un vistazo a la documentación de Python para la función *count()*: https://docs.python.org/3/library/string.html"
      ]
    },
    {
      "cell_type": "code",
      "execution_count": null,
      "metadata": {
        "colab": {
          "base_uri": "https://localhost:8080/"
        },
        "id": "O8_XaofKtAxO",
        "outputId": "24fd1cae-d681-4872-f66e-647921d444e6"
      },
      "outputs": [
        {
          "output_type": "stream",
          "name": "stdout",
          "text": [
            "\u001b[32m.\u001b[0m\u001b[32m.\u001b[0m\u001b[32m.\u001b[0m\u001b[32m                                                                                          [100%]\u001b[0m\n",
            "\u001b[32m\u001b[32m\u001b[1m3 passed\u001b[0m\u001b[32m in 0.10s\u001b[0m\u001b[0m\n"
          ]
        }
      ],
      "source": [
        "%%ipytest\n",
        "# Test Ejercicio 1\n",
        "def test_texto1():\n",
        "  assert num_palabras_texto1 == 59\n",
        "  assert num_espacios_texto1 == 74\n",
        "  assert num_letras_texto1 == 10\n",
        "\n",
        "def test_texto2():\n",
        "  assert num_palabras_texto2 == 70\n",
        "  assert num_espacios_texto2 == 108\n",
        "  assert num_letras_texto2 == 18\n",
        "\n",
        "def test_texto3():\n",
        "  assert num_palabras_texto3 == 161\n",
        "  assert num_espacios_texto3 == 232\n",
        "  assert num_letras_texto3 == 49"
      ]
    },
    {
      "cell_type": "markdown",
      "metadata": {
        "id": "Hu_2TDozNL1z"
      },
      "source": [
        "### Ejercicio 2 **<font color=\"green\" size=\"+2\">MU</font>**\n",
        "\n",
        "Completad las siguientes funciones matemáticas y documentad el código también de cada función."
      ]
    },
    {
      "cell_type": "code",
      "execution_count": null,
      "metadata": {
        "id": "FFu_uq1MNL1z"
      },
      "outputs": [],
      "source": [
        "# Completa las siguientes funciones matemáticas.\n",
        "# ¡Atención al uso de números decimales!\n",
        "import math\n",
        "\n",
        "# Un ejemplo:\n",
        "def perimetro_cuadrado(lado):\n",
        "    return 4 * lado\n",
        "\n",
        "def diametro_circulo(radio):\n",
        "    # we return a float of radio times 2\n",
        "    return float(radio * 2)\n",
        "\n",
        "def area_triangulo(base, altura):\n",
        "    # we return float for base times height divided by 2\n",
        "    return (base * altura) / 2\n",
        "\n",
        "def perimetro_rectangulo(base, altura):\n",
        "    # we return float 2 times for base plus height\n",
        "    return float(2 * (base + altura))\n",
        "\n",
        "def superficie_esfera(radio):\n",
        "    # we return a float 4 times greek pi times the radio power 2\n",
        "    return 4 * math.pi * (radio ** 2)\n",
        "\n",
        "def volumen_cono(radio, altura):\n",
        "    # to calculate the volumen we return a float values for this\n",
        "    # equation, greek pi times radio power 2 and times heights, divide by 3\n",
        "    return (math.pi * (radio ** 2) * altura) / 3\n",
        "\n",
        "def area_trapecio(base1, base2, altura):\n",
        "    # we return a float value for sum of base1 and base2, divided by 2 and times\n",
        "    # the height.\n",
        "    return ((base1 + base2) / 2) * altura\n",
        "\n",
        "def volumen_prisma(base, altura, profundidad):\n",
        "    # we return a float of base times depth and the result times height.\n",
        "    return float((base * profundidad) * altura)\n"
      ]
    },
    {
      "cell_type": "code",
      "execution_count": null,
      "metadata": {
        "id": "sgNHggLOu5wk",
        "colab": {
          "base_uri": "https://localhost:8080/"
        },
        "outputId": "042e7152-4b9f-4596-f7e0-66d4d798452d"
      },
      "outputs": [
        {
          "output_type": "stream",
          "name": "stdout",
          "text": [
            "\u001b[32m.\u001b[0m\u001b[32m.\u001b[0m\u001b[32m.\u001b[0m\u001b[32m.\u001b[0m\u001b[32m.\u001b[0m\u001b[32m.\u001b[0m\u001b[32m.\u001b[0m\u001b[32m.\u001b[0m\u001b[32m                                                                                     [100%]\u001b[0m\n",
            "\u001b[32m\u001b[32m\u001b[1m8 passed\u001b[0m\u001b[32m in 0.02s\u001b[0m\u001b[0m\n"
          ]
        }
      ],
      "source": [
        "%%ipytest\n",
        "import pytest\n",
        "# Test Ejercicio 2\n",
        "def test_perimetro_cuadrado():\n",
        "  assert perimetro_cuadrado(4.0) == pytest.approx(16.0)\n",
        "\n",
        "def test_diametro_circulo():\n",
        "  assert diametro_circulo(3.0) == pytest.approx(6.0)\n",
        "\n",
        "def test_area_triangulo():\n",
        "  assert area_triangulo(6.0, 4.0) == pytest.approx(12.0)\n",
        "\n",
        "def test_perimetro_rectangulo():\n",
        "  assert perimetro_rectangulo(3.0, 5.0) == pytest.approx(16.0)\n",
        "\n",
        "def test_superficie_esfera():\n",
        "  assert superficie_esfera(1.0) == pytest.approx(12.566371)\n",
        "\n",
        "def test_volumen_cono():\n",
        "  assert volumen_cono(3.0, 5.0) == pytest.approx(47.123889)\n",
        "\n",
        "def test_area_trapecio():\n",
        "  assert area_trapecio(3.0, 5.0, 4.0) == pytest.approx(16.0)\n",
        "\n",
        "def test_volumen_prisma():\n",
        "  assert volumen_prisma(2.0, 3.0, 4.0) == pytest.approx(24.0)\n"
      ]
    },
    {
      "cell_type": "markdown",
      "metadata": {
        "id": "Rh_Vx4ybNL10"
      },
      "source": [
        "### Ejercicio 3 **<font color=\"gold\" size=\"+2\">CI</font>**\n",
        "\n",
        "El siguiente ejercicio consiste en pasar un número en base 2 (binario, 0/1) a base 10 (decimal).\n",
        "\n",
        "Dado un string que representa un número en binario, por ejemplo, `\"101110\"`, crea una función llamada `binario_a_decimal` que devuelva (`return`) el número\n",
        "natural correspondiente, en este caso, 46."
      ]
    },
    {
      "cell_type": "code",
      "execution_count": null,
      "metadata": {
        "id": "AClQ9zitNL10"
      },
      "outputs": [],
      "source": [
        "# We define the function given the first argument in\n",
        "# string format and get an integer result\n",
        "def binario_a_decimal(text_binary: str) -> int:\n",
        "    # Directly use int with base=2, which convert\n",
        "    # the string binary format to decimal\n",
        "    return int(text_binary, base=2)"
      ]
    },
    {
      "cell_type": "code",
      "execution_count": null,
      "metadata": {
        "colab": {
          "base_uri": "https://localhost:8080/"
        },
        "id": "SbL7MCYAU1YJ",
        "outputId": "beb3b2d7-ac1c-4515-ce67-c240b98ff295"
      },
      "outputs": [
        {
          "output_type": "stream",
          "name": "stdout",
          "text": [
            "\u001b[32m.\u001b[0m\u001b[32m                                                                                            [100%]\u001b[0m\n",
            "\u001b[32m\u001b[32m\u001b[1m1 passed\u001b[0m\u001b[32m in 0.01s\u001b[0m\u001b[0m\n"
          ]
        }
      ],
      "source": [
        "%%ipytest\n",
        "import pytest\n",
        "# Test Ejercicio 3\n",
        "def test_binario_a_decimal():\n",
        "  assert binario_a_decimal('1111111') == 127\n",
        "  assert binario_a_decimal('1111') == 15\n",
        "  assert binario_a_decimal('1011') == 11\n",
        "  assert binario_a_decimal('11111110') == 254\n",
        "  assert binario_a_decimal('101110') == 46"
      ]
    },
    {
      "cell_type": "markdown",
      "metadata": {
        "id": "-LMIn0eLNL11"
      },
      "source": [
        "### Ejercicio 4 **<font color=\"green\" size=\"+2\">MU</font>**\n",
        "\n",
        "Dada una molécula representada por un string del estilo `\"C9-H8-O4\"` calcula su masa atómica. Por ejemplo, para una molécula `\"C4-H3\"`, la masa atómica sería de `4*12.01 + 3*1.007825`.\n",
        "\n",
        "Cread una solución general accediendo al diccionario mediante la clave, que en este caso será el tipo de átomo. Por ejemplo, para la molécula C5-H3 deberíamos seguir estos pasos:\n",
        "* Separar la molecula por los guiones (podemos hacerlo con la función split, por ejemplo).\n",
        "* Para cada una de las partes, C5 y H3, encontrar el tipo de átomo: C y H. (Necesitaremos un bucle de algún tipo aquí)\n",
        "* Acceder al diccionario de masas y para la clave que se corresponde con el tipo de átomo, obtener la masa.\n",
        "* Una vez encontrada la masa, multiplicarla por el número de átomos encontrados.\n",
        "\n",
        "**El nombre de la función debe ser: `calcula_masa_atomica`**\n",
        "\n",
        "Pista: para un string del tipo a = 'C15', a[0] nos proporcionará el tipo de átomo, C. a[1:] nos proporciona el string restante: '15'. **Tened en cuenta que ha de convertirse a número decimal para poder multiplicarse**."
      ]
    },
    {
      "cell_type": "code",
      "execution_count": null,
      "metadata": {
        "id": "dc1-O9QqNL11"
      },
      "outputs": [],
      "source": [
        "# Masas atómicas\n",
        "masas = {'H': 1.007825, 'C': 12.01, 'O': 15.9994,\n",
        "         'N': 14.0067, 'S': 31.972071, 'P': 30.973762}\n",
        "\n",
        "\n",
        "def calcula_masa_atomica(molecula):\n",
        "    \"\"\"Calcula la masa atomica de una molecula\"\"\"\n",
        "    # Necesitamos una variable donde acumular todas las masas parciales\n",
        "    # que vayamos calculando en el siguiente bucle:\n",
        "    masa = 0.0\n",
        "\n",
        "    #Codigo a completar\n",
        "    # First we split the molecule given by '-' hash.\n",
        "    # In the list we have the symbol and atoms value.\n",
        "    molecule_list = molecula.split('-')\n",
        "\n",
        "    # Create the dictionary comprehension, using the first element, the symbol\n",
        "    # as key, and integer for the atoms, the last part. Using the conditional\n",
        "    # if not exists atom values, replace by 1\n",
        "    molecule_dict = {m[:1]:int(m[1:]) if m[1:] else 1 for m in molecule_list}\n",
        "\n",
        "    # From python3.8 using the notation variable := in the same list comprehension\n",
        "    # converting in float the result masa and add a value from the corresponding key\n",
        "    # in the masas dictionary given, multiply of corresponding atomic weight\n",
        "    [masa := float(masa + v) for v in (molecule_dict.get(k) * masas.get(k) for k in molecule_dict) ]\n",
        "\n",
        "    # the masa result will be rounded by 4 decimal part\n",
        "    return round(masa, 4)\n"
      ]
    },
    {
      "cell_type": "markdown",
      "metadata": {
        "id": "IXm3hrwqNL11"
      },
      "source": [
        "#### Nota importante\n",
        "\n",
        "Como se especifica en el enunciado, el diccionario ha de crearse sobre la marcha. **Los siguientes ejemplos son incorrectos**:"
      ]
    },
    {
      "cell_type": "code",
      "execution_count": null,
      "metadata": {
        "id": "H17Ltu0INL12"
      },
      "outputs": [],
      "source": [
        "masas = {'H': 1.007825, 'C': 12.01, 'O': 15.9994,\n",
        "         'N': 14.0067, 'S': 31.972071, 'P': 30.973762}\n",
        "\n",
        "# Este primer ejemplo tiene varios problemas:\n",
        "# 1: no tiene en cuenta el parámetro molecula\n",
        "# 2: no utiliza ningún bucle, la solución está \"harcoded\"\n",
        "# 3: la función no tiene return\n",
        "\n",
        "# def calcula_masa_atomica(molecula):\n",
        "#     masa = masas['C']*13 + masas['H']*18 + masas['O']*2"
      ]
    },
    {
      "cell_type": "code",
      "execution_count": null,
      "metadata": {
        "id": "HPjmPJhcNL12"
      },
      "outputs": [],
      "source": [
        "masas = {'H': 1.007825, 'C': 12.01, 'O': 15.9994,\n",
        "         'N': 14.0067, 'S': 31.972071, 'P': 30.973762}\n",
        "\n",
        "# Este segundo ejemplo sí que utiliza un bucle,\n",
        "# pero no hace uso del diccionario de masas\n",
        "\n",
        "\n",
        "# def calcula_masa_atomica(molecula):\n",
        "#     masa = 0.0\n",
        "#     grupos = molecula.split('-')\n",
        "#     for grupo in grupos:\n",
        "#         if grupo[0] == 'C':\n",
        "#             masa += float(grupo[1:]) * 12.01\n",
        "#     return masa\n"
      ]
    },
    {
      "cell_type": "code",
      "execution_count": null,
      "metadata": {
        "colab": {
          "base_uri": "https://localhost:8080/"
        },
        "id": "BHBMLv1bXd9W",
        "outputId": "86758828-7b27-4891-d365-351b51207875"
      },
      "outputs": [
        {
          "output_type": "stream",
          "name": "stdout",
          "text": [
            "\u001b[32m.\u001b[0m\u001b[32m                                                                                            [100%]\u001b[0m\n",
            "\u001b[32m\u001b[32m\u001b[1m1 passed\u001b[0m\u001b[32m in 0.01s\u001b[0m\u001b[0m\n"
          ]
        }
      ],
      "source": [
        "%%ipytest\n",
        "import pytest\n",
        "# Test Ejercicio 4\n",
        "def test_area_cuadrado():\n",
        "  assert calcula_masa_atomica('C-H2-O2') == 46.0245\n",
        "  assert calcula_masa_atomica('C20-H15-N') == 269.3241\n",
        "  assert calcula_masa_atomica('H-N-O2') == 47.0133\n",
        "  assert calcula_masa_atomica('C4-H11-N5') == 129.1596\n",
        "  assert calcula_masa_atomica('C8-H10-N4-O2') == 194.1838\n",
        "  assert calcula_masa_atomica('C20-H15-N5-O') == 341.3503\n",
        "  assert calcula_masa_atomica('C13-H18-O2') == 206.2696"
      ]
    },
    {
      "cell_type": "markdown",
      "metadata": {
        "id": "rk2K6IjYNL12"
      },
      "source": [
        "### Ejercicio 5 **<font color=\"blue\" size=\"+2\">EG</font>**\n",
        "\n",
        "Uno de los algoritmos más básicos en criptografía es el cifrado César (https://es.wikipedia.org/wiki/Cifrado_C%C3%A9sar), que fue utilizado por Julio César para comunicarse con sus generales, y que consiste en dado un texto, por cada una de las letras del texto, añadirle un desplazamiento para conseguir una nueva letra diferente de la original. Comprenderemos rápidamente su mecanismo mediante un ejemplo:\n",
        "\n",
        "Si asignamos el número 1 a la primera letra del abecedario, A, 2 a la siguiente, B, etc., imaginad que tenemos el siguiente mensaje:\n",
        "<code>\n",
        "ABC\n",
        "123\n",
        "</code>\n",
        "\n",
        "Si aplicamos un desplazamiento de 3, buscaremos cuál es la letra en el abecedario que se corresponde:\n",
        "<code>\n",
        "DEF\n",
        "456\n",
        "</code>\n",
        "\n",
        "ABC se ha convertido en DEF porque hemos sumado un desplazamiento de 3. También podríamos aplicar otros tipos de desplazamiento como los negativos. Por ejemplo, para el desplazamiento -1 y el mensaje original ABC tendríamos un mensaje cifrado de: ZAB.\n",
        "\n",
        "Escribid una función que dado un mensaje original y un desplazamiento, calcule y devuelva el mensaje cifrado:"
      ]
    },
    {
      "cell_type": "code",
      "execution_count": null,
      "metadata": {
        "id": "XX9eSGS-NL13"
      },
      "outputs": [],
      "source": [
        "\"\"\"\n",
        "Podemos simplificar sin problemas el uso de palabras solo\n",
        "a mayúsculas y al abecedario en inglés.\n",
        "Vamos a utilizar la propiedad de que la primera letra del\n",
        "abecedario A se corresponde con el entero\n",
        "65 en ASCII y Z con el 90, por lo tanto, tenemos una longitud\n",
        "de abecedario de 90-65+1=26 letras.\n",
        "\"\"\"\n",
        "\n",
        "def cifrado_cesar(mensaje, desplazamiento=1):\n",
        "    \"\"\"\n",
        "    Cifra el mensaje utilizando el metodo de\n",
        "    Cesar dado un desplazamiento\n",
        "    \"\"\"\n",
        "    mensaje_cifrado = \"\"\n",
        "\n",
        "    # Codigo a completar\n",
        "    # First we define the english alphabet\n",
        "    en_alphabet = \"ABCDEFGHIJKLMNOPQRSTUVWXYZ\"\n",
        "\n",
        "    # After, create the logic to achieve per each letter in the mensaje, we need\n",
        "    # to move forward n positions by deplazamiento argument.\n",
        "    # It's important to keep the space eventually and the format, in that case\n",
        "    # the message is uppercase\n",
        "    # Using the list comprehension we explain step by step\n",
        "    # per each letter we need to found the index in the english alphabet, add\n",
        "    # desplazamiento position and obtain by modulo for length of alphabet.\n",
        "    # then, check if the letter in uppercase format exists in the list alphabet.\n",
        "    # If True, return the letter, otherwise the same letter, or example space.\n",
        "    # The list comprehension will be join letter by letter to combine the word.\n",
        "    mensaje_cifrado = \"\".join([\n",
        "    en_alphabet[(en_alphabet.find(letter) + desplazamiento) % len(en_alphabet)]\n",
        "        if letter.upper() in en_alphabet else letter\n",
        "        for letter in mensaje\n",
        "    ])\n",
        "\n",
        "    return mensaje_cifrado"
      ]
    },
    {
      "cell_type": "code",
      "source": [
        "# We show the same example in vertical way, using for and if\n",
        "\n",
        "# en_alphabet = \"ABCDEFGHIJKLMNOPQRSTUVWXYZ\"\n",
        "# mensaje = \"PROGRAMACION PARA LA BIOINFORMATICA\"\n",
        "# desplazamiento = 2\n",
        "# mensaje_cifrado = \"\"\n",
        "\n",
        "# for letter in mensaje:\n",
        "#     if letter in en_alphabet:\n",
        "#         index_original = en_alphabet.find(letter)\n",
        "#         index_nuevo = (index_original + desplazamiento) % len(en_alphabet)\n",
        "#         letra_cifrada = en_alphabet[index_nuevo]\n",
        "#         mensaje_cifrado += letra_cifrada\n",
        "#     else:\n",
        "#         mensaje_cifrado += letter\n",
        "# mensaje_cifrado"
      ],
      "metadata": {
        "id": "2ESP6staNEX4",
        "outputId": "af110906-4398-4c66-924e-a3840158c6b6",
        "colab": {
          "base_uri": "https://localhost:8080/",
          "height": 36
        }
      },
      "execution_count": null,
      "outputs": [
        {
          "output_type": "execute_result",
          "data": {
            "text/plain": [
              "'RTQITCOCEKQP RCTC NC DKQKPHQTOCVKEC'"
            ],
            "application/vnd.google.colaboratory.intrinsic+json": {
              "type": "string"
            }
          },
          "metadata": {},
          "execution_count": 42
        }
      ]
    },
    {
      "cell_type": "code",
      "execution_count": null,
      "metadata": {
        "colab": {
          "base_uri": "https://localhost:8080/"
        },
        "id": "s5uAVoBoYsFk",
        "outputId": "d8559e34-8e88-4ca6-9ef0-66f7b1e0b873"
      },
      "outputs": [
        {
          "output_type": "stream",
          "name": "stdout",
          "text": [
            "\u001b[32m.\u001b[0m\u001b[32m                                                                                            [100%]\u001b[0m\n",
            "\u001b[32m\u001b[32m\u001b[1m1 passed\u001b[0m\u001b[32m in 0.01s\u001b[0m\u001b[0m\n"
          ]
        }
      ],
      "source": [
        "%%ipytest\n",
        "# Test Ejercicio 5\n",
        "def test_cifrado_cesar():\n",
        "  assert cifrado_cesar('ABCD', 27) == \"BCDE\"\n",
        "  assert cifrado_cesar('ABCD', 1) == \"BCDE\"\n",
        "  assert cifrado_cesar('XYZ', 1) == \"YZA\"\n",
        "  assert cifrado_cesar(\"PROGRAMACION PARA LA BIOINFORMATICA\", 26) == \"PROGRAMACION PARA LA BIOINFORMATICA\"\n",
        "  assert cifrado_cesar(\"PROGRAMACION PARA LA BIOINFORMATICA\", 2) == \"RTQITCOCEKQP RCTC NC DKQKPHQTOCVKEC\""
      ]
    },
    {
      "cell_type": "markdown",
      "metadata": {
        "id": "zZ8UpaySNL13"
      },
      "source": [
        "### Ejercicio 6 **<font color=\"blue\" size=\"+2\">EG</font>**\n",
        "\n",
        "El formato PDB se utiliza en química computacional para guardar información sobre moléculas en disco.\n",
        "Cada línea que empieza por ATOM representa un átomo de la molécula:\n",
        "<code>\n",
        "ATOM      1  N   ARG A   1       0.609  18.920  11.647  1.00 18.79           N\n",
        "ATOM      2  CA  ARG A   1       0.149  17.722  10.984  1.00 13.68           C\n",
        "</code>\n",
        "\n",
        "0.609, 18.920 y 11.647 son las coordenadas x, y, z del átomo 1 (un nitrógeno, 'N', última letra de la línea).\n",
        "El segundo átomo es de tipo C (Carbono) y nombre CA (Carbono Alfa).\n",
        "\n",
        "Completad el siguiente código que nos cuente el número de átomos encontrado para cada elemento.\n",
        "\n",
        "Por ejemplo, para las siguientes líneas:\n",
        "<code>\n",
        "ATOM    211  N   TYR A  27       4.697   8.290  -3.031  1.00 13.35           N\n",
        "ATOM    212  CA  TYR A  27       5.025   8.033  -1.616  0.51 11.29           C\n",
        "ATOM    214  C   TYR A  27       4.189   8.932  -0.730  1.00 10.87           C\n",
        "ATOM    215  O   TYR A  27       3.774  10.030  -1.101  1.00 12.90           O\n",
        "</code>\n",
        "\n",
        "Tendríamos dos átomos de tipo C, un átomo de tipo O y otro átomo de tipo N.\n",
        "\n",
        "**IMPORTANTE: Tened en cuenta que a priori no sabéis que tipos de átomo podéis encontrar hasta que no se lee\n",
        "la línea en vuestro código, por lo que no podéis definir una lista o diccionario de átomos encontrados salvo que se defina vacía y vaya actualizándose conforme encontramos tipos de átomos que no habíamos encontrado antes**.\n",
        "\n",
        "El archivo que utilizaremos está en un [directorio externo](https://gitlab.uoclabs.uoc.es/prog_bioinf/data/-/tree/master/Unidad2) y el fichero es [1l2y.pdb](https://gitlab.uoclabs.uoc.es/prog_bioinf/data/-/tree/master/Unidad2/data/1l2y.pdb). El resultado se devolverá por pantalla y escrito en un fichero."
      ]
    },
    {
      "cell_type": "code",
      "execution_count": null,
      "metadata": {
        "id": "OuEBaB_XNL14",
        "outputId": "4f4645ad-da72-43aa-bb71-54a5f4e2c3cc",
        "colab": {
          "base_uri": "https://localhost:8080/"
        }
      },
      "outputs": [
        {
          "output_type": "stream",
          "name": "stdout",
          "text": [
            "--2025-10-24 17:36:52--  https://gitlab.uoclabs.uoc.es/prog_bioinf/data/-/raw/master/Unidad2/1l2y.pdb\n",
            "Resolving gitlab.uoclabs.uoc.es (gitlab.uoclabs.uoc.es)... 18.201.253.30\n",
            "Connecting to gitlab.uoclabs.uoc.es (gitlab.uoclabs.uoc.es)|18.201.253.30|:443... connected.\n",
            "HTTP request sent, awaiting response... 200 OK\n",
            "Length: 24624 (24K) [text/plain]\n",
            "Saving to: ‘1l2y.pdb’\n",
            "\n",
            "1l2y.pdb            100%[===================>]  24.05K  --.-KB/s    in 0.1s    \n",
            "\n",
            "2025-10-24 17:36:52 (229 KB/s) - ‘1l2y.pdb’ saved [24624/24624]\n",
            "\n",
            "{'N': 27, 'C': 98, 'O': 29, 'H': 150}\n"
          ]
        }
      ],
      "source": [
        "import os\n",
        "\n",
        "\"\"\"\n",
        "El siguiente código es una pista de cómo leer línea por\n",
        "línea los átomos y acceder a su tipo (el último carácter):\n",
        "\n",
        "lines = molecula.split(os.linesep)\n",
        "for line in lines:\n",
        "    if line.startswith('ATOM'):\n",
        "        atomo = line[77].strip()\n",
        "        print atomo\n",
        "\"\"\"\n",
        "def cuenta_atomos(pdb_file_name):\n",
        "\n",
        "    # Guardaremos en esta variable los átomos encontrados:\n",
        "    numero_atomos = dict()\n",
        "\n",
        "    # Abrimos el fichero:\n",
        "    with open(pdb_file_name) as file_content:\n",
        "        # Codi a completar, esborreu 'pass'\n",
        "        #lines = file_content.split(os.linesep)\n",
        "        lines = file_content.read().split(os.linesep)\n",
        "        for line in lines:\n",
        "            if line.startswith('ATOM'):\n",
        "                atomo = line[77].strip()\n",
        "                try:\n",
        "                    numero_atomos[atomo] += 1\n",
        "                except KeyError:\n",
        "                    numero_atomos[atomo] = 1\n",
        "            else:\n",
        "                pass\n",
        "    return numero_atomos\n",
        "\n",
        "\n",
        "!wget -nc https://gitlab.uoclabs.uoc.es/prog_bioinf/data/-/raw/master/Unidad2/1l2y.pdb --no-check-certificate # Descargamos el fichero a nuestro drive\n",
        "resultado = cuenta_atomos('1l2y.pdb')\n",
        "\n",
        "# El resultado debería ser un diccionario con los\n",
        "# siguientes valores:\n",
        "# resultado = {'N':27, 'C':98, 'O':29, 'H':150}\n",
        "print(resultado)\n",
        "with open ('Resultado_Ejercicio6.txt', 'w') as fw:\n",
        "    # Codigo a completar\n",
        "    fw.write(str(resultado))"
      ]
    },
    {
      "cell_type": "markdown",
      "metadata": {
        "id": "vMVKZfqrNL15"
      },
      "source": [
        "#### Pista\n",
        "\n",
        "El siguiente código os ayudará a entender cómo crear un diccionario sobre la marcha y programar la solución para este ejercicio:"
      ]
    },
    {
      "cell_type": "code",
      "execution_count": null,
      "metadata": {
        "colab": {
          "base_uri": "https://localhost:8080/"
        },
        "id": "B2veBKyQNL15",
        "outputId": "c4eb9058-5f8d-4cb4-828f-5a4a0db12790"
      },
      "outputs": [
        {
          "output_type": "stream",
          "name": "stdout",
          "text": [
            "211\n",
            "212\n",
            "214\n",
            "215\n",
            "216\n",
            "218\n",
            "220\n",
            "222\n",
            "224\n",
            "226\n",
            "228\n",
            "230\n",
            "232\n",
            "233\n",
            "234\n",
            "235\n",
            "236\n",
            "237\n",
            "238\n",
            "239\n",
            "240\n",
            "241\n",
            "242\n",
            "{'211': [4.697, 8.29, -3.031], '212': [5.025, 8.033, -1.616], '214': [4.189, 8.932, -0.73], '215': [3.774, 10.03, -1.101], '216': [6.509, 8.214, -1.31], '218': [7.406, 7.086, -1.795], '220': [7.951, 6.144, -0.978], '222': [7.674, 6.963, -3.164], '224': [8.752, 5.109, -1.405], '226': [8.455, 5.964, -3.656], '228': [8.99, 5.041, -2.763], '230': [9.803, 4.026, -3.237], '232': [3.977, 8.402, 0.487], '233': [3.295, 9.146, 1.517], '234': [4.174, 10.264, 2.053], '235': [5.378, 10.108, 2.202], '236': [2.912, 8.21, 2.68], '237': [1.804, 6.853, 2.197], '238': [3.546, 11.391, 2.43], '239': [4.295, 12.472, 3.049], '240': [3.416, 13.524, 3.596], '241': [3.985, 14.574, 4.052], '242': [2.168, 13.386, 3.672]}\n"
          ]
        }
      ],
      "source": [
        "import os\n",
        "\n",
        "molecula = \"\"\"\n",
        "ATOM    211  N   TYR A  27       4.697   8.290  -3.031  1.00 13.35           N\n",
        "ATOM    212  CA  TYR A  27       5.025   8.033  -1.616  0.51 11.29           C\n",
        "ATOM    214  C   TYR A  27       4.189   8.932  -0.730  1.00 10.87           C\n",
        "ATOM    215  O   TYR A  27       3.774  10.030  -1.101  1.00 12.90           O\n",
        "ATOM    216  CB  TYR A  27       6.509   8.214  -1.310  0.51 12.65           C\n",
        "ATOM    218  CG  TYR A  27       7.406   7.086  -1.795  0.51 14.00           C\n",
        "ATOM    220  CD1 TYR A  27       7.951   6.144  -0.978  0.51 14.16           C\n",
        "ATOM    222  CD2 TYR A  27       7.674   6.963  -3.164  0.51 17.10           C\n",
        "ATOM    224  CE1 TYR A  27       8.752   5.109  -1.405  0.51 14.93           C\n",
        "ATOM    226  CE2 TYR A  27       8.455   5.964  -3.656  0.51 17.43           C\n",
        "ATOM    228  CZ  TYR A  27       8.990   5.041  -2.763  0.51 16.44           C\n",
        "ATOM    230  OH  TYR A  27       9.803   4.026  -3.237  0.51 17.79           O\n",
        "ATOM    232  N   CYS A  28       3.977   8.402   0.487  1.00 10.53           N\n",
        "ATOM    233  CA  CYS A  28       3.295   9.146   1.517  1.00 10.04           C\n",
        "ATOM    234  C   CYS A  28       4.174  10.264   2.053  1.00 10.31           C\n",
        "ATOM    235  O   CYS A  28       5.378  10.108   2.202  1.00 12.91           O\n",
        "ATOM    236  CB  CYS A  28       2.912   8.210   2.680  1.00  9.81           C\n",
        "ATOM    237  SG  CYS A  28       1.804   6.853   2.197  1.00  9.93           S\n",
        "ATOM    238  N   GLY A  29       3.546  11.391   2.430  1.00 10.76           N\n",
        "ATOM    239  CA  GLY A  29       4.295  12.472   3.049  1.00 11.93           C\n",
        "ATOM    240  C   GLY A  29       3.416  13.524   3.596  1.00 12.60           C\n",
        "ATOM    241  O   GLY A  29       3.985  14.574   4.052  1.00 15.82           O\n",
        "ATOM    242  OXT GLY A  29       2.168  13.386   3.672  1.00 11.37           O\n",
        "\"\"\"\n",
        "\n",
        "# Vamos a leer línea por línea cada átomo y guardaremos sus\n",
        "# coordenadas en un diccionario:\n",
        "coordenadas = {}\n",
        "\n",
        "# Separamos el string molecula por los saltos de línea\n",
        "lines = molecula.split(os.linesep)\n",
        "# Ahora iteramos por cada una de las línas\n",
        "for line in lines:\n",
        "    # Si la línea empieza por ATOM:\n",
        "    if line.startswith('ATOM'):\n",
        "        # Vamos a quedarnos con el número de átomo (211, 212, 214, etc.):\n",
        "        campos = line.split()\n",
        "        # El número de átomo se corresponde con el segundo campo\n",
        "        # cuando separamos por espacios la línea. Como los índices\n",
        "        # empiezan en 0, el segundo se corresponde con el índice 1:\n",
        "        num_atom = campos[1]\n",
        "        print(num_atom)\n",
        "\n",
        "        # Ahora obtenemos las coordenadas x, y, z del átomo de\n",
        "        # la misma forma:\n",
        "        x = float(campos[6])\n",
        "        y = float(campos[7])\n",
        "        z = float(campos[8])\n",
        "\n",
        "        # Por último, guardamos en el diccionario para la clave\n",
        "        # del número de átomo las coordenadas:\n",
        "        coordenadas[num_atom] = [x, y, z]\n",
        "\n",
        "# Muestra el diccionario:\n",
        "print(coordenadas)"
      ]
    },
    {
      "cell_type": "code",
      "execution_count": null,
      "metadata": {
        "colab": {
          "base_uri": "https://localhost:8080/"
        },
        "id": "ZRmmAGOiZwkd",
        "outputId": "dc524355-2b97-43c1-997e-3a5afb539025"
      },
      "outputs": [
        {
          "output_type": "stream",
          "name": "stdout",
          "text": [
            "\u001b[32m.\u001b[0m\u001b[32m                                                                                            [100%]\u001b[0m\n",
            "\u001b[32m\u001b[32m\u001b[1m1 passed\u001b[0m\u001b[32m in 0.01s\u001b[0m\u001b[0m\n"
          ]
        }
      ],
      "source": [
        "%%ipytest\n",
        "# Test Ejercicio 6\n",
        "def test_cuenta_atomos():\n",
        "  assert cuenta_atomos('1l2y.pdb') == {'N': 27, 'C': 98, 'O': 29, 'H': 150}"
      ]
    },
    {
      "cell_type": "markdown",
      "metadata": {
        "id": "21xn1vgxjgCI"
      },
      "source": [
        "### Exercici 7 **<font color=\"green\" size=\"+2\">MU</font>**\n",
        "\n",
        "Escribe una función llamada `first_last_same` que devuelva `True` si el primer y último número de una lista dada es el mismo. Si los números son diferentes, debe devolver `False`."
      ]
    },
    {
      "cell_type": "code",
      "execution_count": null,
      "metadata": {
        "id": "Nzea6aeTjg9f"
      },
      "outputs": [],
      "source": [
        "def first_last_same(numberList):\n",
        "    print(\"Dada la lista:\", numberList)\n",
        "\n",
        "    # A completar\n",
        "    # We keep in result variable the first element of list, index=0\n",
        "    # if equal with the last element of the list, with index -1\n",
        "    result = numberList[0]==numberList[-1]\n",
        "    # Show the result\n",
        "    print(f\"El primer y el último número de la lista son iguales {str(result)}\")\n",
        "    return result\n"
      ]
    },
    {
      "cell_type": "code",
      "execution_count": null,
      "metadata": {
        "colab": {
          "base_uri": "https://localhost:8080/"
        },
        "id": "LIx1KCyYbMPy",
        "outputId": "255c0cdb-47b6-4806-8040-2480b2f0f586"
      },
      "outputs": [
        {
          "output_type": "stream",
          "name": "stdout",
          "text": [
            "\u001b[32m.\u001b[0m\u001b[32m                                                                                            [100%]\u001b[0m\n",
            "\u001b[32m\u001b[32m\u001b[1m1 passed\u001b[0m\u001b[32m in 0.01s\u001b[0m\u001b[0m\n"
          ]
        }
      ],
      "source": [
        "%%ipytest\n",
        "# Test Ejercicio 7\n",
        "def test_first_last_same():\n",
        "  assert first_last_same([10, 20, 30, 40, 10])\n",
        "  assert not first_last_same([10, 20, 30, 40, 11])\n",
        "  assert first_last_same([57, 22, 35, 57, 22, 57])\n",
        "  assert not first_last_same([57, 22, 35, 57, 22, 58])"
      ]
    },
    {
      "cell_type": "markdown",
      "metadata": {
        "id": "8xAb8aEBNL15"
      },
      "source": [
        "### Ejercicio 8 **<font color=\"green\" size=\"+2\">MU</font>**\n",
        "\n",
        "Para la siguiente lista de números, crea una lista llamada `pares` con todos los numeros pares. Y otra lista llamada `multiplos_cuatro` con todos aquellos que sean múltiplos de 4:\n",
        "\n",
        "```python\n",
        "numeros = [2498, 4337, 4880, 7478, 8600, 4516, 865,  3371, 8991, 5129,\n",
        "           1602, 3299, 4707, 1079, 134,  6442, 1839, 7037, 5436, 2517,\n",
        "           7326, 501,  6459, 3133, 2998, 9399, 3096, 5120, 9481, 8182,\n",
        "           8098, 8194, 6028, 5962, 8861, 1917, 8988, 2742, 4735, 1484,\n",
        "           5919, 1915, 2009, 7195, 9236, 423,  1784, 6636, 7348, 7422]\n",
        "```"
      ]
    },
    {
      "cell_type": "code",
      "execution_count": null,
      "metadata": {
        "id": "1s3eDszWNL15"
      },
      "outputs": [],
      "source": [
        "# Tu respuesta"
      ]
    },
    {
      "cell_type": "code",
      "source": [
        "# We create the list of values\n",
        "numeros = [2498, 4337, 4880, 7478, 8600, 4516, 865,  3371, 8991, 5129,\n",
        "           1602, 3299, 4707, 1079, 134,  6442, 1839, 7037, 5436, 2517,\n",
        "           7326, 501,  6459, 3133, 2998, 9399, 3096, 5120, 9481, 8182,\n",
        "           8098, 8194, 6028, 5962, 8861, 1917, 8988, 2742, 4735, 1484,\n",
        "           5919, 1915, 2009, 7195, 9236, 423,  1784, 6636, 7348, 7422]\n",
        "\n",
        "# To solve this exercise, we be able to use list comprehension with condition if\n",
        "# Create the first list of odds\n",
        "pares = [n for n in numeros if n % 2 == 0]\n",
        "\n",
        "# Create the second list of values multiply of four\n",
        "multiplos_cuatro = [n for n in numeros if n % 4 == 0]\n",
        "\n",
        "# Show the results like the example above.\n",
        "print(f\"Números pares: {pares}\")\n",
        "print(f\"Números multiplos de 4: {multiplos_cuatro}\")"
      ],
      "metadata": {
        "id": "55YdnQFenQqX",
        "outputId": "65ee8315-cf5e-447a-caef-4eab5e062e0e",
        "colab": {
          "base_uri": "https://localhost:8080/"
        }
      },
      "execution_count": null,
      "outputs": [
        {
          "output_type": "stream",
          "name": "stdout",
          "text": [
            "Números pares: [2498, 4880, 7478, 8600, 4516, 1602, 134, 6442, 5436, 7326, 2998, 3096, 5120, 8182, 8098, 8194, 6028, 5962, 8988, 2742, 1484, 9236, 1784, 6636, 7348, 7422]\n",
            "Números multiplos de 4: [4880, 8600, 4516, 5436, 3096, 5120, 6028, 8988, 1484, 9236, 1784, 6636, 7348]\n"
          ]
        }
      ]
    },
    {
      "cell_type": "code",
      "execution_count": null,
      "metadata": {
        "colab": {
          "base_uri": "https://localhost:8080/"
        },
        "id": "2EvIF38venVR",
        "outputId": "001b8ef2-f682-4505-a301-75afefed27ed"
      },
      "outputs": [
        {
          "output_type": "stream",
          "name": "stdout",
          "text": [
            "\u001b[32m.\u001b[0m\u001b[32m.\u001b[0m\u001b[32m                                                                                           [100%]\u001b[0m\n",
            "\u001b[32m\u001b[32m\u001b[1m2 passed\u001b[0m\u001b[32m in 0.01s\u001b[0m\u001b[0m\n"
          ]
        }
      ],
      "source": [
        "%%ipytest\n",
        "# Test Ejercicio 8\n",
        "def test_pares():\n",
        "  assert pares == [2498, 4880, 7478, 8600, 4516, 1602, 134, 6442, 5436, 7326, 2998, 3096, 5120, 8182, 8098, 8194, 6028, 5962, 8988, 2742, 1484, 9236, 1784, 6636, 7348, 7422]\n",
        "\n",
        "def test_multiplos_cuatro():\n",
        "  assert multiplos_cuatro == [4880, 8600, 4516, 5436, 3096, 5120, 6028, 8988, 1484, 9236, 1784, 6636, 7348]"
      ]
    },
    {
      "cell_type": "markdown",
      "metadata": {
        "id": "g7QHlAV4m1I5"
      },
      "source": [
        "### Ejercicio 9 **<font color=\"green\" size=\"+2\">MU</font>**\n",
        "\n",
        "Dadas dos listas de números, cread una nueva lista que contenga los números impares de las dos listas"
      ]
    },
    {
      "cell_type": "code",
      "execution_count": null,
      "metadata": {
        "id": "YGXGU__zm1VQ"
      },
      "outputs": [],
      "source": [
        "def merge_list(list1, list2):\n",
        "    result_list = []\n",
        "    #A completar\n",
        "\n",
        "    # To achieve this we use list comprehension\n",
        "    # iterate element by element of both lists if\n",
        "    # the value founded is even and store in the list\n",
        "    # itself.\n",
        "    result_list = [\n",
        "        l for l in list1+list2\n",
        "        if l % 2 != 0\n",
        "        ]\n",
        "    # Show the final list\n",
        "    return result_list"
      ]
    },
    {
      "cell_type": "code",
      "execution_count": null,
      "metadata": {
        "colab": {
          "base_uri": "https://localhost:8080/"
        },
        "id": "Kl9zO7Y0foRx",
        "outputId": "388ef50c-8c1f-4d4a-d9f9-fe5b2424aea4"
      },
      "outputs": [
        {
          "output_type": "stream",
          "name": "stdout",
          "text": [
            "\u001b[32m.\u001b[0m\u001b[32m                                                                                            [100%]\u001b[0m\n",
            "\u001b[32m\u001b[32m\u001b[1m1 passed\u001b[0m\u001b[32m in 0.01s\u001b[0m\u001b[0m\n"
          ]
        }
      ],
      "source": [
        "%%ipytest\n",
        "# Test Ejercicio 9\n",
        "list1 = [10, 20, 25, 30, 35, 47, 2, 4, 16, 19, 21, 23, 51, 56, 1116, 2303]\n",
        "list2 = [40, 45, 60, 75, 90, 81, 5, 9, 44, 66, 27, 95, 101, 1000, 997, 1001]\n",
        "result = [25, 35, 47, 19, 21, 23, 51, 2303, 45, 75, 81, 5, 9, 27, 95, 101, 997, 1001]\n",
        "\n",
        "def test_merge_list():\n",
        "  assert merge_list(list1, list2) == result"
      ]
    },
    {
      "cell_type": "markdown",
      "metadata": {
        "id": "6KPw8AILNL16"
      },
      "source": [
        "### Ejercicio 10 **<font color=\"green\" size=\"+2\">MU</font>**\n",
        "\n",
        "Escribe una función llamada `distance` que calcule la distancia entre dos puntos en el espacio 3D. Estos puntos son (x1, y1, z1) y (x2, y2, z2):"
      ]
    },
    {
      "cell_type": "code",
      "execution_count": null,
      "metadata": {
        "id": "ZrYsKKGPNL16"
      },
      "outputs": [],
      "source": [
        "import math\n",
        "def distance(x1, y1, z1, x2, y2, z2):\n",
        "    \"\"\"Calcula la distancia euclidiana entre dos puntos 3D\"\"\"\n",
        "    d = 0.0\n",
        "    # We use the function math.dist which calculate euclidean distance between\n",
        "    # two points in 3-dimensional space.\n",
        "\n",
        "    # Create two tuples of x,y,z\n",
        "    p = (x1,y1,z1)\n",
        "    q = (x2,y2,z2)\n",
        "    d += math.dist(p,q)\n",
        "    return d"
      ]
    },
    {
      "cell_type": "code",
      "source": [
        "# Other valid alternative to calculate with official formula\n",
        "# using the same distance formula of the first training exercise.\n",
        "\n",
        "# def distance(x1, y1, z1, x2, y2, z2):\n",
        "#     \"\"\"Calcula la distancia euclidiana entre dos puntos 3D\"\"\"\n",
        "#     d = 0.0\n",
        "#\n",
        "#     # We create two tuples with coordinates for both points\n",
        "#     p = (x1,y1,z1)\n",
        "#     q = (x2,y2,z2)\n",
        "#\n",
        "#     # Using the same euclidean formula: sqrt(sum((px - qx) ** 2.0 for px, qx in zip(p, q)))\n",
        "#     # explained in the official math.dist https://docs.python.org/3/library/math.html#math.dist\n",
        "#\n",
        "#     d += math.sqrt(sum((px - qx) ** 2.0 for px, qx in zip(p, q)))\n",
        "#     return d"
      ],
      "metadata": {
        "id": "3M0oer3zyJQZ"
      },
      "execution_count": null,
      "outputs": []
    },
    {
      "cell_type": "code",
      "execution_count": null,
      "metadata": {
        "colab": {
          "base_uri": "https://localhost:8080/"
        },
        "id": "BCWMNoG4gx7Q",
        "outputId": "cf1b0bf3-abac-4888-9259-433a9821b493"
      },
      "outputs": [
        {
          "output_type": "stream",
          "name": "stdout",
          "text": [
            "\u001b[32m.\u001b[0m\u001b[32m                                                                                            [100%]\u001b[0m\n",
            "\u001b[32m\u001b[32m\u001b[1m1 passed\u001b[0m\u001b[32m in 0.01s\u001b[0m\u001b[0m\n"
          ]
        }
      ],
      "source": [
        "%%ipytest\n",
        "import pytest\n",
        "# Test Ejercicio 10\n",
        "def test_distance():\n",
        "  assert distance(1.0, 2.0, 1.0, 2.0, 4.0, 6.0) == pytest.approx(5.477225575051661)\n",
        "  assert distance(3.0, 2.0, -4.0, 7.0, -3.0, 1.0) == pytest.approx(8.12403840463596)\n",
        "  assert distance(5.0, 1.0, 6.0, -2.0, 5.0, 8.0) == pytest.approx(8.306623862918075)"
      ]
    },
    {
      "cell_type": "markdown",
      "metadata": {
        "id": "kRVq9wMzNL16"
      },
      "source": [
        "### Pregunta 1 **<font color=\"blue\" size=\"+2\">EG</font>**\n",
        "\n",
        "El paradigma de programación orientada a objetos se utiliza ampliamente en muchas de las bibliotecas desarrolladas en Python. Es una forma útil de encapsular información de la que se ocupará el propio objeto donde se ha definido esa información.\n",
        "\n",
        "**Explicad qué son los siguientes conceptos:**\n",
        "\n",
        "* Una clase\n",
        "* Un objeto\n",
        "* Un atributo\n",
        "* Un método\n",
        "* Un constructor\n",
        "* Una superclase y una subclase\n",
        "\n",
        "**Poned un ejemplo de definición de una clase en código Python y un ejemplo de uso de esa misma clase**.\n",
        "\n",
        "**Respuesta:**"
      ]
    },
    {
      "cell_type": "markdown",
      "source": [
        "To explain how `class` object works and all the related concepts, we use the official documentation with a clear example explained here: https://docs.python.org/3/tutorial/classes.html\n",
        "\n",
        "Let's start at the beginning. If we think in biology the reign *Animalia*, we have different families and species, right. So, simplify the concept, `Animalia` has **Mammals**, for example, so in that case all mammals has in common some `attributes` and `behaviour` between each species.\n",
        "\n",
        "To understand the concept `class` object, support two of kind of this operations: `attribute` and `instantiation`. For example, a `Dog` has in common attributes with `Cat`, both are mammals, and both have a name, age, four legs, one tail, we be able to identify the sex, the breed.\n",
        "\n",
        "So, when we create a `class` object called `Mammals`  with specific `attributes`, fixed for all the mammals, then we will be able to create other `instances`, like Dog, Cat, Mouse, and so on. That's called `objects` instanciated from the `class` through an operation called `inheritance`, from the main object, the class itself.\n",
        "\n",
        "Now, we know each animal of the class Mammals, have particular behaviour, like, the sound making, or running, eating, jumping, and so on. So, for those of objects, the `method` describe the behaviour for each inherit object.\n",
        "\n",
        "It's important to understand how we create those objects in oriented programming language to relate correctly all different instances.\n",
        "\n",
        "During the process of to create a `class`, we use that syntax:\n",
        "\n",
        "```\n",
        "class Mammals:\n",
        "```\n",
        "\n",
        "It's important use CamelCase format to avoid confusing others variables or functions. Here there are more information explained here: https://docs.python.org/3/tutorial/classes.html#class-definition-syntax\n",
        "\n",
        "The next step, is initialize with attributes, which have all mammals and used\n",
        "by inheritance. It's called `constructor`, by the special notation `__init__`.\n",
        "\n",
        "```\n",
        "class Mammals:\n",
        "    \"\"\"we define the constructor method to initialize attributes in common\n",
        "     with other mammals\"\"\"\n",
        "    def __init__(self, name, age, bread):\n",
        "        self.name = name\n",
        "        self.age = age\n",
        "        self.bread = bread\n",
        "```\n",
        "\n",
        "At this point, it's important to understand the first argument **self** used per each method within `class`. That's why is used to differenciate between self, instanciate directly to class and other one `cls` for `classmethods` itself. Those are called `decorators`, but for now we still continue to understand how **inheritance** works and other concepts.\n",
        "\n",
        "Finally we define the main class Mammals and we initialize by the constructor.\n",
        "In Python, like other programming languages, we need to instanciate to object,\n",
        "such as:\n",
        "\n",
        "```\n",
        "age = 14\n",
        "name = \"dog\"\n",
        "bread = \"bulldog\"\n",
        "\n",
        "mammals = Mammals(age, name, bread)\n",
        "```\n",
        "But we have some weird object here. A Mammal alone specified doesn't make sense. The main idea of the class is to inherite to another object the properties declarated. So, `subclass` is used to specify another object, such as `Cat` because \"import\" some attributes and methods from Mammal class.\n",
        "\n",
        "```\n",
        "# We define the subclass Cat\n",
        "class Cat:\n",
        "    # use again the construct for cat\n",
        "    def __init__(self, color):\n",
        "        self.color = color\n",
        "```\n",
        "\n",
        "Ok, now we understand the logic here, but again, we need to import properties and attributes from Mammals class. The concept we will introduce now is called `superclass`. Wwhen we import from another class, using the `super` method to import first the attributes from the original class, and then the attributes for the inherit class.\n",
        "\n",
        "We complete the example in this way:\n",
        "\n",
        "```\n",
        "# Define again the class Cat import from Mammals their attributes\n",
        "class Cat(Mammals):\n",
        "    # Now initialize the class using superclass from mammals and then\n",
        "    # the attributes for Cat\n",
        "    def __init__(self, name, age, color):\n",
        "        super().__init__(name, age) # their come from Mammals\n",
        "        self.color = color\n",
        "```\n",
        "\n",
        "Now, we have a Cat, or Dog or another mammals \"importing\" from Mammals class all the attributes specified. But we need to create the behaviours for Mammals in general, and then for each object. Their called attributes or `methods`. They are very similar such as a functions, within the same class.\n",
        "\n",
        "Let's show an example with Mammals and then for Cat.\n",
        "\n",
        "```\n",
        "class Mammals:\n",
        "    \"\"\"we define the constructor method to initialize attributes in common\n",
        "     with other mammals\"\"\"\n",
        "    def __init__(self, name, age, bread):\n",
        "        self.name = name\n",
        "        self.age = age\n",
        "        self.bread = bread\n",
        "\n",
        "    # We define some methods, like eating.\n",
        "    # All mammals are able to eats.\n",
        "    def eat(self):\n",
        "        print(f\"{self.name} is eating.\")\n",
        "\n",
        "    def sleep(self):\n",
        "        print(f\"{self.name} is sleeping.\")\n",
        "```\n",
        "\n",
        "Now, let's explain how to create methods within other objects.\n",
        "\n",
        "```\n",
        "# Define again the class Cat import from Mammals their attributes\n",
        "class Cat(Mammals):\n",
        "    # Now initialize the class using superclass from mammals and then\n",
        "    # the attributes for Cat\n",
        "    def __init__(self, name, age, color):\n",
        "        super().__init__(name, age) # their come from Mammals\n",
        "        self.color = color\n",
        "\n",
        "    # We define the new method only for cats, obviously.\n",
        "    def meow(self):\n",
        "        print(\"Meow.\")\n",
        "\n",
        "    # Import the methods from Mammals, and override the properties.\n",
        "    def sleep(self):\n",
        "        print(\"The cat is sleeping.\")\n",
        "\n",
        "    def eat(self):\n",
        "        print(\"I love to eat fish.\")\n",
        "\n",
        "```\n",
        "\n",
        "And put all together:\n",
        "\n",
        "```\n",
        "# We create a Cat object\n",
        "# the arguments are name, age and color\n",
        "garfield_cat = Cat(\"Garfield\", 2, \"orange\")\n",
        "\n",
        "garfield_cat.eat()\n",
        "# the output will be \"I love to eat fish.\"\n",
        "\n",
        "garfield.meow()\n",
        "# the output will be \"Meow.\""
      ],
      "metadata": {
        "id": "e0xrwSufTVLQ"
      }
    },
    {
      "cell_type": "markdown",
      "metadata": {
        "id": "duneafFaNL17"
      },
      "source": [
        "### Pregunta 2 **<font color=\"gold\" size=\"+2\">CI</font>**\n",
        "\n",
        "Las excepciones son errores que se detectan durante la ejecución de un programa. Pueden y deben ser gestionadas por el programador para reducir el riesgo de que un programa específico falle de manera no controlada.\n",
        "\n",
        "\n",
        "**Poned ejemplos de tipos de excepción en el lenguaje Python y de cómo se capturan.**\n",
        "\n",
        "**Respuesta:**"
      ]
    },
    {
      "cell_type": "markdown",
      "source": [
        "When we introduce **Errors and exceptions**, the link here: https://docs.python.org/3/tutorial/errors.html#errors-and-exceptions\n",
        "Python use different way to retrieve the exception and show at the user the error message. How to handle the exception, is exaplained in the section here: https://docs.python.org/3/tutorial/errors.html#errors-and-exceptions\n",
        ", with the special syntaxis `try..except`. Let's to explain it.\n",
        "\n",
        "In Python, `try...except` statements are used to handle errors, known as exceptions, that occur during code execution. This prevents your program from crashing and allows you to provide a custom, user-friendly response when a problem occurs.\n",
        "\n",
        "Normally the developer knows the errors eventually, but the final user doesn't. Application errors, server response errors, API's errors or human errors might be don't prevent the application still working after the exception.\n",
        "\n",
        "Furthmore, handling the exception by the sentece `try..except` helps to understand how the error come from and how to show the way out.\n",
        "\n",
        "Instead using `if...elif...else`, the special syntax is looks similar, but special focused in the exception.\n",
        "\n",
        "Let's show an example how it works.\n",
        "\n",
        "```\n",
        "try:\n",
        "    # Code that might cause an error\n",
        "    number = int(input(\"Enter a number: \"))\n",
        "    result = 10 / number\n",
        "    print(f\"The result is {result}\")\n",
        "except ZeroDivisionError:\n",
        "    # This block runs if a ZeroDivisionError occurs\n",
        "    print(\"Error: You cannot divide by zero.\")\n",
        "except ValueError:\n",
        "    # This block runs if a ValueError occurs\n",
        "    print(\"Error: Invalid input. Please enter a numeric value.\")\n",
        "\n",
        "```\n",
        "\n",
        "The **try** block attempts to execute the code. If the user enters \"0\", a `ZeroDivisionError` is raised, and the program jumps to the except ZeroDivisionError block.\n",
        "\n",
        "If the user enters \"hello\", a ValueError is raised, and the program jumps to the except ValueError block.\n",
        "\n",
        "If the user enters a valid number like \"5\", no exception is raised, and the except blocks are skipped.\n",
        "\n",
        "There are also two more blocks, `else` or `finally`. With the first execute the alternative, like in `if..else` sentence and with `finally` we close the application.\n",
        "\n",
        "Also is important to add in each block, `pass` or `continue` specially in `for..loop` or `while` to return the way out to the application."
      ],
      "metadata": {
        "id": "d36HSZEacR7t"
      }
    },
    {
      "cell_type": "markdown",
      "metadata": {
        "id": "2Mtzhz-3pxm-"
      },
      "source": [
        "**Autoria**\n",
        "\n",
        "Autores que han participado colectivamente en esta obra:\n",
        "\n",
        "\n",
        "*   Pau Andrio Balado\n",
        "*   Brian Jiménez García\n",
        "*   Melchor Sanchez Martinez\n",
        "\n",
        "**Fecha de creación**\n",
        "\n",
        "\n",
        "*   Ultima modificación: Septiembre 2025"
      ]
    },
    {
      "cell_type": "code",
      "execution_count": null,
      "metadata": {
        "id": "rtC-AvrMngo8"
      },
      "outputs": [],
      "source": []
    }
  ],
  "metadata": {
    "colab": {
      "provenance": [],
      "include_colab_link": true
    },
    "kernelspec": {
      "display_name": "Python 3 (ipykernel)",
      "language": "python",
      "name": "python3"
    },
    "language_info": {
      "codemirror_mode": {
        "name": "ipython",
        "version": 3
      },
      "file_extension": ".py",
      "mimetype": "text/x-python",
      "name": "python",
      "nbconvert_exporter": "python",
      "pygments_lexer": "ipython3",
      "version": "3.12.4"
    }
  },
  "nbformat": 4,
  "nbformat_minor": 0
}