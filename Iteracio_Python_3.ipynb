{
  "nbformat": 4,
  "nbformat_minor": 0,
  "metadata": {
    "kernelspec": {
      "display_name": "Python 3",
      "language": "python",
      "name": "python3"
    },
    "language_info": {
      "codemirror_mode": {
        "name": "ipython",
        "version": 3
      },
      "file_extension": ".py",
      "mimetype": "text/x-python",
      "name": "python",
      "nbconvert_exporter": "python",
      "pygments_lexer": "ipython3",
      "version": "3.7.2"
    },
    "colab": {
      "provenance": [],
      "include_colab_link": true
    }
  },
  "cells": [
    {
      "cell_type": "markdown",
      "metadata": {
        "id": "view-in-github",
        "colab_type": "text"
      },
      "source": [
        "<a href=\"https://colab.research.google.com/github/marcusRB/uoc-ub-bioinformatics-programming-language/blob/master/Iteracio_Python_3.ipynb\" target=\"_parent\"><img src=\"https://colab.research.google.com/assets/colab-badge.svg\" alt=\"Open In Colab\"/></a>"
      ]
    },
    {
      "cell_type": "markdown",
      "metadata": {
        "id": "2ENEM2JoBtCd"
      },
      "source": [
        "Mostrarem en aquest exemple com podem iterar dins d'un text per línia i anar guardant informació de manera interactiva en un diccionari:"
      ]
    },
    {
      "cell_type": "code",
      "metadata": {
        "id": "7HuoIRWSBtCi"
      },
      "source": [
        "molecula = \"\"\"\n",
        "ATOM    232  N   CYS A  28       3.977   8.402   0.487  1.00 10.53           N\n",
        "ATOM    233  CA  CYS A  28       3.295   9.146   1.517  1.00 10.04           C\n",
        "ATOM    234  C   CYS A  28       4.174  10.264   2.053  1.00 10.31           C\n",
        "ATOM    235  O   CYS A  28       5.378  10.108   2.202  1.00 12.91           O\n",
        "ATOM    236  CB  CYS A  28       2.912   8.210   2.680  1.00  9.81           C\n",
        "ATOM    237  SG  CYS A  28       1.804   6.853   2.197  1.00  9.93           S\n",
        "ATOM    238  N   GLY A  29       3.546  11.391   2.430  1.00 10.76           N\n",
        "ATOM    239  CA  GLY A  29       4.295  12.472   3.049  1.00 11.93           C\n",
        "ATOM    240  C   GLY A  29       3.416  13.524   3.596  1.00 12.60           C\n",
        "ATOM    241  O   GLY A  29       3.985  14.574   4.052  1.00 15.82           O\n",
        "ATOM    242  OXT GLY A  29       2.168  13.386   3.672  1.00 11.37           O\n",
        "\"\"\""
      ],
      "execution_count": null,
      "outputs": []
    },
    {
      "cell_type": "code",
      "metadata": {
        "id": "YIwUWJFqBtCl",
        "outputId": "fb0107c6-49c0-402c-ac62-e0a538f85cc9",
        "colab": {
          "base_uri": "https://localhost:8080/"
        }
      },
      "source": [
        "# Tenim preparat ja un string amb el contingut de dos aminoàcids. Cada línia representa un àtom.\n",
        "# Iterarem línia per línia perquè ens convé així, ja que cada línia es correspon amb un àtom.\n",
        "\n",
        "# Què ha passat? Quin és el problema? Bàsicament, aquest string està compost per línies, però la manera d'iterar-ho és primer\n",
        "# de tot separar-ho per salts de línia. Ho intentarem de nou:\n",
        "\n",
        "import os\n",
        "lines = molecula.split(os.linesep)\n",
        "\n",
        "# Fixeu-vos que hem importat una llibreria, os, que es tracta de la part de Python que conté funcions útils per a\n",
        "# interactuar amb el sistema operatiu. En el nostre cas, os.linesep conté el caràcter '\\n' que és el salt de línia en\n",
        "# Linux.\n",
        "\n",
        "# Executarem aquesta última part per a veure què conté lines:\n",
        "print(lines)"
      ],
      "execution_count": null,
      "outputs": [
        {
          "output_type": "stream",
          "name": "stdout",
          "text": [
            "['', 'ATOM    232  N   CYS A  28       3.977   8.402   0.487  1.00 10.53           N', 'ATOM    233  CA  CYS A  28       3.295   9.146   1.517  1.00 10.04           C', 'ATOM    234  C   CYS A  28       4.174  10.264   2.053  1.00 10.31           C', 'ATOM    235  O   CYS A  28       5.378  10.108   2.202  1.00 12.91           O', 'ATOM    236  CB  CYS A  28       2.912   8.210   2.680  1.00  9.81           C', 'ATOM    237  SG  CYS A  28       1.804   6.853   2.197  1.00  9.93           S', 'ATOM    238  N   GLY A  29       3.546  11.391   2.430  1.00 10.76           N', 'ATOM    239  CA  GLY A  29       4.295  12.472   3.049  1.00 11.93           C', 'ATOM    240  C   GLY A  29       3.416  13.524   3.596  1.00 12.60           C', 'ATOM    241  O   GLY A  29       3.985  14.574   4.052  1.00 15.82           O', 'ATOM    242  OXT GLY A  29       2.168  13.386   3.672  1.00 11.37           O', '']\n"
          ]
        }
      ]
    },
    {
      "cell_type": "code",
      "metadata": {
        "id": "RGYRASKlBtCm",
        "outputId": "723ab435-4551-4b09-a98f-096148b1f6c9",
        "colab": {
          "base_uri": "https://localhost:8080/"
        }
      },
      "source": [
        "# *ines és una llista amb cadascuna de les línies, però fixeu-vos que encara hi ha alguns elements ''. Això vol dir que hi ha més\n",
        "# salts de línia dels quals pensàvem a simple vista. Com ens interessen només les línies que contenen 'ATOM' al principi,\n",
        "# utilitzarem això mateix per a filtrar:\n",
        "\n",
        "for line in lines:\n",
        "    if line.startswith('ATOM'):\n",
        "        print(line)"
      ],
      "execution_count": null,
      "outputs": [
        {
          "output_type": "stream",
          "name": "stdout",
          "text": [
            "ATOM    232  N   CYS A  28       3.977   8.402   0.487  1.00 10.53           N\n",
            "ATOM    233  CA  CYS A  28       3.295   9.146   1.517  1.00 10.04           C\n",
            "ATOM    234  C   CYS A  28       4.174  10.264   2.053  1.00 10.31           C\n",
            "ATOM    235  O   CYS A  28       5.378  10.108   2.202  1.00 12.91           O\n",
            "ATOM    236  CB  CYS A  28       2.912   8.210   2.680  1.00  9.81           C\n",
            "ATOM    237  SG  CYS A  28       1.804   6.853   2.197  1.00  9.93           S\n",
            "ATOM    238  N   GLY A  29       3.546  11.391   2.430  1.00 10.76           N\n",
            "ATOM    239  CA  GLY A  29       4.295  12.472   3.049  1.00 11.93           C\n",
            "ATOM    240  C   GLY A  29       3.416  13.524   3.596  1.00 12.60           C\n",
            "ATOM    241  O   GLY A  29       3.985  14.574   4.052  1.00 15.82           O\n",
            "ATOM    242  OXT GLY A  29       2.168  13.386   3.672  1.00 11.37           O\n"
          ]
        }
      ]
    },
    {
      "cell_type": "code",
      "metadata": {
        "id": "wy_R6SUiBtCn",
        "outputId": "dd5d368a-aee0-438a-e6bd-2f83751bbdc8",
        "colab": {
          "base_uri": "https://localhost:8080/"
        }
      },
      "source": [
        "# Correcte! Aquesta és la forma en la qual podem quedar-nos amb les línies que ens interessen. Les guardarem en una llista:\n",
        "\n",
        "# Primer la llista està buida\n",
        "linies_atom = []\n",
        "for line in lines:\n",
        "    if line.startswith('ATOM'):\n",
        "        linies_atom.append(line) # Afegim la línia a la llista si comença per ATOM\n",
        "\n",
        "# Una vegada fora del bucle, podem comprovar el valor de les línies que hem guardat:\n",
        "print(linies_atom)"
      ],
      "execution_count": null,
      "outputs": [
        {
          "output_type": "stream",
          "name": "stdout",
          "text": [
            "['ATOM    232  N   CYS A  28       3.977   8.402   0.487  1.00 10.53           N', 'ATOM    233  CA  CYS A  28       3.295   9.146   1.517  1.00 10.04           C', 'ATOM    234  C   CYS A  28       4.174  10.264   2.053  1.00 10.31           C', 'ATOM    235  O   CYS A  28       5.378  10.108   2.202  1.00 12.91           O', 'ATOM    236  CB  CYS A  28       2.912   8.210   2.680  1.00  9.81           C', 'ATOM    237  SG  CYS A  28       1.804   6.853   2.197  1.00  9.93           S', 'ATOM    238  N   GLY A  29       3.546  11.391   2.430  1.00 10.76           N', 'ATOM    239  CA  GLY A  29       4.295  12.472   3.049  1.00 11.93           C', 'ATOM    240  C   GLY A  29       3.416  13.524   3.596  1.00 12.60           C', 'ATOM    241  O   GLY A  29       3.985  14.574   4.052  1.00 15.82           O', 'ATOM    242  OXT GLY A  29       2.168  13.386   3.672  1.00 11.37           O']\n"
          ]
        }
      ]
    },
    {
      "cell_type": "code",
      "metadata": {
        "id": "eSttbTBqBtCn",
        "outputId": "cee8d16c-d53f-4a6e-e6f5-43c259ff05dc",
        "colab": {
          "base_uri": "https://localhost:8080/"
        }
      },
      "source": [
        "# Correcte!\n",
        "\n",
        "# Ara imagineu-vos que per cadascuna d'aquestes línies, volem quedar-nos amb el tipus de cadascuna i guardar-les en un diccionari on\n",
        "# la clau sigui el propi tipus. Seria un diccionari del tipus:\n",
        "\n",
        "\n",
        "# dic_tipus = {'N': [linia1, linia2]}\n",
        "\n",
        "# Recordeu que per tipus ens referim al tipus d'àtom. En cadascuna de les nostres línies, el tipus d'àtom és l'últim caràcter.\n",
        "# Ho comprovarem:\n",
        "\n",
        "for line in linies_atom:\n",
        "    print(line[-1])\n"
      ],
      "execution_count": null,
      "outputs": [
        {
          "output_type": "stream",
          "name": "stdout",
          "text": [
            "N\n",
            "C\n",
            "C\n",
            "O\n",
            "C\n",
            "S\n",
            "N\n",
            "C\n",
            "C\n",
            "O\n",
            "O\n"
          ]
        }
      ]
    },
    {
      "cell_type": "code",
      "metadata": {
        "id": "RpFV1LHHBtCo",
        "outputId": "b0061dea-8155-4e6d-b1dd-dbd5b10e3f25",
        "colab": {
          "base_uri": "https://localhost:8080/"
        }
      },
      "source": [
        "# Correcte! Crearem llavors el diccionari:\n",
        "\n",
        "dic_tipus = {} #Diccionario buit\n",
        "\n",
        "for line in linies_atom:\n",
        "    tipus = line[-1]\n",
        "    # Una vegada tenim el tipus guardat, volem veure si existeix ja en el diccionari.\n",
        "    # Si no existeix, crearem la clau que contindrà una llista en la qual afegirem la nostra línia:\n",
        "    if tipus not in dic_tipus: # No existeix la clau:\n",
        "        dic_tipus[tipus] = [line]\n",
        "    else:\n",
        "        # Si ja existia, afegim a la llista la nostra frase:\n",
        "        dic_tipus[tipus].append(line)\n",
        "\n",
        "# I això és tot, comprovarem si hem creat el diccionari correctament:\n",
        "print(dic_tipus)"
      ],
      "execution_count": null,
      "outputs": [
        {
          "output_type": "stream",
          "name": "stdout",
          "text": [
            "{'N': ['ATOM    232  N   CYS A  28       3.977   8.402   0.487  1.00 10.53           N', 'ATOM    238  N   GLY A  29       3.546  11.391   2.430  1.00 10.76           N'], 'C': ['ATOM    233  CA  CYS A  28       3.295   9.146   1.517  1.00 10.04           C', 'ATOM    234  C   CYS A  28       4.174  10.264   2.053  1.00 10.31           C', 'ATOM    236  CB  CYS A  28       2.912   8.210   2.680  1.00  9.81           C', 'ATOM    239  CA  GLY A  29       4.295  12.472   3.049  1.00 11.93           C', 'ATOM    240  C   GLY A  29       3.416  13.524   3.596  1.00 12.60           C'], 'O': ['ATOM    235  O   CYS A  28       5.378  10.108   2.202  1.00 12.91           O', 'ATOM    241  O   GLY A  29       3.985  14.574   4.052  1.00 15.82           O', 'ATOM    242  OXT GLY A  29       2.168  13.386   3.672  1.00 11.37           O'], 'S': ['ATOM    237  SG  CYS A  28       1.804   6.853   2.197  1.00  9.93           S']}\n"
          ]
        }
      ]
    },
    {
      "cell_type": "code",
      "metadata": {
        "id": "K_5TwCIQBtCp",
        "outputId": "e9e568c8-fbc7-44a0-d45c-b2847ca10cac",
        "colab": {
          "base_uri": "https://localhost:8080/"
        }
      },
      "source": [
        "# Correcte! Ara podem iterar el nostre nou diccionari com vulguem:\n",
        "\n",
        "for clau, linies in dic_tipus.items():\n",
        "    print('Líneas con %s: %s' % (clau, str(linies)))\n",
        "\n"
      ],
      "execution_count": null,
      "outputs": [
        {
          "output_type": "stream",
          "name": "stdout",
          "text": [
            "Líneas con N: ['ATOM    232  N   CYS A  28       3.977   8.402   0.487  1.00 10.53           N', 'ATOM    238  N   GLY A  29       3.546  11.391   2.430  1.00 10.76           N']\n",
            "Líneas con C: ['ATOM    233  CA  CYS A  28       3.295   9.146   1.517  1.00 10.04           C', 'ATOM    234  C   CYS A  28       4.174  10.264   2.053  1.00 10.31           C', 'ATOM    236  CB  CYS A  28       2.912   8.210   2.680  1.00  9.81           C', 'ATOM    239  CA  GLY A  29       4.295  12.472   3.049  1.00 11.93           C', 'ATOM    240  C   GLY A  29       3.416  13.524   3.596  1.00 12.60           C']\n",
            "Líneas con O: ['ATOM    235  O   CYS A  28       5.378  10.108   2.202  1.00 12.91           O', 'ATOM    241  O   GLY A  29       3.985  14.574   4.052  1.00 15.82           O', 'ATOM    242  OXT GLY A  29       2.168  13.386   3.672  1.00 11.37           O']\n",
            "Líneas con S: ['ATOM    237  SG  CYS A  28       1.804   6.853   2.197  1.00  9.93           S']\n"
          ]
        }
      ]
    }
  ]
}