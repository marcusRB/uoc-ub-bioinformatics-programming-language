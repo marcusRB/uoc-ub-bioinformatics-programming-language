{
  "nbformat": 4,
  "nbformat_minor": 0,
  "metadata": {
    "kernelspec": {
      "display_name": "Python 3",
      "language": "python",
      "name": "python3"
    },
    "language_info": {
      "codemirror_mode": {
        "name": "ipython",
        "version": 3
      },
      "file_extension": ".py",
      "mimetype": "text/x-python",
      "name": "python",
      "nbconvert_exporter": "python",
      "pygments_lexer": "ipython3",
      "version": "3.7.4"
    },
    "colab": {
      "provenance": [],
      "include_colab_link": true
    }
  },
  "cells": [
    {
      "cell_type": "markdown",
      "metadata": {
        "id": "view-in-github",
        "colab_type": "text"
      },
      "source": [
        "<a href=\"https://colab.research.google.com/github/marcusRB/uoc-ub-bioinformatics-programming-language/blob/master/prog_bio_2.ipynb\" target=\"_parent\"><img src=\"https://colab.research.google.com/assets/colab-badge.svg\" alt=\"Open In Colab\"/></a>"
      ]
    },
    {
      "cell_type": "markdown",
      "metadata": {
        "id": "r9uLMPP9_R7R"
      },
      "source": [
        "# **Programació per a la bioinformàtica**"
      ]
    },
    {
      "cell_type": "markdown",
      "metadata": {
        "id": "3UZZviPe_R7U"
      },
      "source": [
        "**Unitat 2**: Conceptes avançats de Python\n",
        "--------------------------------------------\n",
        "\n",
        "### Instruccions d'ús.\n",
        "\n",
        "En el mòdul anterior vam introduir conceptes bàsics sobre les variables i el seu ús amb Python. En aquest mòdul, estudiarem conceptes més avançats com són les instruccions de flux d'execució (for, while, if), com definir i utilitzar les funcions, etc."
      ]
    },
    {
      "cell_type": "markdown",
      "metadata": {
        "id": "i4sQguJG_R7V"
      },
      "source": [
        "Iteració i operacions lògiques\n",
        "------------------------------\n",
        "\n",
        "La majoria de vegades haurem de manipular les nostres dades i, per a això, utilitzarem els conceptes d'iteració i les operacions lògiques. Les operacions lògiques ens permeten comparar valors entre variables (major, menor, igualtat) i la iteració anar visitant un a un els elements d'una llista, tupla, diccionari o qualsevol estructura de dades que sigui susceptible de seqüenciar.\n",
        "\n",
        "Començarem veient les operacions lògiques:"
      ]
    },
    {
      "cell_type": "code",
      "metadata": {
        "colab": {
          "base_uri": "https://localhost:8080/"
        },
        "id": "eO2zXKJL_R7V",
        "outputId": "3e794f9f-d392-4bb8-a9d1-dd0caef2b874"
      },
      "source": [
        "# Les operacions lògiques tindran com a resultat un valor\n",
        "# cert (True) o fals (False):\n",
        "\n",
        "a = 5\n",
        "b = 1\n",
        "\n",
        "# És el valor de la variable 'a' major que el de la\n",
        "# variable 'b'?\n",
        "print(a > b)"
      ],
      "execution_count": null,
      "outputs": [
        {
          "output_type": "stream",
          "name": "stdout",
          "text": [
            "True\n"
          ]
        }
      ]
    },
    {
      "cell_type": "markdown",
      "metadata": {
        "id": "0L2hgSD8_R7X"
      },
      "source": [
        "Aquests valors de cert (True) o fals (False) reben el nom de **booleans** en l'argot tècnic.\n",
        "\n",
        "Vegem altres exemples de comparacions:"
      ]
    },
    {
      "cell_type": "code",
      "metadata": {
        "colab": {
          "base_uri": "https://localhost:8080/"
        },
        "id": "5GL8bOBm_R7X",
        "outputId": "8b4e7212-9c17-4e50-b05f-58a7042a3f47"
      },
      "source": [
        "# És el valor de la variable 'a' menor que el\n",
        "# de la variable 'b'?\n",
        "print(a < b)"
      ],
      "execution_count": null,
      "outputs": [
        {
          "output_type": "stream",
          "name": "stdout",
          "text": [
            "False\n"
          ]
        }
      ]
    },
    {
      "cell_type": "code",
      "metadata": {
        "colab": {
          "base_uri": "https://localhost:8080/"
        },
        "id": "Q3e9n3nI_R7Y",
        "outputId": "dc6d27f0-649b-4d86-c21c-9315c5bce4c3"
      },
      "source": [
        "# Ara canviem el valor de la variable a 5:\n",
        "b = 5\n",
        "\n",
        "# És el valor de la variable 'b' igual que el de\n",
        "# la variable 'a'?\n",
        "print(b == a)"
      ],
      "execution_count": null,
      "outputs": [
        {
          "output_type": "stream",
          "name": "stdout",
          "text": [
            "True\n"
          ]
        }
      ]
    },
    {
      "cell_type": "code",
      "metadata": {
        "colab": {
          "base_uri": "https://localhost:8080/"
        },
        "id": "FOl6OdDZ_R7Y",
        "outputId": "90ab0468-b5c3-419f-81e5-d32243ca2091"
      },
      "source": [
        "# Altres operadors lògics disponibles són menor o\n",
        "# igual '<=', major o igual '>=' o la negació 'not':\n",
        "print(a <= b)\n",
        "print(a >= b)\n",
        "\n",
        "a = False\n",
        "print(not a)"
      ],
      "execution_count": null,
      "outputs": [
        {
          "output_type": "stream",
          "name": "stdout",
          "text": [
            "True\n",
            "True\n",
            "True\n"
          ]
        }
      ]
    },
    {
      "cell_type": "markdown",
      "metadata": {
        "id": "u-cl_Ilx_R7Z"
      },
      "source": [
        "### Estructures de control\n",
        "\n",
        "També podem alterar el flux d'execució del nostre programa utilitzant les estructures `if...else` o `if...elif...else`. Aquestes estructures les utilitzarem per a comprovar si es compleix una condició determinada i reaccionar en el cas. Vegem uns quants exemples:\n"
      ]
    },
    {
      "cell_type": "code",
      "metadata": {
        "colab": {
          "base_uri": "https://localhost:8080/"
        },
        "id": "w0zlp8pA_R7Z",
        "outputId": "52639d0a-8e6d-4037-a3b0-fad15d1e2bda"
      },
      "source": [
        "a = 5\n",
        "b = 6\n",
        "if a > b:\n",
        "    print('a és major que b')\n",
        "else:\n",
        "    print('a és menor o igual que b')"
      ],
      "execution_count": null,
      "outputs": [
        {
          "output_type": "stream",
          "name": "stdout",
          "text": [
            "a és menor o igual que b\n"
          ]
        }
      ]
    },
    {
      "cell_type": "markdown",
      "metadata": {
        "id": "5eQUY_WA_R7Z"
      },
      "source": [
        "En l'exemple anterior, primerament hem assignat el valor enter `5` a la variable `a` i el valor enter `6` a la variable `b`. A continuació, `if a > b` comprova si el valor que conté la variable `a` és major que el valor de la variable `b`. Si fos així, es mostraria per pantalla `a és major que b`. Com que no és el cas (`a > b` és **Fals**), s'executarà la part inclosa en el bloc `else`.\n",
        "\n",
        "Vegem ara un exemple en què es comproven diverses condicions de forma seqüencial:"
      ]
    },
    {
      "cell_type": "code",
      "metadata": {
        "colab": {
          "base_uri": "https://localhost:8080/"
        },
        "id": "ocPA-nHL_R7a",
        "outputId": "4ffc8f96-1dc1-498a-9022-532264c29a29"
      },
      "source": [
        "a = 5\n",
        "b = 5\n",
        "if a > b:\n",
        "    print('a és major que b')\n",
        "elif a < b:\n",
        "    print('a és menor que b')\n",
        "else:\n",
        "    print('a és igual que b')"
      ],
      "execution_count": null,
      "outputs": [
        {
          "output_type": "stream",
          "name": "stdout",
          "text": [
            "a és igual que b\n"
          ]
        }
      ]
    },
    {
      "cell_type": "markdown",
      "metadata": {
        "id": "FS3FADXv_R7a"
      },
      "source": [
        "En aquest exemple, les variables `a` i `b` contenen el mateix valor, `5`. Primer es comprova la condició de si `a` és major que `b`. Com que no és el cas, s'executa la condició següent, `a < b`. Tampoc no és el cas, així que s'executa l'última directiva que està inclosa en el bloc `else`."
      ]
    },
    {
      "cell_type": "markdown",
      "metadata": {
        "id": "NGO0wd29_R7b"
      },
      "source": [
        "### Iteracions amb Python\n",
        "\n",
        "Amb Python solament hi ha dues formes d'iterar una seqüència: mitjançant `for` o mitjançant `while`. La primera de les opcions, `for`, iterarà d'un en un els elements continguts en una llista. En el cas de `while`, iterarem mentre es compleixi la condició de permanència en el bucle. Vegem alguns exemples per a entendre aquests dos nous conceptes:"
      ]
    },
    {
      "cell_type": "markdown",
      "metadata": {
        "id": "m7ZcggaG_R7b"
      },
      "source": [
        "#### Bucle **for**"
      ]
    },
    {
      "cell_type": "code",
      "metadata": {
        "colab": {
          "base_uri": "https://localhost:8080/"
        },
        "id": "-HNOEjSS_R7b",
        "outputId": "1440f3c6-a8a1-4ad8-9235-d53081dd8885"
      },
      "source": [
        "# Declarem una llista que conté quatre paraules:\n",
        "monstres = ['Kraken', 'Leviathan', 'Uroborus', 'Hydra']\n",
        "\n",
        "# Primer mètode d’iteració mitjançant for:\n",
        "for monstre in monstres:\n",
        "    print(monstre)"
      ],
      "execution_count": null,
      "outputs": [
        {
          "output_type": "stream",
          "name": "stdout",
          "text": [
            "Kraken\n",
            "Leviathan\n",
            "Uroborus\n",
            "Hydra\n"
          ]
        }
      ]
    },
    {
      "cell_type": "markdown",
      "metadata": {
        "id": "ZiXyTcVF_R7b"
      },
      "source": [
        "Aquest primer exemple de bucle `for` ens mostra com de fàcil és iterar amb Python d'un en un tots els elements d'una llista. Fixeu-vos que primer hem declarat una llista de nom `monstres` que conté quatre paraules. A continuació, la línia `for monstre in monstres` ens indica que per a cadascun dels elements que trobem en la llista `monstres`, els assignarem d’un a un a la variable `monstre`. Per a cadascun dels valors que anem guardant en la variable `monstre` (primer 'Kraken', després 'Leviathan' i, així, fins al final de la llista), els mostrarem per pantalla utilitzant l'ordre print `monstre` perquè està indentant un nivell per sota de la línia `for monstre in monstres:`.\n",
        "\n",
        "Vegem un segon exemple de l'ús del bucle `for`:"
      ]
    },
    {
      "cell_type": "code",
      "metadata": {
        "colab": {
          "base_uri": "https://localhost:8080/"
        },
        "id": "LRxNWzDC_R7c",
        "outputId": "088c435e-7558-4f72-df5a-43d2becc303a"
      },
      "source": [
        "# Declarem una llista que conté quatre paraules:\n",
        "monstres = ['Kraken', 'Leviathan', 'Uroborus', 'Hydra']\n",
        "\n",
        "# Segon mètode. La funció especial 'enumerate' ens\n",
        "# retorna una tupla en què el primer element és un\n",
        "# índex que comença amb 0 i augmenta d'1 en 1 i, el\n",
        "# segon element, el valor de la posició en la llista:\n",
        "for i, monstre in enumerate(monstres):\n",
        "    print(i, monstre)"
      ],
      "execution_count": null,
      "outputs": [
        {
          "output_type": "stream",
          "name": "stdout",
          "text": [
            "0 Kraken\n",
            "1 Leviathan\n",
            "2 Uroborus\n",
            "3 Hydra\n"
          ]
        }
      ]
    },
    {
      "cell_type": "markdown",
      "metadata": {
        "id": "0S-UZliO_R7c"
      },
      "source": [
        "Aquest segon exemple de bucle `for` és especialment interessant perquè usa la funció `enumerate()`. És molt probable que, de vegades, vulguem saber el comptador d'un determinat element en una llista. La funció `enumerate()` ens serveix especialment per a això i no ens hem d'encarregar de mantenir una variable que ens serveixi de comptador a cada volta del bucle."
      ]
    },
    {
      "cell_type": "markdown",
      "metadata": {
        "id": "JgIZafhN_R7c"
      },
      "source": [
        "#### Bucle **while**\n",
        "\n",
        "El bucle `while` és una segona forma d'iterar amb Python i podem construir expressions idèntiques en el bucle `for`, però amb una sintaxi lleugerament diferent:"
      ]
    },
    {
      "cell_type": "code",
      "metadata": {
        "colab": {
          "base_uri": "https://localhost:8080/"
        },
        "id": "iZa2uo7Z_R7c",
        "outputId": "64ea62d2-e9b3-498c-9f04-748a1b5d3db5"
      },
      "source": [
        "# Declarem una llista que conté quatre paraules:\n",
        "monstres = ['Kraken', 'Leviathan', 'Uroborus', 'Hydra']\n",
        "\n",
        "# Aquest exemple té un comportament idèntic a\n",
        "# l'anterior, però necessitem escriure més operacions per a\n",
        "# un mateix resultat. Normalment preferirem utilitzar\n",
        "# for i no pas while:\n",
        "\n",
        "# Declarem la variable comptador 'i' que guardarà el nombre\n",
        "# de voltes a cada pas del bucle\n",
        "# del bucle:\n",
        "i = 0\n",
        "\n",
        "# Mentre el comptador 'i' sigui menor que la longitud\n",
        "# de la llista 'monstres':\n",
        "while i < len(monstres):\n",
        "    # Imprimeix el valor de la llista en la posició 'i'\n",
        "    print(i, monstres[i])\n",
        "    # No ens oblidem d'actualitzar el valor d''i'\n",
        "    # sumant-li 1 o tindrem un bucle infinit\n",
        "    i += 1\n"
      ],
      "execution_count": null,
      "outputs": [
        {
          "output_type": "stream",
          "name": "stdout",
          "text": [
            "0 Kraken\n",
            "1 Leviathan\n",
            "2 Uroborus\n",
            "3 Hydra\n"
          ]
        }
      ]
    },
    {
      "cell_type": "markdown",
      "metadata": {
        "id": "WX8d4HXH_R7d"
      },
      "source": [
        "En aquest moment, seríem capaços de calcular la sèrie de Fibonacci fins a un determinat valor:"
      ]
    },
    {
      "cell_type": "code",
      "metadata": {
        "colab": {
          "base_uri": "https://localhost:8080/"
        },
        "id": "B99t6aDB_R7d",
        "outputId": "67bec734-6e7d-443a-cb1e-82055730f5b0"
      },
      "source": [
        "# Calculem el valor de la sèrie fins a un\n",
        "# valor n=100\n",
        "n = 100\n",
        "\n",
        "# Assignem dos valors alhora, 0 a la variable\n",
        "# 'a' i 1 a la variable 'b'\n",
        "a, b = 0, 1\n",
        "\n",
        "# Ara iterarem mentre es compleixi la condició\n",
        "# que la variable 'a' conté un valor més petit\n",
        "# que el de la variable 'n':\n",
        "while a < n:\n",
        "    print(a, end=\" \")\n",
        "    # Quan afegim el paràmetre 'end', evitem\n",
        "    # que s'imprimeixi un salt de línia\n",
        "    a, b = b, a + b"
      ],
      "execution_count": null,
      "outputs": [
        {
          "output_type": "stream",
          "name": "stdout",
          "text": [
            "0 1 1 2 3 5 8 13 21 34 55 89 "
          ]
        }
      ]
    },
    {
      "cell_type": "markdown",
      "metadata": {
        "id": "iNLA5MYw_R7d"
      },
      "source": [
        "#### La funció `range()`\n",
        "\n",
        "Amb Python disposem d'una funció molt útil per a generar una seqüència de numeros, que podem utilitzar de diferents formes:"
      ]
    },
    {
      "cell_type": "code",
      "metadata": {
        "colab": {
          "base_uri": "https://localhost:8080/"
        },
        "id": "3CKwgwtp_R7d",
        "outputId": "9d2c5aaa-283e-4acd-fd36-53f29ffdcd49"
      },
      "source": [
        "# Podem utilitzar-la per a iterar:\n",
        "for i in range(10):\n",
        "    print(i, end=\" \")\n",
        "print()"
      ],
      "execution_count": null,
      "outputs": [
        {
          "output_type": "stream",
          "name": "stdout",
          "text": [
            "0 1 2 3 4 5 6 7 8 9 \n"
          ]
        }
      ]
    },
    {
      "cell_type": "code",
      "metadata": {
        "id": "gNJtcCa5_R7e",
        "outputId": "93b695ca-af6a-4f3b-bc77-01293fad080a",
        "colab": {
          "base_uri": "https://localhost:8080/"
        }
      },
      "source": [
        "# Podem definir el rang d'acció. Per exemple:\n",
        "# calcula els nombres entre 5 i 20 de 3 en 3:\n",
        "for i in range (5,20,3):\n",
        "    print(i, end=\" \")\n",
        "print()"
      ],
      "execution_count": null,
      "outputs": [
        {
          "output_type": "stream",
          "name": "stdout",
          "text": [
            "5 8 11 14 17 \n"
          ]
        }
      ]
    },
    {
      "cell_type": "markdown",
      "metadata": {
        "id": "t51XAVch_R7e"
      },
      "source": [
        "#### Iterant un diccionari\n",
        "És possible, donat un diccionari, iterar entre els parells `(clau, valor)` emmagatzemats:"
      ]
    },
    {
      "cell_type": "code",
      "metadata": {
        "colab": {
          "base_uri": "https://localhost:8080/"
        },
        "id": "AC25TIwc_R7e",
        "outputId": "275201a2-c973-4a5c-b10c-b4d1ae563aed"
      },
      "source": [
        "# Donat el diccionari següent de codis de telèfon:\n",
        "codis_pais = {34: 'Espanya', 376: 'Andorra',\n",
        "                 41: 'Suissa', 424: None}\n",
        "\n",
        "# Iterem per clau:\n",
        "print(\"Iterant per clau:\")\n",
        "for codi_pais in codis_pais.keys():\n",
        "    print(codi_pais)\n",
        "print()\n",
        "\n",
        "# Iterem per valor:\n",
        "print(\"Iterant per valor:\")\n",
        "for pais in codis_pais.values():\n",
        "    print(pais)\n",
        "print()\n",
        "\n",
        "# Iterem pels dos alhora:\n",
        "print(\"Iterant per clau i valor alhora: \")\n",
        "for codi_pais, pais in codis_pais.items():\n",
        "    print(codi_pais, pais)"
      ],
      "execution_count": null,
      "outputs": [
        {
          "output_type": "stream",
          "name": "stdout",
          "text": [
            "Iterant per clau:\n",
            "34\n",
            "376\n",
            "41\n",
            "424\n",
            "\n",
            "Iterant per valor:\n",
            "Espanya\n",
            "Andorra\n",
            "Suissa\n",
            "None\n",
            "\n",
            "Iterant per clau i valor alhora: \n",
            "34 Espanya\n",
            "376 Andorra\n",
            "41 Suissa\n",
            "424 None\n"
          ]
        }
      ]
    },
    {
      "cell_type": "markdown",
      "metadata": {
        "id": "sL7jNXu-_R7e"
      },
      "source": [
        "Funcions\n",
        "---------\n",
        "\n",
        "Una altra forma molt important d'organitzar el flux d'execució és encapsulant una certa porció de codi en una funció que puguem cridar en diferents parts del codi.\n",
        "\n",
        "Una funció amb Python utilitza el mateix concepte que una funció matemàtica. Per exemple, imaginem la funció matemàtica:\n",
        "\n",
        "`suma(x, y) = x + y`\n",
        "\n",
        "Amb Python podem definir la mateixa funció de la forma següent:"
      ]
    },
    {
      "cell_type": "code",
      "metadata": {
        "colab": {
          "base_uri": "https://localhost:8080/"
        },
        "id": "Y66iC-Su_R7f",
        "outputId": "745f6fab-8787-449b-ebde-ed74bdada446"
      },
      "source": [
        "# La funció suma es defineix mitjançant la paraula especial\n",
        "# 'def' i té dos arguments: 'x' i 'y':\n",
        "def suma(x, y):\n",
        "    # Retornem el valor de la suma\n",
        "    return x + y\n",
        "\n",
        "# En aquest moment, podem cridar-la amb qualsevol valor:\n",
        "print(\"2 + 4 =\", suma(2, 4))\n",
        "print(\"5 + (-5) =\", suma(5, -5))\n",
        "print(\"3.5 + 2.5 =\", suma(3.5, 2.5))"
      ],
      "execution_count": null,
      "outputs": [
        {
          "output_type": "stream",
          "name": "stdout",
          "text": [
            "2 + 4 = 6\n",
            "5 + (-5) = 0\n",
            "3.5 + 2.5 = 6.0\n"
          ]
        }
      ]
    },
    {
      "cell_type": "code",
      "metadata": {
        "id": "WzJOQ0gH_R7f"
      },
      "source": [
        "# Podem definir una funció que no faci res\n",
        "# utilitzant la paraula especial 'pass':\n",
        "\n",
        "def dummy():\n",
        "    pass\n",
        "\n",
        "dummy()"
      ],
      "execution_count": null,
      "outputs": []
    },
    {
      "cell_type": "code",
      "metadata": {
        "colab": {
          "base_uri": "https://localhost:8080/"
        },
        "id": "N9EKP2rs_R7f",
        "outputId": "0b280b2f-1fae-4203-a4ea-ba4ef04e5b66"
      },
      "source": [
        "# Podríem tornar a definir el tros de codi de la\n",
        "# seqüència de Fibonacci com una funció:\n",
        "\n",
        "def fibonacci(n=100):\n",
        "    a, b = 0, 1\n",
        "    while a < n:\n",
        "        print(a, end=\" \")\n",
        "        a, b = b, a +b\n",
        "\n",
        "print('El valor dels primers nombres de la seqüència de Fibonacci fins a 10 són:')\n",
        "fibonacci(10)"
      ],
      "execution_count": null,
      "outputs": [
        {
          "output_type": "stream",
          "name": "stdout",
          "text": [
            "El valor dels primers nombres de la seqüència de Fibonacci fins a 10 són:\n",
            "0 1 1 2 3 5 8 "
          ]
        }
      ]
    },
    {
      "cell_type": "code",
      "metadata": {
        "colab": {
          "base_uri": "https://localhost:8080/"
        },
        "id": "SoddrpTp_R7f",
        "outputId": "1b1653fe-05db-45b2-b040-2a2e3cdbabe5"
      },
      "source": [
        "# En l'exemple anterior, hem definit que l'argument n\n",
        "# tingui un valor per defecte. Això és molt útil\n",
        "# en els casos en què sempre utilitzem la funció amb\n",
        "# un mateix valor i vulguem deixar constància d'un\n",
        "# cas d'exemple o per defecte. En aquest cas, podem\n",
        "# executar la funció sense indicar-li cap valor:\n",
        "fibonacci()"
      ],
      "execution_count": null,
      "outputs": [
        {
          "output_type": "stream",
          "name": "stdout",
          "text": [
            "0 1 1 2 3 5 8 13 21 34 55 89 "
          ]
        }
      ]
    },
    {
      "cell_type": "code",
      "metadata": {
        "colab": {
          "base_uri": "https://localhost:8080/"
        },
        "id": "jNpUE7EC_R7f",
        "outputId": "b356b27c-12e8-4790-83fc-aee03127d4c7"
      },
      "source": [
        "# Podem definir una part dels arguments amb valors\n",
        "# per defecte i una altra sense.\n",
        "# Els arguments sense valor per defecte sempre han d'estar\n",
        "# més a l'esquerra en la definició de la funció:\n",
        "\n",
        "def potencia(a, b=2.):\n",
        "    # Per defecte, elevarem al quadrat\n",
        "    return a**b\n",
        "\n",
        "print(\"3 elevat al quadrat és:\", potencia(3))\n",
        "print(\"2 elevat al cub és:\", potencia(2, 3))"
      ],
      "execution_count": null,
      "outputs": [
        {
          "output_type": "stream",
          "name": "stdout",
          "text": [
            "3 elevat al quadrat és: 9.0\n",
            "2 elevat al cub és: 8\n"
          ]
        }
      ]
    },
    {
      "cell_type": "markdown",
      "metadata": {
        "id": "Qd6n0Gu5_R7g"
      },
      "source": [
        "**Recomanem la lectura de la documentació oficial** per a acabar de fixar els coneixements explicats: https://docs.python.org/3/tutorial/controlflow.html"
      ]
    },
    {
      "cell_type": "markdown",
      "metadata": {
        "id": "EPFLoMl7_R7g"
      },
      "source": [
        "Llegir i escriure des de fitxers\n",
        "-----------------------------\n",
        "\n",
        "Una tasca habitual és llegir línies de text d'un fitxer o escriure línies de text en un fitxer. Amb Python, llegir i escriure fitxers es fa mitjançant la llibreria `os`. **Una llibreria és un conjunt de codi que té un cert sentit agrupar-lo per a ser usat per altres usuaris**. En el nostre cas, `os` es tracta d'una llibreria que agrupa funcions relacionades amb el sistema operatiu (**o**perating **s**ystem).\n",
        "\n",
        "Per a carregar una llibreria, utilitzem la paraula reservada `import`. Més endavant, explicarem algunes particularitats d'utilitzar i importar llibreries. A continuació, us expliquem com escriure i llegir un fitxer:"
      ]
    },
    {
      "cell_type": "markdown",
      "metadata": {
        "id": "q38qNrnT_R7g"
      },
      "source": [
        "### Escriure en un fitxer\n",
        "\n",
        "\n",
        "En primer lloc, escriurem en un fitxer que després podrem llegir en el següent apartat:"
      ]
    },
    {
      "cell_type": "code",
      "metadata": {
        "id": "LDzzkNfO_R7g"
      },
      "source": [
        "# Importem la llibreria 'os':\n",
        "import os\n",
        "\n",
        "# Obrim un fitxer de nom 'a_file.txt'\n",
        "# per a escriptura (d'aquí la 'w', 'writing').\n",
        "# Atenció amb la instrucció especial with.\n",
        "# Assignem el descriptor de fitxer a una variable\n",
        "# de nom out:\n",
        "with open('a_file.txt', 'w') as out:\n",
        "    # Escriurem 10 línies, cadascuna amb un nombre de 0 a 9\n",
        "    for i in range (10):\n",
        "        # La línia següent escriurà en el fitxer tot\n",
        "        # el que posem dins d'out.write()\n",
        "        # En el nostre cas, és un string del tipus '0\\n', '1\\n', etc.\n",
        "        # Això ho aconseguim utilitzant les wildcards %d i %s.\n",
        "        # %s representa un string o cadena de caràcters\n",
        "        # i %d un nombre enter.\n",
        "        # En aquest cas, concatenem un nombre amb un string\n",
        "        # que es tracta del salt de línia, os.linesep, que\n",
        "        # amb Linux equival a '\\n':\n",
        "        out.write(\"Línia %d%s\" % (i, os. linesep))"
      ],
      "execution_count": null,
      "outputs": []
    },
    {
      "cell_type": "markdown",
      "metadata": {
        "id": "GxsRDtfX_R7h"
      },
      "source": [
        "Després d'executar el codi anterior, hauríem de trobar un fitxer en el directori on estem treballant (feu click en files, sobre la icona de la carpeta que teniu a l'esquerra per a comprovar-lo) de nom `a_file.txt`. Si l'obrim (doble click), veurem que efectivament conté 10 línies:\n",
        "\n",
        "```\n",
        "Línia 0\n",
        "Línia 1\n",
        "Línia 2\n",
        "Línia 3\n",
        "Línia 4\n",
        "Línia 5\n",
        "Línia 6\n",
        "Línia 7\n",
        "Línia 8\n",
        "Línia 9\n",
        "```"
      ]
    },
    {
      "cell_type": "markdown",
      "metadata": {
        "id": "rq3V_FMI_R7h"
      },
      "source": [
        "### Llegir d'un fitxer\n",
        "\n",
        "Ara farem el pas contrari, llegirem el contingut del fitxer que acabem de generar. Ho farem de tres formes diferents, equivalents entre si:"
      ]
    },
    {
      "cell_type": "markdown",
      "metadata": {
        "id": "rHsK042t_R7h"
      },
      "source": [
        "#### Llegint d’un fitxer (I)"
      ]
    },
    {
      "cell_type": "code",
      "metadata": {
        "colab": {
          "base_uri": "https://localhost:8080/"
        },
        "id": "awTwGXBv_R7h",
        "outputId": "6887551f-6f33-4a5a-9423-67b210a281a7"
      },
      "source": [
        "f = open('a_file.txt')\n",
        "for line in f:\n",
        "    print(line)\n",
        "f.close()"
      ],
      "execution_count": null,
      "outputs": [
        {
          "output_type": "stream",
          "name": "stdout",
          "text": [
            "Línia 0\n",
            "\n",
            "Línia 1\n",
            "\n",
            "Línia 2\n",
            "\n",
            "Línia 3\n",
            "\n",
            "Línia 4\n",
            "\n",
            "Línia 5\n",
            "\n",
            "Línia 6\n",
            "\n",
            "Línia 7\n",
            "\n",
            "Línia 8\n",
            "\n",
            "Línia 9\n",
            "\n"
          ]
        }
      ]
    },
    {
      "cell_type": "markdown",
      "metadata": {
        "id": "ZCEeMvA5_R7h"
      },
      "source": [
        "#### Llegint d’un fitxer (II)"
      ]
    },
    {
      "cell_type": "code",
      "metadata": {
        "colab": {
          "base_uri": "https://localhost:8080/"
        },
        "id": "0qPoKGQV_R7i",
        "outputId": "6acc3b33-1d09-474f-b04b-3312b7a84542"
      },
      "source": [
        "f = open('a_file.txt')\n",
        "lines = f.readlines()\n",
        "f.close()\n",
        "for line in lines:\n",
        "    print(line)"
      ],
      "execution_count": null,
      "outputs": [
        {
          "output_type": "stream",
          "name": "stdout",
          "text": [
            "Línia 0\n",
            "\n",
            "Línia 1\n",
            "\n",
            "Línia 2\n",
            "\n",
            "Línia 3\n",
            "\n",
            "Línia 4\n",
            "\n",
            "Línia 5\n",
            "\n",
            "Línia 6\n",
            "\n",
            "Línia 7\n",
            "\n",
            "Línia 8\n",
            "\n",
            "Línia 9\n",
            "\n"
          ]
        }
      ]
    },
    {
      "cell_type": "markdown",
      "metadata": {
        "id": "vuDHCxN__R7i"
      },
      "source": [
        "#### Llegint d’un fitxer (III)"
      ]
    },
    {
      "cell_type": "code",
      "metadata": {
        "colab": {
          "base_uri": "https://localhost:8080/"
        },
        "id": "0uGHZY7s_R7i",
        "outputId": "609e89a3-47a7-428a-c7c3-6b5e2b499f75"
      },
      "source": [
        "with open('a_file.txt') as f:\n",
        "    for line in f:\n",
        "        print(line)"
      ],
      "execution_count": null,
      "outputs": [
        {
          "output_type": "stream",
          "name": "stdout",
          "text": [
            "Línia 0\n",
            "\n",
            "Línia 1\n",
            "\n",
            "Línia 2\n",
            "\n",
            "Línia 3\n",
            "\n",
            "Línia 4\n",
            "\n",
            "Línia 5\n",
            "\n",
            "Línia 6\n",
            "\n",
            "Línia 7\n",
            "\n",
            "Línia 8\n",
            "\n",
            "Línia 9\n",
            "\n"
          ]
        }
      ]
    },
    {
      "cell_type": "markdown",
      "metadata": {
        "id": "UGUVXEy-_R7i"
      },
      "source": [
        "Organització del codi\n",
        "------------\n",
        "\n",
        "Un mòdul de Python és qualsevol fitxer amb extensió `.py` que estigui sota la ruta del `path` de Python. Es pot consultar el `path` de Python important la llibreria `sys`:"
      ]
    },
    {
      "cell_type": "code",
      "metadata": {
        "colab": {
          "base_uri": "https://localhost:8080/"
        },
        "id": "S6Jmosml_R7i",
        "outputId": "7d35724b-8098-4637-9a60-15c1062b855e"
      },
      "source": [
        "import sys\n",
        "print(sys.path)"
      ],
      "execution_count": null,
      "outputs": [
        {
          "output_type": "stream",
          "name": "stdout",
          "text": [
            "['/content', '/env/python', '/usr/lib/python39.zip', '/usr/lib/python3.9', '/usr/lib/python3.9/lib-dynload', '', '/usr/local/lib/python3.9/dist-packages', '/usr/lib/python3/dist-packages', '/usr/local/lib/python3.9/dist-packages/IPython/extensions', '/root/.ipython']\n"
          ]
        }
      ]
    },
    {
      "cell_type": "markdown",
      "metadata": {
        "id": "6MkMaUOl_R7j"
      },
      "source": [
        "Per defecte, Python també mira les llibreries que s'hagin definit en la variable d'entorn `$PYTHONPATH` (això pot canviar lleugerament en un entorn Windows, https://docs.python.org/3/using/cmdline.html).\n",
        "\n",
        "Un paquet de Python és qualsevol directori que contingui un fitxer especial de nom `__init__.py` (aquest fitxer estarà buit la majoria de vegades).\n",
        "\n",
        "Un mòdul pot contenir diferents funcions, variables o objectes. Per exemple, definim un mòdul de nom `prog_bio.py` que contingui:"
      ]
    },
    {
      "cell_type": "code",
      "metadata": {
        "id": "sLyFsOQL_R7j"
      },
      "source": [
        "# crearem un fitxer anomenat prog_bio.py en el qual hi ha definida una variable\n",
        "# (PI) i dues funcions (suma i resta)\n",
        "\n",
        "with open(\"prog_bio.py\", \"w\") as out:\n",
        "  out.write(\"PI = 3.14159265\\n\")\n",
        "  out.write(\"def suma(x,y):\\n   return x + y\\n\")\n",
        "  out.write(\"def resta(x,y):\\n   return x - y\")"
      ],
      "execution_count": null,
      "outputs": []
    },
    {
      "cell_type": "markdown",
      "metadata": {
        "id": "gzZVikd6_R7j"
      },
      "source": [
        "Per a utilitzar des d'un altre mòdul o script aquestes funcions, haurem d'escriure el següent:"
      ]
    },
    {
      "cell_type": "code",
      "metadata": {
        "id": "WinwU3mD_R7j"
      },
      "source": [
        "from prog_bio import PI, suma, resta"
      ],
      "execution_count": null,
      "outputs": []
    },
    {
      "cell_type": "code",
      "metadata": {
        "id": "rEWTqtjAIo5f",
        "colab": {
          "base_uri": "https://localhost:8080/"
        },
        "outputId": "7fc6357a-1d00-42f3-9101-f4425ce46d31"
      },
      "source": [
        "# I llavors les podrem utilitzar normalment\n",
        "solucio = suma(2,5)\n",
        "print(solucio)\n",
        "print(PI)"
      ],
      "execution_count": null,
      "outputs": [
        {
          "output_type": "stream",
          "name": "stdout",
          "text": [
            "7\n",
            "3.14159265\n"
          ]
        }
      ]
    },
    {
      "cell_type": "markdown",
      "metadata": {
        "id": "g7y15c46_R7j"
      },
      "source": [
        "Amb Python també podem utilitzar la directiva `from prog_bio import *`, però el seu ús està **totalment desaconsellat**. La raó és que estaríem important una gran quantitat de codi que no utilitzarem (amb el consegüent augment d'ús de la memòria) i, a més, podríem tenir col·lisions de noms (funcions que es cridin de la mateixa forma en diferents mòduls) sense el nostre coneixement. Tret que sigui imprescindible, no utilitzarem aquesta directiva i importarem d'una a una les llibreries i les seves funcions que necessitem."
      ]
    }
  ]
}