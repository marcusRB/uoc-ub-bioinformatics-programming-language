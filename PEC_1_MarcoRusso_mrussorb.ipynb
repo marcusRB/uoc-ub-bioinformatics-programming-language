{
  "nbformat": 4,
  "nbformat_minor": 0,
  "metadata": {
    "kernelspec": {
      "display_name": "Python 3",
      "language": "python",
      "name": "python3"
    },
    "language_info": {
      "codemirror_mode": {
        "name": "ipython",
        "version": 3
      },
      "file_extension": ".py",
      "mimetype": "text/x-python",
      "name": "python",
      "nbconvert_exporter": "python",
      "pygments_lexer": "ipython3",
      "version": "3.7.0"
    },
    "colab": {
      "provenance": [],
      "toc_visible": true,
      "include_colab_link": true
    }
  },
  "cells": [
    {
      "cell_type": "markdown",
      "metadata": {
        "id": "view-in-github",
        "colab_type": "text"
      },
      "source": [
        "<a href=\"https://colab.research.google.com/github/marcusRB/uoc-ub-bioinformatics-programming-language/blob/master/PEC_1_MarcoRusso_mrussorb.ipynb\" target=\"_parent\"><img src=\"https://colab.research.google.com/assets/colab-badge.svg\" alt=\"Open In Colab\"/></a>"
      ]
    },
    {
      "cell_type": "markdown",
      "metadata": {
        "id": "gAsi56ALbCgY"
      },
      "source": [
        "# Programación para la Bioinformática"
      ]
    },
    {
      "cell_type": "markdown",
      "metadata": {
        "id": "bo5D5MPHbCgg"
      },
      "source": [
        "## Unidad 1: Introducción a la programación en Python"
      ]
    },
    {
      "cell_type": "markdown",
      "source": [
        "## Etiquetas\n",
        "\n",
        "Bienvenidos a la PEC de la unidad 1 bajo estas lineas encontrareis Ejercicios y preguntas cada uno de ellos tendrá una etiqueta que indica los recursos necesarios para resolverlos. Hay tres posibles etiquetas:\n",
        "\n",
        "\n",
        "\n",
        "* **<font color=\"green\" size=\"+2\">MU</font>** **Materiales unidad**: las herramientas necesarias para realizar la actividad se pueden encontrar en los materiales de la asignatura.\n",
        "\n",
        "* **<font color=\"blue\" size=\"+2\">EG</font>** **Consulta externa guiada**: la actividad puede requerir utilizar herramientas que no se encuentran en los materiales de la asignatura, pero el enunciado contiene indicaciones de como encontrar la información adicional necesaria.\n",
        "\n",
        "* **<font color=\"gold\" size=\"+2\">CI</font>** **Consulta externa independiente**: la actividad puede requerir utilizar herramientas que no se encuentran en los materiales de la asignatura, y el enunciado no incluye las indicaciones de como encontrar la información adicional. El estudiante deberá buscar esta información independientemente.)\n",
        "\n",
        "## Tests\n",
        "\n",
        "Antes de nada, decir que en el ámbito de la programación es muy común utilizar tests (llamados tests unitarios) durante la codificación de los programas. Los tests sirven para saber si un programa se comporta como se espera. Es decir, sirven para validar la funcionalidad del programa, no para determinar la calidad del código.\n",
        "\n",
        "Así pues, los tests son un gran aliado del programador. Es por eso que la mayoría de los ejercicios e incluso alguna de las preguntas tendran una celda bajo ellas con un comentario en la primera línea con el título: `# Test Ejercicio X` o `Test Pregunta X`\n",
        "\n",
        "**IMPORTANTE**: **no debéis modificar las celdas de test**.\n",
        "\n",
        "Si las ejecutáis, lo que CoLab hará será ejecutar el test correspondiente sobre vuestro código. Dependiendo del resultado, sabréis que:\n",
        "\n",
        "* Si el test falla, entonces vuestro código no funciona como se espera. Así pues, tendréis que corregirlo.\n",
        "\n",
        "* Si el test no falla, entonces vuestro código se comporta como se espera. Sin embargo, esto no significa que el el ejercicio sea correcto, ya que hay situaciones en las que se pide usar una determinada función o estructura. Por ejemplo, imaginad que se pide resolver un ejercicio usando un ``for`` y, en su lugar, usáis un ``while``. Pues seguramente vuestro programa pasaría el test (porque funciona como se espera), pero no respeta un requisito del enunciado.\n",
        "\n",
        "**Para poder ejecutar los tests primero debéis ejecutar la siguiente celda de código**: (Tan solo una vez por sesión)"
      ],
      "metadata": {
        "id": "m8Im3-xWg0b-"
      }
    },
    {
      "cell_type": "code",
      "source": [
        "!pip install ipytest\n",
        "import ipytest\n",
        "ipytest.autoconfig()"
      ],
      "metadata": {
        "id": "ttNKWSzSrTD1",
        "colab": {
          "base_uri": "https://localhost:8080/"
        },
        "outputId": "6c9daba5-d75c-4281-a540-cb45a39cbea8"
      },
      "execution_count": null,
      "outputs": [
        {
          "output_type": "stream",
          "name": "stdout",
          "text": [
            "Collecting ipytest\n",
            "  Downloading ipytest-0.14.2-py3-none-any.whl.metadata (17 kB)\n",
            "Requirement already satisfied: ipython in /usr/local/lib/python3.12/dist-packages (from ipytest) (7.34.0)\n",
            "Requirement already satisfied: packaging in /usr/local/lib/python3.12/dist-packages (from ipytest) (25.0)\n",
            "Requirement already satisfied: pytest>=5.4 in /usr/local/lib/python3.12/dist-packages (from ipytest) (8.4.2)\n",
            "Requirement already satisfied: iniconfig>=1 in /usr/local/lib/python3.12/dist-packages (from pytest>=5.4->ipytest) (2.1.0)\n",
            "Requirement already satisfied: pluggy<2,>=1.5 in /usr/local/lib/python3.12/dist-packages (from pytest>=5.4->ipytest) (1.6.0)\n",
            "Requirement already satisfied: pygments>=2.7.2 in /usr/local/lib/python3.12/dist-packages (from pytest>=5.4->ipytest) (2.19.2)\n",
            "Requirement already satisfied: setuptools>=18.5 in /usr/local/lib/python3.12/dist-packages (from ipython->ipytest) (75.2.0)\n",
            "Collecting jedi>=0.16 (from ipython->ipytest)\n",
            "  Downloading jedi-0.19.2-py2.py3-none-any.whl.metadata (22 kB)\n",
            "Requirement already satisfied: decorator in /usr/local/lib/python3.12/dist-packages (from ipython->ipytest) (4.4.2)\n",
            "Requirement already satisfied: pickleshare in /usr/local/lib/python3.12/dist-packages (from ipython->ipytest) (0.7.5)\n",
            "Requirement already satisfied: traitlets>=4.2 in /usr/local/lib/python3.12/dist-packages (from ipython->ipytest) (5.7.1)\n",
            "Requirement already satisfied: prompt-toolkit!=3.0.0,!=3.0.1,<3.1.0,>=2.0.0 in /usr/local/lib/python3.12/dist-packages (from ipython->ipytest) (3.0.52)\n",
            "Requirement already satisfied: backcall in /usr/local/lib/python3.12/dist-packages (from ipython->ipytest) (0.2.0)\n",
            "Requirement already satisfied: matplotlib-inline in /usr/local/lib/python3.12/dist-packages (from ipython->ipytest) (0.1.7)\n",
            "Requirement already satisfied: pexpect>4.3 in /usr/local/lib/python3.12/dist-packages (from ipython->ipytest) (4.9.0)\n",
            "Requirement already satisfied: parso<0.9.0,>=0.8.4 in /usr/local/lib/python3.12/dist-packages (from jedi>=0.16->ipython->ipytest) (0.8.5)\n",
            "Requirement already satisfied: ptyprocess>=0.5 in /usr/local/lib/python3.12/dist-packages (from pexpect>4.3->ipython->ipytest) (0.7.0)\n",
            "Requirement already satisfied: wcwidth in /usr/local/lib/python3.12/dist-packages (from prompt-toolkit!=3.0.0,!=3.0.1,<3.1.0,>=2.0.0->ipython->ipytest) (0.2.14)\n",
            "Downloading ipytest-0.14.2-py3-none-any.whl (18 kB)\n",
            "Downloading jedi-0.19.2-py2.py3-none-any.whl (1.6 MB)\n",
            "\u001b[?25l   \u001b[90m━━━━━━━━━━━━━━━━━━━━━━━━━━━━━━━━━━━━━━━━\u001b[0m \u001b[32m0.0/1.6 MB\u001b[0m \u001b[31m?\u001b[0m eta \u001b[36m-:--:--\u001b[0m\r\u001b[2K   \u001b[91m━━━━━━━━━━━━━━━━\u001b[0m\u001b[91m╸\u001b[0m\u001b[90m━━━━━━━━━━━━━━━━━━━━━━━\u001b[0m \u001b[32m0.7/1.6 MB\u001b[0m \u001b[31m20.0 MB/s\u001b[0m eta \u001b[36m0:00:01\u001b[0m\r\u001b[2K   \u001b[90m━━━━━━━━━━━━━━━━━━━━━━━━━━━━━━━━━━━━━━━━\u001b[0m \u001b[32m1.6/1.6 MB\u001b[0m \u001b[31m26.3 MB/s\u001b[0m eta \u001b[36m0:00:00\u001b[0m\n",
            "\u001b[?25hInstalling collected packages: jedi, ipytest\n",
            "Successfully installed ipytest-0.14.2 jedi-0.19.2\n"
          ]
        }
      ]
    },
    {
      "cell_type": "markdown",
      "metadata": {
        "id": "AUa7KKKCbCgg"
      },
      "source": [
        "Ejercicios y preguntas teóricas\n",
        "-------------------------------\n",
        "\n",
        "A continuación, encontraréis la parte que tenéis que completar en este módulo y las preguntas teóricas a contestar dentro de la sección **ejercicios evaluables**.\n",
        "\n",
        "Además de estos ejercicios, teneís otros dentro de la sección **ejercicios de entrenamiento**. Estos ejercicios no cuentan para la nota de la PEC pero su realización es obligatoria. Si entregáis los evaluables completados pero estos en blanco, tendréis un 0. La finalidad de estos ejercicios es que practiquéis. A diferencia de los evaluables, los ejercicios ejemplo podéis discutirlos en el foro entre vosotros pegando código, etc. Sin limitaciones. Sobre los evaluables también podéis preguntar pero sin compartir código ni dar \"pistas\" sobre como resolverlos a los compañeros.\n"
      ]
    },
    {
      "cell_type": "markdown",
      "source": [
        "###**Ejercicios de entrenamiento**"
      ],
      "metadata": {
        "id": "p3B42yccYOu1"
      }
    },
    {
      "cell_type": "markdown",
      "source": [
        "###Ejercicio Entrenamiento 1\n",
        "\n",
        "Una de las principales diferencias entre las versiones 2 y 3 de Python es la división. ¿Cual es el resultado de dividir 11÷2 en Python2 y en Python3?\n"
      ],
      "metadata": {
        "id": "8K2FiuAfoh7U"
      }
    },
    {
      "cell_type": "code",
      "source": [
        "# Respuesta Ejercicio 1"
      ],
      "metadata": {
        "id": "mroKfiUQYpQn"
      },
      "execution_count": null,
      "outputs": []
    },
    {
      "cell_type": "markdown",
      "source": [
        "First of all, we need to understand the jump of the versions, available here: https://docs.python.org/3/whatsnew/3.0.html#changes-already-present-in-python-2-6 described in the rule called *PEP 238* referenced here: https://peps.python.org/pep-0238/\n",
        "\n",
        "After that, to understand the behaviour of the operator `/`  which is one of the most important difference between Python 2.x and Python 3.x., we be able to to split the function of the operator itself.\n",
        "\n",
        "In python3.x, the operator `/` make the division between two integer numbers into real results. For example, `11 / 2`, in python3 the result is `5.5`, is the float result as the expected.\n",
        "\n",
        "But, in the python2.x version, the division, convert the result in integer, in that case,`11 / 2` the result is `5`. Actually must be 5.5 rounded to ceil, equal to 6, but python2.x round the result to floor.\n",
        "\n",
        "However, in python3.x version, we must use the operator `//` to make the division integer."
      ],
      "metadata": {
        "id": "kkF8HR0Wpp0w"
      }
    },
    {
      "cell_type": "code",
      "source": [
        "# python3 operator / real division between integer numbers\n",
        "11 / 2"
      ],
      "metadata": {
        "colab": {
          "base_uri": "https://localhost:8080/"
        },
        "id": "yZNfnfKtsMcA",
        "outputId": "4cd7bc79-a149-434c-f261-e198a3ad8a25"
      },
      "execution_count": null,
      "outputs": [
        {
          "output_type": "execute_result",
          "data": {
            "text/plain": [
              "5.5"
            ]
          },
          "metadata": {},
          "execution_count": 8
        }
      ]
    },
    {
      "cell_type": "code",
      "source": [
        "# python3 operator // integer division expression\n",
        "11 // 2"
      ],
      "metadata": {
        "colab": {
          "base_uri": "https://localhost:8080/"
        },
        "id": "CbGd35FNsXqx",
        "outputId": "ef721349-e2f3-43af-d338-38f3e9de8335"
      },
      "execution_count": null,
      "outputs": [
        {
          "output_type": "execute_result",
          "data": {
            "text/plain": [
              "5"
            ]
          },
          "metadata": {},
          "execution_count": 5
        }
      ]
    },
    {
      "cell_type": "code",
      "source": [
        "# python2 operators / or // make the result in integer value\n",
        "# 11 / 2 = 5\n",
        "# 11 // 2 = 5"
      ],
      "metadata": {
        "id": "ko7RM5qds0Nk"
      },
      "execution_count": null,
      "outputs": []
    },
    {
      "cell_type": "markdown",
      "source": [
        "### Ejercicio Entrenamiento 2\n",
        "\n",
        "El siguiente código pretende crear una tupla con los dias laborables de la semana y, a continuación, añadirle el fin de semana. Pero falla ¿Por qué? ¿Cómo lo arreglarias?"
      ],
      "metadata": {
        "id": "VcQyXS1grGYy"
      }
    },
    {
      "cell_type": "code",
      "source": [
        "tupla_dias_semana = \"lunes\", \"martes\", \"miercoles\", \"jueves\", \"viernes\"\n",
        "tupla_dias_semana.append(\"sabado\")\n",
        "tupla_dias_semana.append(\"domingo\")"
      ],
      "metadata": {
        "colab": {
          "base_uri": "https://localhost:8080/",
          "height": 187
        },
        "id": "CYZzPC_-KsGz",
        "outputId": "1d7f3fdb-2a79-4572-da72-4e76930b1017"
      },
      "execution_count": null,
      "outputs": [
        {
          "output_type": "error",
          "ename": "AttributeError",
          "evalue": "ignored",
          "traceback": [
            "\u001b[0;31m---------------------------------------------------------------------------\u001b[0m",
            "\u001b[0;31mAttributeError\u001b[0m                            Traceback (most recent call last)",
            "\u001b[0;32m<ipython-input-58-64425eb1632b>\u001b[0m in \u001b[0;36m<module>\u001b[0;34m()\u001b[0m\n\u001b[1;32m      1\u001b[0m \u001b[0mtupla_dias_semana\u001b[0m \u001b[0;34m=\u001b[0m \u001b[0;34m\"lunes\"\u001b[0m\u001b[0;34m,\u001b[0m \u001b[0;34m\"martes\"\u001b[0m\u001b[0;34m,\u001b[0m \u001b[0;34m\"miercoles\"\u001b[0m\u001b[0;34m,\u001b[0m \u001b[0;34m\"jueves\"\u001b[0m\u001b[0;34m,\u001b[0m \u001b[0;34m\"viernes\"\u001b[0m\u001b[0;34m\u001b[0m\u001b[0;34m\u001b[0m\u001b[0m\n\u001b[0;32m----> 2\u001b[0;31m \u001b[0mtupla_dias_semana\u001b[0m\u001b[0;34m.\u001b[0m\u001b[0mappend\u001b[0m\u001b[0;34m(\u001b[0m\u001b[0;34m\"sabado\"\u001b[0m\u001b[0;34m)\u001b[0m\u001b[0;34m\u001b[0m\u001b[0;34m\u001b[0m\u001b[0m\n\u001b[0m",
            "\u001b[0;31mAttributeError\u001b[0m: 'tuple' object has no attribute 'append'"
          ]
        }
      ]
    },
    {
      "cell_type": "code",
      "source": [
        "# Respuesta"
      ],
      "metadata": {
        "id": "yreHj7taY3ys"
      },
      "execution_count": null,
      "outputs": []
    },
    {
      "cell_type": "markdown",
      "source": [
        "The explanation of the data type `tuple`, detailed in the official Python documentation available here: https://docs.python.org/3/library/stdtypes.html#tuple describe it as Tuples are immutable sequences. That means the object built with some elements as the first step, cannot to change the object itself.\n",
        "\n",
        "So, if `tupla_dias_semana` contains such elements, lunes to viernes, for example, `tuple` be able not to use methods like `append`, as used in the data type like `list` even `remove`, because the object is immutable. Same for other methods used for the `list`, like `pop`, and so on.\n",
        "\n",
        "That's way the expression `tuple.append` return `AttributeError`.\n",
        "\n",
        "How to fix that? Simple, first of all we need to understand how to built the tuple object. If each element used is immutable, but in the memory has a slot occupied in the specific `index`, so, we be able to convert the object in mutable.\n",
        "\n",
        "My suggestion is might convert in the mutuable object, like `list`, to add or to remove the chosen element, and finally we could to re-convert to immutable object again or leave as a list.\n",
        "\n",
        "We show an example below how to fix quickly the object from immutable to mutable."
      ],
      "metadata": {
        "id": "NIetNAoDuCJZ"
      }
    },
    {
      "cell_type": "code",
      "source": [
        "tupla_dias_semana = \"lunes\", \"martes\", \"miercoles\", \"jueves\", \"viernes\"\n",
        "print(f\"the index of the element 'lunes' in the tuple is: {tupla_dias_semana.index('lunes')}\\n\")\n",
        "\n",
        "\n",
        "list_dias_semana = list(tupla_dias_semana)\n",
        "\n",
        "list_dias_semana.append(\"sabado\")\n",
        "list_dias_semana.append(\"domingo\")\n",
        "print(list_dias_semana)\n",
        "\n",
        "tupla_dia_semana_completa = tuple(list_dias_semana)\n",
        "print(tupla_dia_semana_completa)\n",
        "\n",
        "\n",
        "print(type(list_dias_semana))\n",
        "print(type(tupla_dias_semana))\n",
        "print(type(tupla_dia_semana_completa))\n"
      ],
      "metadata": {
        "colab": {
          "base_uri": "https://localhost:8080/"
        },
        "id": "cwMlPl4Dt5LQ",
        "outputId": "8388fcc9-cc4e-4a9a-9cf6-e1eca7da1e4a"
      },
      "execution_count": null,
      "outputs": [
        {
          "output_type": "stream",
          "name": "stdout",
          "text": [
            "the index of the element 'lunes' in the tuple is: 0\n",
            "\n",
            "['lunes', 'martes', 'miercoles', 'jueves', 'viernes', 'sabado', 'domingo']\n",
            "('lunes', 'martes', 'miercoles', 'jueves', 'viernes', 'sabado', 'domingo')\n",
            "<class 'list'>\n",
            "<class 'tuple'>\n",
            "<class 'tuple'>\n"
          ]
        }
      ]
    },
    {
      "cell_type": "markdown",
      "source": [
        "### Ejercicio Entrenamiento 3\n",
        "Añade todos los elementos sueltos y las listas a la siguiente lista y ordénala alfabéticamente e imprime los 3 primeros elementos**"
      ],
      "metadata": {
        "id": "s0bBvhzArTt-"
      }
    },
    {
      "cell_type": "code",
      "source": [
        "# Datos\n",
        "lista_comida_saludable = [\"lechuga\", \"cebolla\"]\n",
        "elemento_zanahoria = \"zanahoria\"\n",
        "elemento_tomate = \"tomate\"\n",
        "lista_frutas = [\"naranja\", \"pera\", \"platano\"]\n",
        "lista_legumbres = [\"guisantes\", \"garbanzos\"]\n",
        "# Respuesta"
      ],
      "metadata": {
        "id": "vaP-EcnvZbJy"
      },
      "execution_count": null,
      "outputs": []
    },
    {
      "cell_type": "code",
      "source": [
        "# Add the variables elemento_zanahoria and elemento_tomate to list and orders in ASC mode. Finally show the first 3 elements.\n",
        "lista_comida_saludable.append(elemento_zanahoria)\n",
        "lista_comida_saludable.append(elemento_tomate)\n",
        "\n",
        "# Add each elements of the following list to the first list\n",
        "lista_comida_saludable.extend(lista_frutas)\n",
        "lista_comida_saludable.extend(lista_legumbres)\n",
        "\n",
        "# Sort the elements in ascending order the list.\n",
        "# For default the method sort reverse=False parameter.\n",
        "lista_comida_saludable.sort()\n",
        "\n",
        "# Finally, show the first three results\n",
        "print(lista_comida_saludable[:3])"
      ],
      "metadata": {
        "colab": {
          "base_uri": "https://localhost:8080/"
        },
        "id": "89QjVIPsyjW9",
        "outputId": "2880522b-f07b-4b94-f3fe-9963ad80299a"
      },
      "execution_count": null,
      "outputs": [
        {
          "output_type": "stream",
          "name": "stdout",
          "text": [
            "['cebolla', 'garbanzos', 'guisantes']\n"
          ]
        }
      ]
    },
    {
      "cell_type": "markdown",
      "source": [
        "##Ejercicio Entrenamiento 4\n",
        "\n",
        "\n",
        "Imprime el tipo, el nombre y el valor (en la misma sentencia) de las siguientes variables:"
      ],
      "metadata": {
        "id": "1YN4TRW4p6Gg"
      }
    },
    {
      "cell_type": "code",
      "source": [
        "palabra = \"bioinformatica\"\n",
        "numero_entero = 256\n",
        "numero_decimal = 3.1415\n",
        "# Respuesta"
      ],
      "metadata": {
        "id": "qigT-4gvZ4mD"
      },
      "execution_count": null,
      "outputs": []
    },
    {
      "cell_type": "code",
      "source": [
        "# For each variable convert to dictionary and assign the value\n",
        "new_diccionario = dict({\"palabra\": palabra,\n",
        "                 \"numero_entero\": numero_entero,\n",
        "                 \"numero_decimal\": numero_decimal})\n",
        "print(new_diccionario)\n",
        "\n",
        "# Iterate each element key and value of the dictionary, and then shows the type, the name and value in the new object using DictComprehension\n",
        "{f\"The type is {type(v)}; the name is {k}; the value is {v}\" for k,v in new_diccionario.items()}"
      ],
      "metadata": {
        "colab": {
          "base_uri": "https://localhost:8080/"
        },
        "id": "BURR31OEy3i3",
        "outputId": "61d0e92d-5bfd-46da-ccdb-63f27b103f6f"
      },
      "execution_count": null,
      "outputs": [
        {
          "output_type": "stream",
          "name": "stdout",
          "text": [
            "{'palabra': 'bioinformatica', 'numero_entero': 256, 'numero_decimal': 3.1415}\n"
          ]
        },
        {
          "output_type": "execute_result",
          "data": {
            "text/plain": [
              "{\"The type is <class 'float'>; the name is numero_decimal; the value is 3.1415\",\n",
              " \"The type is <class 'int'>; the name is numero_entero; the value is 256\",\n",
              " \"The type is <class 'str'>; the name is palabra; the value is bioinformatica\"}"
            ]
          },
          "metadata": {},
          "execution_count": 21
        }
      ]
    },
    {
      "cell_type": "markdown",
      "source": [
        "### **Ejercicios evaluables**"
      ],
      "metadata": {
        "id": "rDL6wRGIYB7Q"
      }
    },
    {
      "cell_type": "markdown",
      "source": [
        "Podéis encontrar en la documentación oficial de *string* funciones que os puedan ser de ayuda para completar los ejercicios: https://docs.python.org/3/library/string.html"
      ],
      "metadata": {
        "id": "giEcn5HOYBX6"
      }
    },
    {
      "cell_type": "markdown",
      "metadata": {
        "id": "YCnasCl4bCgg"
      },
      "source": [
        "### Pregunta 1 **<font color=\"blue\" size=\"+2\">EG</font>**\n",
        "¿Cuál es la diferencia entre definir un string con comillas simples (' '), comillas dobles(\" \") y tres comillas dobles (\"\"\" \"\"\")?\n",
        "\n",
        "**Pon un ejemplo de cada uno de ellos**.\n",
        "\n",
        "**Respuesta:**\n"
      ]
    },
    {
      "cell_type": "markdown",
      "source": [
        "Accordingly with the official documentation available here:\n",
        "https://docs.python.org/3/library/stdtypes.html#text-sequence-type-str\n",
        "\n",
        "there are three kind of string format:\n",
        "- the first format is single quotes `'python'`\n",
        "- the second format is double quotes `\"python\"`\n",
        "- the third format is triple quotes `\"\"\" python \"\"\"`\n",
        "\n",
        "Normally, in the string structure, such as a text, the specific word which includes single quotes will be embedded within double quotes for example:\n",
        "- \"This is a large text with a 'word' in single quotes\"\n",
        "\n",
        "The same when the text include a word needs to embedded in double quotes, so the string will be write in this way:\n",
        "- 'This is a short text with \"word\" in double quotes'.\n",
        "\n",
        "The third case, normally will be used as large text and needs multilines, such as the description for the specific function or method, called `docstring`.\n",
        "\n",
        "So, for this particular scenario the triple quotes is more relevant. An example:\n",
        "\n",
        "```\n",
        "def sum_values(x:float,\n",
        "                 y:int) -> float:\n",
        "    \"\"\"This is a short description for the function sum_values which have two parameters:\n",
        "    Args:\n",
        "        x: float\n",
        "        y: int\n",
        "    Return:\n",
        "        sum of values x+y\n",
        "    \"\"\"\n",
        "    return x+y\n",
        "```\n",
        "\n",
        "\n"
      ],
      "metadata": {
        "id": "Sgb1zvmjatAf"
      }
    },
    {
      "cell_type": "markdown",
      "metadata": {
        "id": "Nd9JXrJgbCgi"
      },
      "source": [
        "### Pregunta 2 **<font color=\"blue\" size=\"+2\">EG</font>**\n",
        "¿Qué expresión en Python (la más idiomática que encuentres) necesitamos para conseguir el string `GENETIXGENETIXGENETIXGENETIXGENETIX` utilizando solo la palabra `GENETIX`?\n",
        "\n",
        "**Respuesta:**"
      ]
    },
    {
      "cell_type": "markdown",
      "source": [
        "I have two answers to achieve the same result. The first create the string with the entire concatenate word, the phrase, and searching the exact word within.\n",
        "\n",
        "Basically, I'm using the `divide and conquer` method. Start from scratch and count how many words the word exist in the phrase."
      ],
      "metadata": {
        "id": "sVTB8ZrxcKgM"
      }
    },
    {
      "cell_type": "code",
      "source": [
        "# Start with define the string from the original GENETIXGENETIXGENETIXGENETIXGENETIX\n",
        "final_result = \"GENETIXGENETIXGENETIXGENETIXGENETIX\"\n",
        "string_genetix = \"GENETIX\"\n",
        "\n",
        "# Count how many string_genetix have final_results\n",
        "num_times_string = final_result.count(string_genetix)\n",
        "print(\"There are string GENETIX: {num_times_string} times\\n\")\n",
        "\n",
        "# Final result is multiply the original string n times.\n",
        "final_string_as_expected = string_genetix * num_times_string\n",
        "\n",
        "print(final_string_as_expected)"
      ],
      "metadata": {
        "id": "7frVYs8PatXh",
        "colab": {
          "base_uri": "https://localhost:8080/"
        },
        "outputId": "560a44ff-16b9-44d8-8d0e-1149e1cb1b64"
      },
      "execution_count": null,
      "outputs": [
        {
          "output_type": "stream",
          "name": "stdout",
          "text": [
            "There are string GENETIX: {num_times_string} times\n",
            "\n",
            "GENETIXGENETIXGENETIXGENETIXGENETIX\n"
          ]
        }
      ]
    },
    {
      "cell_type": "markdown",
      "source": [
        "But, the simplest way to achive this proble, is multiply n times the exact string. It's rude, ugly but efficient. Not very standard with Python's Zen."
      ],
      "metadata": {
        "id": "chXMD7mCctuK"
      }
    },
    {
      "cell_type": "code",
      "source": [
        "# Obviously, the simplest way the achieve the same result is multiply n times the string\n",
        "print(\"GENETIX\" * 5)"
      ],
      "metadata": {
        "colab": {
          "base_uri": "https://localhost:8080/"
        },
        "id": "uzz6-cAn-AVg",
        "outputId": "949efe66-4e7a-42a7-8161-d182e0046873"
      },
      "execution_count": null,
      "outputs": [
        {
          "output_type": "stream",
          "name": "stdout",
          "text": [
            "GENETIXGENETIXGENETIXGENETIXGENETIX\n"
          ]
        }
      ]
    },
    {
      "cell_type": "markdown",
      "metadata": {
        "id": "f8rUQgucbCgl"
      },
      "source": [
        "### Pregunta 3 **<font color=\"green\" size=\"+2\">MU</font>**\n",
        "\n",
        "**¿Cuál es el valor final de a, b y c ? (prestad atención a los tipos de número decimal y entero)**\n",
        "\n",
        "a = 5*10\n",
        "\n",
        "b = 5/4.\n",
        "\n",
        "c, a = a+3, b*4\n",
        "\n",
        "b = a // 3\n",
        "\n",
        "**Nota:** Tened en cuenta el tipo de variable (int, float, bool, str) y su comportamiento en cada momento.\n",
        "\n",
        "**No son lo mismo: 9 y 9.0**\n",
        "\n",
        "**Son lo mismo: 9. y 9.0**\n",
        "\n",
        "Queremos saber cuál es el valor final y el porqué. Puedes ejecutar el código en una nueva celda para comprobar que tu respuesta es correcta, pero tu respuesta **debe explicar** la razón de que sea así, no vale con tan solo ejecutar el código.\n",
        "\n",
        "**Respuesta :**"
      ]
    },
    {
      "cell_type": "code",
      "source": [
        "# The result of a\n",
        "a = 5 * 10\n",
        "b = 5 / 4.\n",
        "c, a = a + 3, b * 4\n",
        "b = a // 3\n",
        "\n",
        "print(a, b, c)"
      ],
      "metadata": {
        "colab": {
          "base_uri": "https://localhost:8080/"
        },
        "id": "BuptYdrC-xl6",
        "outputId": "a79d557a-3d62-492b-eeea-5873fbdbaf48"
      },
      "execution_count": null,
      "outputs": [
        {
          "output_type": "stream",
          "name": "stdout",
          "text": [
            "5.0 1.0 53\n"
          ]
        }
      ]
    },
    {
      "cell_type": "markdown",
      "source": [
        "### Explanation of Exercise 3\n",
        "\n",
        "Step by step we explain each operation:\n",
        "\n",
        "- first line: `variable a` has the result of the multiplication of two integers values. Is a integer because each value is integer. So, `a = 50`.\n",
        "\n",
        "- second line: `variable b`, we have the first value as integer `5` divide by `4.` or `4.0` are equivalent. The result is float, `b = 5 / 4.0 = 1.25`\n",
        "\n",
        "- third line: Now, we assign at the new variable `c` the result of `a + 3`, `c = (50 + 3) = 53`, and at variable `a` will be assign the result of b times 4. So the new value of variable `a` is equal `a = 1.25 * 4 = 5.0`.\n",
        "\n",
        "- fourth line: we assign to `b` the result of division of new variable `a` by 3, `b = 0.50 // 3 = 1.0`.\n",
        "\n",
        "So the final result is:\n",
        "`a = 5.0`\n",
        "`b = 1.0`\n",
        "`c = 53`\n",
        "\n",
        "The first variables are a float and the last is a integer."
      ],
      "metadata": {
        "id": "a79jIjVhAXqi"
      }
    },
    {
      "cell_type": "markdown",
      "metadata": {
        "id": "YVVHWDqEbCgm"
      },
      "source": [
        "### Pregunta 4 **<font color=\"green\" size=\"+2\">MU</font>**\n",
        "\n",
        "**¿Cuáles de las siguientes expresiones son sintácticamente correctas y cuales incorrectas? Explica el porqué una por una.** Por sintácticamente incorrectas entendemos las expresiones que el intérprete de Python no es capaz de ejecutar correctamente.\n",
        "\n",
        "* planetas = 'Saturno', 'Jupiter', 'Tierra'\n",
        "* t = ('123', 'abc', 0, )\n",
        "* dias = ['Lunes', 'Martes', \"Miercoles\", ''.join(['J','u','e','v','e','s'])]\n",
        "* matriz = [[],[],[],[],()]\n",
        "* t = r = s = u = 0 + 1\n",
        "* a = 1; a += 1; a += []\n",
        "* x = 'Hola' + 'Mundo'\n",
        "* print(\"Hello, %s! You've got %d new emails\" % [name, num_emails])\n",
        "\n",
        "**Respuesta:**"
      ]
    },
    {
      "cell_type": "markdown",
      "metadata": {
        "id": "yeF2xS_8bCgo"
      },
      "source": [
        "### Explanation Exercise 4\n",
        "\n",
        "We answer each of every questions below:\n",
        "\n",
        "- `planetas variable` is syntactically **CORRECT**. The variable assign three words, the result will be an object as tuple. We must to remember one of requirement to creat tuple is: Separating items with commas: a, b, c or (a, b, c). In that case we have added some elements.\n",
        "\n",
        "- `t variable` is syntactically **CORRECT**. The object could be heterogeneous. So, as before answer, the tuple object is valid.\n",
        "\n",
        "- `dias variable` is syntactically **CORRECT**. That object is a list of elements, three of theirs are `string` and one has been created joined \"\" empty space per each char, which result is 'Jueves'.\n",
        "\n",
        "- `matriz variable` is syntactically **CORRECT**. That object is called list of lists. In that specific case, are empty lists, maybe used in the other step to fill each list with some element after.\n",
        "\n",
        "- `t = r = s = u = 0 + 1` is syntactically **CORRECT**. That create an operation by multiple assignment of other variables. If we read from right to left, the first operation is `0 + 1 = 1` assigned to `u variable`. Into left assigned in order by `s`, `r`, and finally `t`.\n",
        "\n",
        "- `a = 1; a += 1; a += []` is syntactically **INCORRECT**. Assign at the variable `a` the value `1` and then sum one value more `1`, the result expected is `2`. But in the last assignment, the list is other kind of object, which return `TypeError`.\n",
        "\n",
        "- `x = 'Hola' + 'Mundo'` is syntactically **CORRECT**. The concatenation of the string elements return `HolaMundo`. If we fix the typo, we should add one more space between two words, or start the second word with a char space, like ` Mundo`. So, finally it is correct.\n",
        "\n",
        "- `print(\"Hello, %s! You've got %d new emails\" % [name, num_emails])` is syntactically **INCORRECT**. In that case we haven't defined a variable called name, neither num_emails. For that the operation retunr `NameError`."
      ]
    },
    {
      "cell_type": "markdown",
      "metadata": {
        "id": "3wxMrAZVbCgo"
      },
      "source": [
        "### Pregunta 5 **<font color=\"blue\" size=\"+2\">EG</font>**\n",
        "\n",
        "Explica a qué se refieren con el término \"batteries included\" en la comunidad Python. **Poned 5 ejemplos de paquetes de la librería estándar y una explicación de cada uno de ellos.**\n",
        "\n",
        "**Respuesta:**"
      ]
    },
    {
      "cell_type": "markdown",
      "metadata": {
        "id": "tJ81l20xbCgo"
      },
      "source": [
        "The reference *batteries included* as Python's philosophy adoption, is common used by the programmer's community. It's referenced by modules ready to use, including built-in data types and variables, without install other modules.\n",
        "\n",
        "The main references discussed here: https://python-basics-tutorial.readthedocs.io/en/latest/libs/batteries.html and here: https://python-basics-tutorial.readthedocs.io/en/latest/libs/batteries.html includes some examples how the adoption of that philosophy is applied.\n",
        "\n",
        "There are 5 examples based on my short experience with Python and their description:\n",
        "\n",
        "1. Managing strings modules, `re` is most used string module to search and replace text by regular expression. Ref. https://docs.python.org/3.14/library/re.html#module-re\n",
        "\n",
        "2. Managing data types modules, `pprint` provides the capability to \"pretty-print\" which can be used as input to the interpreter. Ref. https://docs.python.org/3.14/library/pprint.html#module-pprint\n",
        "\n",
        "3. Managing numbers modules, `random` is wide used for generating pseudo-random numberes and for shufling sequences. Normally in ML and Statistics field is common used, as in other areas. Ref. https://docs.python.org/3.14/library/random.html#module-random\n",
        "\n",
        "4. Interacting with the operating system modules, `multiprocessing` is the process-based threading interface. It's used during looping in specific use case, i.e. to read or write files at onces and the process depends to achieve the best balance performance/timing by CPU or GPU. https://docs.python.org/3.14/library/multiprocessing.html#module-multiprocessing\n",
        "\n",
        "5. Developing and debugging modules, `gc` is the function of the Python garbace collector. For example, the use of garbace collector join with multiprocessing or concurrent process, avoid the memory consumption and achieve the best balance performance/timing during large tasks. Supposing reading files, store object in the memory, transform it and then write using in another process, garbace collect helps to free the unavailable space. Ref. https://docs.python.org/3.14/library/gc.html#module-gc"
      ]
    },
    {
      "cell_type": "markdown",
      "metadata": {
        "id": "oPkJsNQtbCgo"
      },
      "source": [
        "### Pregunta 6 **<font color=\"blue\" size=\"+2\">EG</font>**\n",
        "\n",
        "Python dispone de un idiom muy útil conocido como list comprehensions. ¿Puedes explicar en qué consiste? Indicad\n",
        "**dos ejemplos** de código que utilicen este idiom y documentad cada parte de código relevante.\n",
        "\n",
        "**Respuesta:**"
      ]
    },
    {
      "cell_type": "markdown",
      "source": [
        "One of the most important capability of the data type `list`, is the feature called `list comprehensions`discussed here: https://docs.python.org/3.14/glossary.html#term-list-comprehension\n",
        "\n",
        "It's allow to create lists as data structure with very concise expressions. With list comprehensions, we can create new lists from one (or several) original lists, operating on the original values ​​and/or filtering them.\n",
        "\n",
        "The syntax of a list comprehension consists of brackets (which define the list), which contain at least one `for clause` and which can also have `if clauses`. It's importance to understand how it works, because there are similar features also for dictionary data type, `dict comprehensions`, for set data type, `set comprehensions`. Ref.  https://docs.python.org/3.14/reference/expressions.html#comprehensions\n",
        "\n",
        "Let's see this with some examples, keeping in mind the complexity used in terms of Big O, in this case `O(1)`:"
      ],
      "metadata": {
        "id": "qLML_D2ewR3T"
      }
    },
    {
      "cell_type": "code",
      "source": [
        "# Creating a matrix 5x5 without a list comprehension\n",
        "from pprint import pprint\n",
        "\n",
        "%time\n",
        "matrix = list()\n",
        "\n",
        "# Iterate by rows\n",
        "for i in range(5):\n",
        "    # We add an empty row\n",
        "    matrix.append([])\n",
        "\n",
        "    # Iterate by columns\n",
        "    for j in range(5):\n",
        "        # We add values 0 to 4 per row\n",
        "        matrix[i].append(j)\n",
        "\n",
        "# Show the result\n",
        "pprint(matrix)"
      ],
      "metadata": {
        "id": "LiOqshD0SfGI",
        "colab": {
          "base_uri": "https://localhost:8080/"
        },
        "outputId": "548573e3-a961-4c82-8309-d12eaeb8be3b"
      },
      "execution_count": null,
      "outputs": [
        {
          "output_type": "stream",
          "name": "stdout",
          "text": [
            "CPU times: user 2 µs, sys: 0 ns, total: 2 µs\n",
            "Wall time: 4.29 µs\n",
            "[[0, 1, 2, 3, 4],\n",
            " [0, 1, 2, 3, 4],\n",
            " [0, 1, 2, 3, 4],\n",
            " [0, 1, 2, 3, 4],\n",
            " [0, 1, 2, 3, 4]]\n"
          ]
        }
      ]
    },
    {
      "cell_type": "code",
      "metadata": {
        "id": "wwFdbA3E3lm4",
        "colab": {
          "base_uri": "https://localhost:8080/"
        },
        "outputId": "4e81433a-97f0-429b-e186-d368af28ad20"
      },
      "source": [
        "# Create the same matrix by list lomprehension\n",
        "from pprint import pprint\n",
        "\n",
        "%time\n",
        "# We append the list of rows and the list of columns directly in\n",
        "# the final list of list (matrix itself), using the double square brackets.\n",
        "matrix = [[col for col in range(5) for row in range(5)]]\n",
        "pprint(matrix)"
      ],
      "execution_count": null,
      "outputs": [
        {
          "output_type": "stream",
          "name": "stdout",
          "text": [
            "CPU times: user 2 µs, sys: 0 ns, total: 2 µs\n",
            "Wall time: 3.1 µs\n",
            "[[0, 0, 0, 0, 0, 1, 1, 1, 1, 1, 2, 2, 2, 2, 2, 3, 3, 3, 3, 3, 4, 4, 4, 4, 4]]\n"
          ]
        }
      ]
    },
    {
      "cell_type": "markdown",
      "source": [
        "We show the another scenario of the list comprehensions instead of a traditional iteration looping."
      ],
      "metadata": {
        "id": "zfPmn3E65fXE"
      }
    },
    {
      "cell_type": "code",
      "source": [
        "# Example without list comprehensions.\n",
        "\n",
        "# Could be more complex using list comprehension with if conditional\n",
        "# or transform some element in the object, for example capitalize the following words.\n",
        "# But, get only capitalize words if contains a specific letter by module regular expressions.\n",
        "from pprint import pprint\n",
        "import re\n",
        "\n",
        "fruits_lower = [[\"apple\", \"banana\", \"cherry\"],\n",
        "     [\"date\", \"fig\", \"grape\"],\n",
        "     [\"kiwi\", \"lemon\", \"mango\"],\n",
        "     [\"watermelon\", \"strawberry\", \"orange\"]]\n",
        "\n",
        "# Start with an empty list\n",
        "final_result = []\n",
        "\n",
        "# Iterate by rows and each column\n",
        "for row in fruits_lower:\n",
        "    for word in row:\n",
        "        # Searching the pattern, like a m letter per each word\n",
        "        pattern_word = re.findall(r'[a-z]*m{1,}[a-z]*', word)\n",
        "        # If true, append the word capitalized in the final list\n",
        "        for w in pattern_word:\n",
        "            final_result.append(w.capitalize())\n",
        "pprint(final_result)"
      ],
      "metadata": {
        "colab": {
          "base_uri": "https://localhost:8080/"
        },
        "id": "iEH5CUEU6Hk6",
        "outputId": "c131ec6e-fb12-40d8-9902-e3c5030d62f2"
      },
      "execution_count": null,
      "outputs": [
        {
          "output_type": "stream",
          "name": "stdout",
          "text": [
            "['Lemon', 'Mango', 'Watermelon']\n"
          ]
        }
      ]
    },
    {
      "cell_type": "code",
      "source": [
        "# Show the same iteration by list comprehensions\n",
        "from pprint import pprint\n",
        "import re\n",
        "\n",
        "fruits_lower = [[\"apple\", \"banana\", \"cherry\"],\n",
        "     [\"date\", \"fig\", \"grape\"],\n",
        "     [\"kiwi\", \"lemon\", \"mango\"],\n",
        "     [\"watermelon\", \"strawberry\", \"orange\"]]\n",
        "\n",
        "# Directly we use the methods first, iterate over each row, for each row in the main object.\n",
        "fruits_capital = [w.capitalize() for row in fruits_lower for word in row for w in re.findall(r'[a-z]*m{1,}[a-z]*', word)]\n",
        "\n",
        "# Show the result\n",
        "pprint(fruits_capital)"
      ],
      "metadata": {
        "colab": {
          "base_uri": "https://localhost:8080/"
        },
        "collapsed": true,
        "id": "XAo1FL-Y02YE",
        "outputId": "3e0ab1fa-a42d-4c66-f358-237200f96ca7"
      },
      "execution_count": null,
      "outputs": [
        {
          "output_type": "stream",
          "name": "stdout",
          "text": [
            "['Lemon', 'Mango', 'Watermelon']\n"
          ]
        }
      ]
    },
    {
      "cell_type": "markdown",
      "source": [
        "We strip the list comprehension and check how to solve it:\n",
        "\n",
        "- generate the list `[ ]`\n",
        "- the output first, `w.capitalize()`\n",
        "- iterate for row in the object fruits_lower\n",
        "- iterate word in each row\n",
        "- filtering w in the regular expression findall, if accomplish the pattern in per each word.\n",
        "\n",
        "The order is important, because sometimes isn't the better solution the list comprehension compared with the classical for...loop, if exists other conditions."
      ],
      "metadata": {
        "id": "Fe8R6li4DPTf"
      }
    },
    {
      "cell_type": "markdown",
      "source": [
        "To understand how the list comprehension, I attach a simple diagram, from this reference https://www.mrdbourke.com/python-list-comprehensions-in-5-minutes/:\n",
        "\n",
        "![](https://cdn-images-1.medium.com/max/800/1*RycJnooSC4_amWAXsvvKhw.png)\n"
      ],
      "metadata": {
        "id": "uW-ophMI20y3"
      }
    },
    {
      "cell_type": "markdown",
      "metadata": {
        "id": "VpGkF23xbCgo"
      },
      "source": [
        "### Pregunta 7 **<font color=\"blue\" size=\"+2\">EG</font>**\n",
        "\n",
        "Enumera **dos** diferencias entre las versiones 2 y 3 de Python.\n",
        "\n",
        "**Respuesta:**"
      ]
    },
    {
      "cell_type": "markdown",
      "metadata": {
        "id": "7nUZfq8ebCgp"
      },
      "source": [
        "Based of the main official reference discussed earlier available at this link: https://docs.python.org/3/whatsnew/3.0.html#changes-already-present-in-python-2-6\n",
        "\n",
        "I enumerate two difference between python2.x versus python3.x\n",
        "\n",
        "The **first difference**, for example, is the `print` built-in function, is one of theirs. Accordingly with the documentation, the `print()` in python2.x couldn't use round brackets.\n",
        "\n",
        "- python2.x : `print \"The old use of built-in function print\"`\n",
        "- python3.x : `print(\"The new use of built-in function print\")`\n",
        "\n",
        "The entire list of the special syntax is describe through **PEP 3105** here: https://peps.python.org/pep-3105/\n",
        "\n",
        "The **second difference** is a special data type `int`. As used in other programming languages, is common have different data type to indicate a integer value. For instance, `int` is used in the python3.x, instead `long` in python2.x\n",
        "\n",
        "The change is described in **PEP 0237** here: https://peps.python.org/pep-0237/\n",
        "\n",
        "My supposition is why the `long` is used in Python2.x because Python run up on the C framework by API. Also there is a special reference:\n",
        "\n",
        "> After some consideration, the second implementation plan was selected, since it is far easier to implement, is backwards compatible at the C API level, and in addition can be implemented partially as a transitional measure.\n",
        "\n",
        "In C programming language exists `long`, `int`, `float`, `double`, like Java. Also SQL use some of the those data type.\n",
        "\n",
        "It's make sense if we consider how many values in the memory consumption the application needs to store within. For this specific explanation, Python is not best suitable language programming due collect a lot of memory and garbage (if we consider to clean as we could)."
      ]
    },
    {
      "cell_type": "markdown",
      "metadata": {
        "id": "BeX2Sl6IbCgq"
      },
      "source": [
        "### Ejercicio 1 **<font color=\"green\" size=\"+2\">MU</font>**\n",
        "\n",
        "Escribe un programa que asigne dos valores enteros `6` y `11` a dos variables con nombre `t` y `w`, calcule el valor de la suma de `t` + `2` , lo multiplique por `w`, le reste 5 y finalmente asigne el valor del cuadrado de la operación anterior una variable llamada `x` y la imprima:\n",
        "\n",
        "x = (((t \\+ 2) \\* w)\\-5)<sup>3</sup>\n",
        "\n",
        "El resultado debe ser 571787\n",
        "\n",
        "**Nota:** No es necesario utilizar ninguna libreria, ni importar ningún módulo."
      ]
    },
    {
      "cell_type": "code",
      "metadata": {
        "id": "xC0zdzuZbCgq",
        "colab": {
          "base_uri": "https://localhost:8080/"
        },
        "outputId": "83f5b5b3-b978-44fb-9e97-dbed5741b1c4"
      },
      "source": [
        "t = 6\n",
        "w = 11\n",
        "\n",
        "# We define new function ejercio1 which return an integer value.\n",
        "def ejercio_1() -> int:\n",
        "    # Assign to x the operation described in the assessment and return it\n",
        "    x = (((t + 2) * w) - 5) ** 3\n",
        "    return x\n",
        "\n",
        "x = ejercio_1()\n",
        "print(x)"
      ],
      "execution_count": null,
      "outputs": [
        {
          "output_type": "stream",
          "name": "stdout",
          "text": [
            "571787\n"
          ]
        }
      ]
    },
    {
      "cell_type": "markdown",
      "source": [
        "**Test**: Utiliza el test que hay a continuación para comprobar que tu programa se comporta como se espera.\n",
        "\n"
      ],
      "metadata": {
        "id": "3pjvpshbdy4q"
      }
    },
    {
      "cell_type": "code",
      "source": [
        "%%ipytest\n",
        "# Test Ejercicio 1\n",
        "def test_ejercicio1():\n",
        "  assert x == 571787"
      ],
      "metadata": {
        "id": "NSMoeqg98JXa",
        "colab": {
          "base_uri": "https://localhost:8080/"
        },
        "outputId": "dd739bc0-a0a5-46c7-902b-5ad377dee8c9"
      },
      "execution_count": null,
      "outputs": [
        {
          "output_type": "stream",
          "name": "stdout",
          "text": [
            "\u001b[32m.\u001b[0m\u001b[32m                                                                                            [100%]\u001b[0m\n",
            "\u001b[32m\u001b[32m\u001b[1m1 passed\u001b[0m\u001b[32m in 0.02s\u001b[0m\u001b[0m\n"
          ]
        }
      ]
    },
    {
      "cell_type": "markdown",
      "metadata": {
        "id": "QPnRoDzobCgq"
      },
      "source": [
        "### Ejercicio 2 **<font color=\"blue\" size=\"+2\">EG</font>**\n",
        "\n",
        "Escribe un programa que defina una lista llamada `meses` cuyos valores sean los nombres de los meses del año. [Ordénalos](https://docs.python.org/es/3/howto/sorting.html) por orden lexicográfico **descendentemente** y asigna la nueva lista a la variable `meses_ordenados`. Finalmente imprime las dos listas.\n",
        "\n",
        "Así pues, el programa debe imprimir por pantalla el siguiente texto:\n",
        "\n",
        "```\n",
        "meses: ['Enero', 'Febrero', 'Marzo', 'Abril', 'Mayo', 'Junio', 'Julio', 'Agosto', 'Septiembre', 'Octubre', 'Noviembre', 'Diciembre']\n",
        "meses_ordenados: ['Septiembre', 'Octubre', 'Noviembre', 'Mayo', 'Marzo', 'Junio', 'Julio', 'Febrero', 'Enero', 'Diciembre', 'Agosto', 'Abril']\n",
        "```"
      ]
    },
    {
      "cell_type": "code",
      "metadata": {
        "id": "DP5eXoYnbCgq",
        "colab": {
          "base_uri": "https://localhost:8080/"
        },
        "outputId": "b99be355-28a0-4a20-ccd5-49f0c789a505"
      },
      "source": [
        "# First of all we define the new list months_list with the months\n",
        "months_list = ['Enero', 'Febrero', 'Marzo', 'Abril', 'Mayo', 'Junio', 'Julio', 'Agosto', 'Septiembre', 'Octubre', 'Noviembre', 'Diciembre']\n",
        "\n",
        "# Define the new function which return a ordered list\n",
        "# using the for the method sorted(meses, reverse=True) which the parameter reverse=True in DESC.\n",
        "def get_desc_ordered_months(iterable : list) -> list:\n",
        "    ordered_months_list = sorted(iterable, reverse=True)\n",
        "    return ordered_months_list\n",
        "\n",
        "meses = months_list\n",
        "print(meses)\n",
        "\n",
        "meses_ordenados = get_desc_ordered_months(meses)\n",
        "print(meses_ordenados)"
      ],
      "execution_count": null,
      "outputs": [
        {
          "output_type": "stream",
          "name": "stdout",
          "text": [
            "['Enero', 'Febrero', 'Marzo', 'Abril', 'Mayo', 'Junio', 'Julio', 'Agosto', 'Septiembre', 'Octubre', 'Noviembre', 'Diciembre']\n",
            "['Septiembre', 'Octubre', 'Noviembre', 'Mayo', 'Marzo', 'Junio', 'Julio', 'Febrero', 'Enero', 'Diciembre', 'Agosto', 'Abril']\n"
          ]
        }
      ]
    },
    {
      "cell_type": "code",
      "source": [
        "%%ipytest\n",
        "# Test Ejercicio 2\n",
        "def test_lista_meses():\n",
        "  assert meses == ['Enero', 'Febrero', 'Marzo', 'Abril', 'Mayo', 'Junio', 'Julio', 'Agosto', 'Septiembre', 'Octubre', 'Noviembre', 'Diciembre']\n",
        "\n",
        "def test_lista_meses_ordenados():\n",
        "  assert meses_ordenados == ['Septiembre', 'Octubre', 'Noviembre', 'Mayo', 'Marzo', 'Junio', 'Julio', 'Febrero', 'Enero', 'Diciembre', 'Agosto', 'Abril']"
      ],
      "metadata": {
        "id": "aPijkXxO_rDQ",
        "colab": {
          "base_uri": "https://localhost:8080/"
        },
        "outputId": "a058c668-b962-414e-e527-18ebec65baac"
      },
      "execution_count": null,
      "outputs": [
        {
          "output_type": "stream",
          "name": "stdout",
          "text": [
            "\u001b[32m.\u001b[0m\u001b[32m.\u001b[0m\u001b[32m                                                                                           [100%]\u001b[0m\n",
            "\u001b[32m\u001b[32m\u001b[1m2 passed\u001b[0m\u001b[32m in 0.01s\u001b[0m\u001b[0m\n"
          ]
        }
      ]
    },
    {
      "cell_type": "markdown",
      "metadata": {
        "id": "aVb7TK1ubCgq"
      },
      "source": [
        "### Ejercicio 3 **<font color=\"blue\" size=\"+2\">EG</font>**\n",
        "Escribe un programa que:\n",
        "\n",
        "* Asigne el área de un círculo con radio igual `21.3` a una variable llamada `area_circulo`.\n",
        "\n",
        "* Asigne el volumen de una esfera con radio igual a `21.3` a la variable llamada `volumen_esfera`.\n",
        "\n",
        "**Nota**: Ambos valores deben ser redondeados al número entero mas cercano.\n",
        "\n",
        "Finalmente, el programa debe imprimir por pantalla ambos valores de la siguiente manera:\n",
        "```\n",
        "Área del círculo de radio 21.3 es 1425\n",
        "Volumen de la esfera de radio 21.3 es 40479\n",
        "```"
      ]
    },
    {
      "cell_type": "code",
      "metadata": {
        "id": "KvnhHe7XbCgr",
        "colab": {
          "base_uri": "https://localhost:8080/"
        },
        "outputId": "9c54ea10-296c-4b09-85ae-5435f3a023a6"
      },
      "source": [
        "# Podéis utilizar la librería math para conseguir el valor de PI:\n",
        "\n",
        "import math\n",
        "print(math.pi)"
      ],
      "execution_count": null,
      "outputs": [
        {
          "output_type": "stream",
          "name": "stdout",
          "text": [
            "3.141592653589793\n"
          ]
        }
      ]
    },
    {
      "cell_type": "code",
      "metadata": {
        "id": "COsqr2zjbCgr",
        "colab": {
          "base_uri": "https://localhost:8080/"
        },
        "outputId": "370e556e-693c-4e57-eea1-32cce6bd76d0"
      },
      "source": [
        "# we define the radius\n",
        "radius = 21.3\n",
        "\n",
        "# To calculate the area of circle we should the follow formula:\n",
        "# A = π • r² (where 'π' is pi, approximately 3.14159, and 'r' is the radius)\n",
        "area_circulo = (math.pi * (radius ** 2))\n",
        "\n",
        "# To calculate the volumen of sphere we should using the follow formula:\n",
        "# V = 4 • π • $r^{3}$ / 3\n",
        "volumen_esfera = (4 * math.pi * (radius ** 3)) / 3\n",
        "\n",
        "# Now, to achieve the assertation, we should to rounded both variables.\n",
        "# Using the built-in function round, we must be sure it returns the nearest integer to its input.\n",
        "area_circulo = round(area_circulo)\n",
        "volumen_esfera = round(volumen_esfera)\n",
        "\n",
        "print(area_circulo)\n",
        "print(volumen_esfera)"
      ],
      "execution_count": null,
      "outputs": [
        {
          "output_type": "stream",
          "name": "stdout",
          "text": [
            "1425\n",
            "40479\n"
          ]
        }
      ]
    },
    {
      "cell_type": "markdown",
      "source": [
        "**Test**: Utiliza el test que hay a continuación para comprobar que tu programa se comporta como se espera.\n",
        "\n"
      ],
      "metadata": {
        "id": "9rWVSXwffPyN"
      }
    },
    {
      "cell_type": "code",
      "source": [
        "%%ipytest\n",
        "# Test Ejercicio 3\n",
        "def test_area_circulo():\n",
        "  assert area_circulo == 1425\n",
        "\n",
        "def test_volumen_esfera():\n",
        "  assert volumen_esfera == 40479"
      ],
      "metadata": {
        "id": "yW1JyNTCBL6w",
        "colab": {
          "base_uri": "https://localhost:8080/"
        },
        "outputId": "8d3f5752-4966-4b1c-b7ac-781880da2ffc"
      },
      "execution_count": null,
      "outputs": [
        {
          "output_type": "stream",
          "name": "stdout",
          "text": [
            "\u001b[32m.\u001b[0m\u001b[32m.\u001b[0m\u001b[32m                                                                                           [100%]\u001b[0m\n",
            "\u001b[32m\u001b[32m\u001b[1m2 passed\u001b[0m\u001b[32m in 0.01s\u001b[0m\u001b[0m\n"
          ]
        }
      ]
    },
    {
      "cell_type": "markdown",
      "metadata": {
        "id": "f0Hxprf6bCgr"
      },
      "source": [
        "### Ejercicio 4 **<font color=\"green\" size=\"+2\">MU</font>**\n",
        "\n",
        "Escribe un programa donde se defina un **diccionario** (estructura de datos Python) llamado `animales` cuyas **claves** sean **todos** los nombres de los continentes y el **valor** una **lista** (estructura de datos Python) con animales endémicos de ese continente. Por ejemplo:\n",
        "\n",
        "```\n",
        "animales -> Europa: Lince ibérico, Bison Europeo, Vaca Suiza\n",
        "            África: León, Elefante Africano, Avestruz\n",
        "            Asia: Pandas Gigantes, Panda rojo, Tigre de bengala\n",
        "            América del Norte: Águilas calvas, Alces americanos, Bisontes americanos\n",
        "            América del Sur: Puma, Tapir, Boa\n",
        "            Antártida: Pingüinos Rey, Foca antártica, Kril antártico\n",
        "            Oceanía: Kiwi común, Demonio de Tasmania, Koala\n",
        "```\n",
        "\n",
        "Un diccionario y una lista son estructuras de datos de Python, por favor repasa la teoria si no lo recuerdas."
      ]
    },
    {
      "cell_type": "code",
      "metadata": {
        "id": "W4eeMEAobCgr"
      },
      "source": [
        "# First we should create objects list to include the elements\n",
        "europa = ['Lince ibérico', 'Bison Europeo', 'Vaca Suiza']\n",
        "africa = ['León', 'Elefante Africano', 'Avestruz']\n",
        "asia = ['Pandas Gigantes', 'Panda rojo', 'Tigre de bengala']\n",
        "america_del_norte = ['Águilas calvas', 'Alces americanos', 'Bisontes americanos']\n",
        "america_del_sur = ['Puma', 'Tapir', 'Boa']\n",
        "antartida = ['Pingüinos Rey', 'Foca antártica', 'Kril antártico']\n",
        "oceania = ['Kiwi común', 'Demonio de Tasmania', 'Koala']\n",
        "\n",
        "# Include continentes\n",
        "continents = ['Europa', 'África', 'Asia', 'América del Norte',\n",
        "              'América del Sur', 'Antártida', 'Oceanía']\n",
        "\n",
        "# Create an iterable list of lists.\n",
        "animal_list = [europa, africa, asia, america_del_norte,\n",
        "               america_del_sur, antartida, oceania]"
      ],
      "execution_count": null,
      "outputs": []
    },
    {
      "cell_type": "code",
      "source": [
        "# to achieve the first dictionary is using Dict Comprehension\n",
        "# iterating continents and animal_list by the index itself for the length of continents.\n",
        "animales = {continents[i]: animal_list[i] for i in range(len(continents))}\n",
        "animales"
      ],
      "metadata": {
        "colab": {
          "base_uri": "https://localhost:8080/"
        },
        "id": "Iu1yhLaTMBav",
        "outputId": "3998ba56-d478-4ad4-d2f1-71a468f670e3"
      },
      "execution_count": null,
      "outputs": [
        {
          "output_type": "execute_result",
          "data": {
            "text/plain": [
              "{'Europa': ['Lince ibérico', 'Bison Europeo', 'Vaca Suiza'],\n",
              " 'África': ['León', 'Elefante Africano', 'Avestruz'],\n",
              " 'Asia': ['Pandas Gigantes', 'Panda rojo', 'Tigre de bengala'],\n",
              " 'América del Norte': ['Águilas calvas',\n",
              "  'Alces americanos',\n",
              "  'Bisontes americanos'],\n",
              " 'América del Sur': ['Puma', 'Tapir', 'Boa'],\n",
              " 'Antártida': ['Pingüinos Rey', 'Foca antártica', 'Kril antártico'],\n",
              " 'Oceanía': ['Kiwi común', 'Demonio de Tasmania', 'Koala']}"
            ]
          },
          "metadata": {},
          "execution_count": 141
        }
      ]
    },
    {
      "cell_type": "markdown",
      "source": [
        "**Test**: Utiliza el test que hay a continuación para comprobar que tu programa se comporta como se espera.\n",
        "\n"
      ],
      "metadata": {
        "id": "HkST5lKZfURN"
      }
    },
    {
      "cell_type": "code",
      "source": [
        "%%ipytest\n",
        "# Test Ejercicio 4\n",
        "def test_longitud_diccionario():\n",
        "  assert len(animales.keys()) >= 5\n",
        "\n",
        "def test_keys():\n",
        "  assert set(animales.keys()).issubset({'Europa', 'África', 'Asia', 'América del Norte', 'América del Sur', 'Antártida', 'Oceanía'})\n",
        "\n",
        "def test_values():\n",
        "  assert all(isinstance(value, list) and len(value) >=1 for value in animales.values())\n",
        "  assert all(isinstance(item, str) for value in animales.values() for item in value)\n"
      ],
      "metadata": {
        "id": "nuBbZhXkENtO",
        "colab": {
          "base_uri": "https://localhost:8080/"
        },
        "outputId": "1a230010-092e-4a88-f9ef-69503054b5e7"
      },
      "execution_count": null,
      "outputs": [
        {
          "output_type": "stream",
          "name": "stdout",
          "text": [
            "\u001b[32m.\u001b[0m\u001b[32m.\u001b[0m\u001b[32m.\u001b[0m\u001b[32m                                                                                          [100%]\u001b[0m\n",
            "\u001b[32m\u001b[32m\u001b[1m3 passed\u001b[0m\u001b[32m in 0.01s\u001b[0m\u001b[0m\n"
          ]
        }
      ]
    },
    {
      "cell_type": "code",
      "source": [
        "# Another alternative using zip, which map each element from each list passed as arguments.\n",
        "# It's important to have the same length of elements per object, otherwise the process fails.\n",
        "\n",
        "# We create an empy dictionary\n",
        "animales = dict()\n",
        "\n",
        "# Populate the keys\n",
        "animales = animales.fromkeys(continents)\n",
        "\n",
        "# Finally per each key we update the value using zip function\n",
        "animales = {k: v for k,v in zip(continents, animal_list)}\n",
        "animales"
      ],
      "metadata": {
        "colab": {
          "base_uri": "https://localhost:8080/"
        },
        "id": "OujZFBLEQfcI",
        "outputId": "a4d3c930-73ca-40ce-d4d1-ac157ecd14d1"
      },
      "execution_count": null,
      "outputs": [
        {
          "output_type": "execute_result",
          "data": {
            "text/plain": [
              "{'Europa': ['Lince ibérico', 'Bison Europeo', 'Vaca Suiza'],\n",
              " 'África': ['León', 'Elefante Africano', 'Avestruz'],\n",
              " 'Asia': ['Pandas Gigantes', 'Panda rojo', 'Tigre de bengala'],\n",
              " 'América del Norte': ['Águilas calvas',\n",
              "  'Alces americanos',\n",
              "  'Bisontes americanos'],\n",
              " 'América del Sur': ['Puma', 'Tapir', 'Boa'],\n",
              " 'Antártida': ['Pingüinos Rey', 'Foca antártica', 'Kril antártico'],\n",
              " 'Oceanía': ['Kiwi común', 'Demonio de Tasmania', 'Koala']}"
            ]
          },
          "metadata": {},
          "execution_count": 144
        }
      ]
    },
    {
      "cell_type": "code",
      "source": [
        "# I have to use the same test assertion to pass and validate the program\n",
        "%%ipytest\n",
        "# Test Ejercicio 4\n",
        "def test_longitud_diccionario():\n",
        "  assert len(animales.keys()) >= 5\n",
        "\n",
        "def test_keys():\n",
        "  assert set(animales.keys()).issubset({'Europa', 'África', 'Asia', 'América del Norte', 'América del Sur', 'Antártida', 'Oceanía'})\n",
        "\n",
        "def test_values():\n",
        "  assert all(isinstance(value, list) and len(value) >=1 for value in animales.values())\n",
        "  assert all(isinstance(item, str) for value in animales.values() for item in value)\n"
      ],
      "metadata": {
        "colab": {
          "base_uri": "https://localhost:8080/"
        },
        "id": "V2j8xJgYQ5A0",
        "outputId": "28b1dcf5-6505-4ba3-a1cd-773446776817"
      },
      "execution_count": null,
      "outputs": [
        {
          "output_type": "stream",
          "name": "stdout",
          "text": [
            "\u001b[32m.\u001b[0m\u001b[32m.\u001b[0m\u001b[32m.\u001b[0m\u001b[32m                                                                                          [100%]\u001b[0m\n",
            "\u001b[32m\u001b[32m\u001b[1m3 passed\u001b[0m\u001b[32m in 0.01s\u001b[0m\u001b[0m\n"
          ]
        }
      ]
    },
    {
      "cell_type": "markdown",
      "metadata": {
        "id": "Tfweyrm8bCgr"
      },
      "source": [
        "### Ejercicio 5 **<font color=\"blue\" size=\"+2\">EG</font>**\n",
        "\n",
        "Escribe un programa que asigne a la variable `version` e imprima la versión del intérprete de Python que se está ejecutando. Por ejemplo:\n",
        "\n",
        "```python\n",
        "3.6\n",
        "```"
      ]
    },
    {
      "cell_type": "code",
      "metadata": {
        "id": "4RII-WDobCgs",
        "colab": {
          "base_uri": "https://localhost:8080/"
        },
        "outputId": "3f282daa-0735-4db7-d86d-9eb00ae72119"
      },
      "source": [
        "# In that specific case we import the package sys to use the method version\n",
        "import sys\n",
        "\n",
        "def get_version():\n",
        "    py_version = sys.version\n",
        "    return py_version\n",
        "\n",
        "version = get_version()\n",
        "print(version)"
      ],
      "execution_count": null,
      "outputs": [
        {
          "output_type": "stream",
          "name": "stdout",
          "text": [
            "3.12.11 (main, Jun  4 2025, 08:56:18) [GCC 11.4.0]\n"
          ]
        }
      ]
    },
    {
      "cell_type": "markdown",
      "source": [
        "**Test**: Utiliza el test que hay a continuación para comprobar que tu programa se comporta como se espera.\n",
        "\n"
      ],
      "metadata": {
        "id": "R7Pp3cSYfWj6"
      }
    },
    {
      "cell_type": "code",
      "source": [
        "%%ipytest\n",
        "# Test Ejercicio 5\n",
        "def test_version():\n",
        "  assert version == sys.version"
      ],
      "metadata": {
        "id": "_3-AMMR5JGq4",
        "colab": {
          "base_uri": "https://localhost:8080/"
        },
        "outputId": "07c07d7a-fa6a-4cc2-d399-252e83055f81"
      },
      "execution_count": null,
      "outputs": [
        {
          "output_type": "stream",
          "name": "stdout",
          "text": [
            "\u001b[32m.\u001b[0m\u001b[32m                                                                                            [100%]\u001b[0m\n",
            "\u001b[32m\u001b[32m\u001b[1m1 passed\u001b[0m\u001b[32m in 0.01s\u001b[0m\u001b[0m\n"
          ]
        }
      ]
    },
    {
      "cell_type": "markdown",
      "metadata": {
        "id": "zICZkAQpbCgs"
      },
      "source": [
        "### Ejercicio 6 **<font color=\"blue\" size=\"+2\">EG</font>**\n",
        "\n",
        "Escribe un programa que asigne a la variable `tiempo_actual` e imprima la fecha y la hora actuales utilizando la libreria `datetime`.\n"
      ]
    },
    {
      "cell_type": "code",
      "metadata": {
        "id": "hA2XuShibCgs",
        "colab": {
          "base_uri": "https://localhost:8080/"
        },
        "outputId": "c0208053-2f8d-401e-d293-91555dda6f33"
      },
      "source": [
        "# To achieve that problem, we import datetime and use now() method.\n",
        "import datetime\n",
        "\n",
        "def get_datetime_now():\n",
        "    return datetime.datetime.now()\n",
        "\n",
        "tiempo_actual = get_datetime_now()\n",
        "print(tiempo_actual)"
      ],
      "execution_count": null,
      "outputs": [
        {
          "output_type": "stream",
          "name": "stdout",
          "text": [
            "2025-10-05 11:11:09.090394\n"
          ]
        }
      ]
    },
    {
      "cell_type": "markdown",
      "source": [
        "**Test**: Utiliza el test que hay a continuación para comprobar que tu programa se comporta como se espera.\n",
        "\n"
      ],
      "metadata": {
        "id": "MVEeMlfafXvl"
      }
    },
    {
      "cell_type": "code",
      "source": [
        "%%ipytest\n",
        "# Test Ejercicio 6\n",
        "def test_tiempo_actual():\n",
        "  assert datetime.datetime.now() - tiempo_actual < datetime.timedelta(hours = 1.0)"
      ],
      "metadata": {
        "id": "NRnHKIe1KK5V",
        "colab": {
          "base_uri": "https://localhost:8080/"
        },
        "outputId": "1c4e0dcb-d4df-4c22-d229-cab9519ff252"
      },
      "execution_count": null,
      "outputs": [
        {
          "output_type": "stream",
          "name": "stdout",
          "text": [
            "\u001b[32m.\u001b[0m\u001b[32m                                                                                            [100%]\u001b[0m\n",
            "\u001b[32m\u001b[32m\u001b[1m1 passed\u001b[0m\u001b[32m in 0.01s\u001b[0m\u001b[0m\n"
          ]
        }
      ]
    },
    {
      "cell_type": "markdown",
      "metadata": {
        "id": "tXb3CKgVbCgt"
      },
      "source": [
        "### Ejercicio 7 **<font color=\"blue\" size=\"+2\">EG</font>**\n",
        "\n",
        "Escribe un programa que calcule el número de días entre estas dos fechas lo asigne a la variable `dias` y lo imprima.\n",
        "\n",
        "`01/12/1964`\n",
        "\n",
        "`31/12/2025`\n",
        "\n",
        "El resultado debe asignarse a la variable días e imprimirse por pantalla. Así pues, el resultado por pantalla de la ejecución de tu programa debe ser:\n",
        " ```\n",
        " 22310\n",
        " ```"
      ]
    },
    {
      "cell_type": "code",
      "source": [
        "# As the previous exercise 6, we import datetime and using methods to calculate timedelta\n",
        "from datetime import datetime\n",
        "\n",
        "start_date = '01/12/1964'\n",
        "end_date = '31/12/2025'\n",
        "\n",
        "# The first step is convert both string variables start_date and end_date in the correct date format\n",
        "start_date_formatted = datetime.strptime(start_date, \"%d/%m/%Y\")\n",
        "end_date_formatted = datetime.strptime(end_date, \"%d/%m/%Y\")\n",
        "print(start_date_formatted)\n",
        "print(end_date_formatted)"
      ],
      "metadata": {
        "colab": {
          "base_uri": "https://localhost:8080/"
        },
        "id": "Pc8_HdU-RXZO",
        "outputId": "8fbc244d-695d-4096-fccc-3ad01b420008"
      },
      "execution_count": null,
      "outputs": [
        {
          "output_type": "stream",
          "name": "stdout",
          "text": [
            "1964-12-01 00:00:00\n",
            "2025-12-31 00:00:00\n"
          ]
        }
      ]
    },
    {
      "cell_type": "code",
      "source": [
        "# Finally, we be able to calculate the timedelta, using days as method\n",
        "dias = (end_date_formatted - start_date_formatted).days\n",
        "dias"
      ],
      "metadata": {
        "colab": {
          "base_uri": "https://localhost:8080/"
        },
        "id": "G4Gac9e3VDUz",
        "outputId": "ca0df485-ceb3-4e4a-e31b-00412807fda8"
      },
      "execution_count": null,
      "outputs": [
        {
          "output_type": "execute_result",
          "data": {
            "text/plain": [
              "22310"
            ]
          },
          "metadata": {},
          "execution_count": 151
        }
      ]
    },
    {
      "cell_type": "markdown",
      "source": [
        "**Test**: Utiliza el test que hay a continuación para comprobar que tu programa se comporta como se espera.\n",
        "\n"
      ],
      "metadata": {
        "id": "_B47cdG1fbTI"
      }
    },
    {
      "cell_type": "code",
      "source": [
        "%%ipytest\n",
        "# Test Ejercicio 7\n",
        "def test_dias():\n",
        "  assert dias == 22310"
      ],
      "metadata": {
        "id": "Tivc_LOUMWoz",
        "colab": {
          "base_uri": "https://localhost:8080/"
        },
        "outputId": "26f6c6fb-8abe-49b4-db0e-4a96f3dd5626"
      },
      "execution_count": null,
      "outputs": [
        {
          "output_type": "stream",
          "name": "stdout",
          "text": [
            "\u001b[32m.\u001b[0m\u001b[32m                                                                                            [100%]\u001b[0m\n",
            "\u001b[32m\u001b[32m\u001b[1m1 passed\u001b[0m\u001b[32m in 0.01s\u001b[0m\u001b[0m\n"
          ]
        }
      ]
    },
    {
      "cell_type": "markdown",
      "source": [
        "## Materiales de consulta\n",
        "\n",
        "Tenéis acceso gratuito a estos cursos con la matricula de la UOC.\n",
        "\n",
        "**Libros**\n",
        "\n",
        "[Bassi, Sebastian Python for Bioinformatics.](https://discovery.biblioteca.uoc.edu/discovery/fulldisplay?docid=alma991000619449706712&context=L&vid=34CSUC_UOC:VU1&lang=ca&search_scope=MyInst_and_CI&adaptor=Local%20Search%20Engine&isFrbr=true&tab=Everything&query=any,contains,Python%20for%20bioinformatics&offset=0) Acceso a través de la biblioteca online de la UOC\n",
        "\n",
        "[Youens-Clark, Ken Mastering Python for Bioinformatics.](https://discovery.biblioteca.uoc.edu/discovery/fulldisplay?docid=alma991000734484706712&context=L&vid=34CSUC_UOC:VU1&lang=ca&search_scope=MyInst_and_CI&adaptor=Local%20Search%20Engine&tab=Everything&query=any,contains,mastering%20python%20for%20bioinformatics&offset=0) Acceso a través de la biblioteca online de la UOC\n",
        "\n",
        "**Webs**\n",
        "\n",
        "[Manual de Google Colab](https://research.google.com/colaboratory/faq.html)"
      ],
      "metadata": {
        "id": "EVIX99_unOhU"
      }
    },
    {
      "cell_type": "markdown",
      "metadata": {
        "id": "lANkz41jbMFH"
      },
      "source": [
        "**Autoria**\n",
        "\n",
        "Autores que han participado colectivamente en esta obra:\n",
        "\n",
        "\n",
        "*   Pau Andrio Balado\n",
        "*   Brian Jiménez García\n",
        "*   Melchor Sanchez Martinez\n",
        "*   Joan Muniesa Rubio\n",
        "\n",
        "**Fecha de creación**\n",
        "\n",
        "*   Ultima modificación: Septiembre 2025"
      ]
    }
  ]
}